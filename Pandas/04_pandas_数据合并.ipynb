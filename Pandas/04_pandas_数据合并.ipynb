{
 "cells": [
  {
   "cell_type": "code",
   "execution_count": null,
   "id": "initial_id",
   "metadata": {
    "collapsed": true
   },
   "outputs": [],
   "source": [
    "# 导包\n",
    "import pandas as pd\n",
    "import os\n",
    "os.chdir(r'D:\\PycharmProjects\\pythonStudy\\Pandas')"
   ]
  },
  {
   "cell_type": "code",
   "execution_count": null,
   "outputs": [],
   "source": [
    "# 准备数据.\n",
    "left = pd.DataFrame({'key1': ['K0', 'K0', 'K1', 'K2'],\n",
    "                        'key2': ['K0', 'K1', 'K0', 'K1'],\n",
    "                        'A': ['A0', 'A1', 'A2', 'A3'],\n",
    "                        'B': ['B0', 'B1', 'B2', 'B3']})\n",
    "\n",
    "right = pd.DataFrame({'key1': ['K0', 'K1', 'K1', 'K2'],\n",
    "                        'key2': ['K0', 'K0', 'K0', 'K0'],\n",
    "                        'C': ['C0', 'C1', 'C2', 'C3'],\n",
    "                        'D': ['D0', 'D1', 'D2', 'D3']})\n",
    "df3 = pd.DataFrame({'key1': ['K0', 'K1', 'K1', 'K2'],\n",
    "                        'key2': ['K0', 'K0', 'K0', 'K0'],\n",
    "                        'E': ['E0', 'E1', 'E2', 'E3'],\n",
    "                        'F': ['F0', 'F1', 'F2', 'F3']},index=[10, 11, 12, 13])"
   ],
   "metadata": {
    "collapsed": false
   },
   "id": "ef6fc009d73c12f8"
  },
  {
   "cell_type": "code",
   "execution_count": null,
   "outputs": [],
   "source": [
    "# 1. 查看数据.\n",
    "left\n",
    "right"
   ],
   "metadata": {
    "collapsed": false
   },
   "id": "8be408d82c17dd56"
  },
  {
   "cell_type": "markdown",
   "source": [
    "# 1. 演示 pd.concat() 合并方式"
   ],
   "metadata": {
    "collapsed": false
   },
   "id": "ffefa23379a0a823"
  },
  {
   "cell_type": "code",
   "execution_count": null,
   "outputs": [],
   "source": [
    "df_data={\n",
    "    'col1': [66, 6, 8,6,6,8],\n",
    "    'col2': [25, 26, 50,25, 26, 50],\n",
    "    'col3': [81, 50, 56,81, 50, 56] \n",
    "}\n",
    "dfl=pd.DataFrame(df_data)\n",
    "df1_data={\n",
    "    'col7': [66, 6, 3],\n",
    "    'col5': [2, 2, 5],\n",
    "    'col6': [8, 5, 6] \n",
    "}\n",
    "dfr=pd.DataFrame(df1_data)\n",
    "dfr"
   ],
   "metadata": {
    "collapsed": false
   },
   "id": "558ca154ed30d03d"
  },
  {
   "cell_type": "code",
   "execution_count": null,
   "outputs": [],
   "source": [
    "dfl.groupby('col1')['col2'].transform('mean')"
   ],
   "metadata": {
    "collapsed": false
   },
   "id": "e028b0ffcd2fc31b"
  },
  {
   "cell_type": "code",
   "execution_count": null,
   "outputs": [],
   "source": [
    "dfl.groupby('col1')['col2'].mean()"
   ],
   "metadata": {
    "collapsed": false
   },
   "id": "d77397fc0fb358b5"
  },
  {
   "cell_type": "code",
   "execution_count": null,
   "outputs": [],
   "source": [
    "pd.concat([dfl,dfr],axis=1)"
   ],
   "metadata": {
    "collapsed": false
   },
   "id": "8eac5d85b410217a"
  },
  {
   "cell_type": "code",
   "execution_count": null,
   "outputs": [],
   "source": [
    "pd.merge(dfl,dfr)"
   ],
   "metadata": {
    "collapsed": false
   },
   "id": "66746776b91b9a43"
  },
  {
   "cell_type": "code",
   "execution_count": null,
   "outputs": [],
   "source": [
    "# 1. 合并left 和 right, 默认是: 纵向合并(0 -> 列), 参考: 列名.\n",
    "# 即: 列名一样的合并, 不一样的有值就用值填充, 无值就用NaN填充. \n",
    "pd.concat([left, right])\n",
    "pd.concat([left, right], axis=0)                       # 纵向合并 -> 列合并.\n",
    "pd.concat([left, right], axis=0, ignore_index=True)    # 纵向合并 -> 列合并, 忽略索引."
   ],
   "metadata": {
    "collapsed": false
   },
   "id": "b4f218fbee1faa55"
  },
  {
   "cell_type": "code",
   "execution_count": null,
   "outputs": [],
   "source": [
    "# 2. 合并left 和 right, 指定: 横向合并(1 -> 行), 参考: 行索引.\n",
    "pd.concat([left, right], axis=1)    # 横向合并 -> 行合并(axis = 1)\n",
    "\n",
    "# 验证: 横向合并参考行索引, 不匹配用NaN填充.\n",
    "pd.concat([left, df3], axis=1)      # 横向合并 -> 行合并(axis = 1)"
   ],
   "metadata": {
    "collapsed": false
   },
   "id": "f3225f2f710e0e3d"
  },
  {
   "cell_type": "code",
   "execution_count": null,
   "outputs": [],
   "source": [
    "# pd.concat()总结:  \n",
    "#   1. 可以同时拼接多个df对象.    \n",
    "#   2. concat可以做行合并(axis=1, 横向合并), 也可以做列合并(axis=0, 纵向合并, 默认的).    \n",
    "#   3. 行合并参考行索引, 列合并参考列名, 不匹配用NaN填充.\n",
    "#   4. concat()默认是: outer(满外连接)\n",
    "\n",
    "pd.concat([left, right, df3])"
   ],
   "metadata": {
    "collapsed": false
   },
   "id": "d4fd73fa7a288e30"
  },
  {
   "cell_type": "markdown",
   "source": [
    "# 2. 演示 pd.merge() 合并方式"
   ],
   "metadata": {
    "collapsed": false
   },
   "id": "751431373d1dacef"
  },
  {
   "cell_type": "code",
   "execution_count": null,
   "outputs": [],
   "source": [
    "# 1. 查看源数据\n",
    "left\n",
    "right\n",
    "\n",
    "# pd.merge总结:  \n",
    "#   1. 一次只能合并两个df对象.    \n",
    "#   2. merge()只能做 行的合并, 即: 横向合并.   \n",
    "#   3. 行合并时参考: 关联字段, 类似于 MySQL的 join连接查询. \n",
    "#   4. merge()默认是: 内连接\n"
   ],
   "metadata": {
    "collapsed": false
   },
   "id": "c9cc95cd7c2a3e25"
  },
  {
   "cell_type": "code",
   "execution_count": null,
   "outputs": [],
   "source": [
    "# 场景1: 用1个字段做关联. \n",
    "# 2. 演示: 左外连接.\n",
    "# 参1: 第1个df对象.\n",
    "# 参2: 第2个df对象,\n",
    "# 参3: 连接方式 -> left(左外连接), right(右外连接), inner(内连接), outer(全连接, 满外连接).\n",
    "pd.merge(left, right, how='left', on='key1')\n",
    "\n",
    "# 3. 演示: 右外连接\n",
    "pd.merge(left, right, how='right', on='key1')\n",
    "\n",
    "# 4. 演示: 内连接\n",
    "pd.merge(left, right, how='inner', on='key1')\n",
    "pd.merge(left, right, on='key1')        # 效果同上, 默认是内连接.\n",
    "\n",
    "# 5. 演示: 满外连接.\n",
    "pd.merge(left, right, how='outer', on='key1')"
   ],
   "metadata": {
    "collapsed": false
   },
   "id": "683761adcffc45e"
  },
  {
   "cell_type": "code",
   "execution_count": null,
   "outputs": [],
   "source": [
    "# 场景2: 用 多个字段(这里是2个字段做关联)\n",
    "# 1. 演示: 内连接.  关联字段是: key1 和 key2 作为整体进行关联.             两个df的交集.\n",
    "pd.merge(left, right, how='inner', on=['key1', 'key2'])\n",
    "pd.merge(left, right, on=['key1', 'key2']) # 效果同上, 默认是: 内连接.\n",
    "\n",
    "# 2. 演示: 左外连接, 关联字段是: key1 和 key2 作为整体进行关联.             左边df的全集 + 右边df的交集\n",
    "pd.merge(left, right, how='left', on=['key1', 'key2'])\n",
    "\n",
    "# 3. 演示: 右外连接, 关联字段是: key1 和 key2 作为整体进行关联.             右边df的全集 + 左边df的交集\n",
    "pd.merge(left, right, how='right', on=['key1', 'key2'])\n",
    "\n",
    "# 4. 演示: 满外连接, 关联字段是: key1 和 key2 作为整体进行关联.             左边df的全集 + 左右边df的交集 + 右边df的全集\n",
    "pd.merge(left, right, how='outer', on=['key1', 'key2'])\n",
    "pd.merge(left, right, how='outer', on=['key1', 'key2'])"
   ],
   "metadata": {
    "collapsed": false
   },
   "id": "b68db26a10de2116"
  }
 ],
 "metadata": {
  "kernelspec": {
   "display_name": "Python 3",
   "language": "python",
   "name": "python3"
  },
  "language_info": {
   "codemirror_mode": {
    "name": "ipython",
    "version": 2
   },
   "file_extension": ".py",
   "mimetype": "text/x-python",
   "name": "python",
   "nbconvert_exporter": "python",
   "pygments_lexer": "ipython2",
   "version": "2.7.6"
  }
 },
 "nbformat": 4,
 "nbformat_minor": 5
}
