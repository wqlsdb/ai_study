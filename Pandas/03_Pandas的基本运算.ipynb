{
 "cells": [
  {
   "cell_type": "code",
   "execution_count": null,
   "id": "initial_id",
   "metadata": {
    "collapsed": true
   },
   "outputs": [],
   "source": [
    "# 导包\n",
    "import pandas as pd\n",
    "import os\n",
    "# 改变相对路径\n",
    "os.chdir(r'D:\\PycharmProjects\\pythonStudy\\Pandas')\n",
    "print(os.getcwd())"
   ]
  },
  {
   "cell_type": "code",
   "execution_count": null,
   "outputs": [],
   "source": [
    "# 1. 准备数据.\n",
    "df = pd.read_csv('./data/stock_day.csv')\n",
    "df.drop(['ma5', 'ma10', 'ma20', 'v_ma5', 'v_ma10', 'v_ma20'], axis=1, inplace=True) \n",
    "df"
   ],
   "metadata": {
    "collapsed": false
   },
   "id": "9489ab31937c8b90"
  },
  {
   "cell_type": "markdown",
   "source": [
    "# 1.基础的运算"
   ],
   "metadata": {
    "collapsed": false
   },
   "id": "4257a073f0af6a4f"
  },
  {
   "cell_type": "code",
   "execution_count": null,
   "outputs": [],
   "source": [
    "df.iloc[2:8:2,0:8]"
   ],
   "metadata": {
    "collapsed": false
   },
   "id": "47ad7e2ab486ad22"
  },
  {
   "cell_type": "code",
   "execution_count": null,
   "outputs": [],
   "source": [
    "# df.iloc[2:8:2,0:3]\n",
    "df.loc['2018-02-27':'2018-02-12',['open','high']]"
   ],
   "metadata": {
    "collapsed": false
   },
   "id": "cb23af160c534fd4"
  },
  {
   "cell_type": "code",
   "execution_count": null,
   "outputs": [],
   "source": [
    "df.loc['2018-02-27':'2018-02-22',['open','high','close']]+df.iloc[0:8:2,:3]"
   ],
   "metadata": {
    "collapsed": false
   },
   "id": "45b56d74f8423116"
  },
  {
   "cell_type": "code",
   "execution_count": null,
   "outputs": [],
   "source": [
    "df.loc['2018-02-27':'2018-02-22',['open','high','close']]"
   ],
   "metadata": {
    "collapsed": false
   },
   "id": "decb4fafd7585182"
  },
  {
   "cell_type": "code",
   "execution_count": null,
   "outputs": [],
   "source": [
    "df.add(1)"
   ],
   "metadata": {
    "collapsed": false
   },
   "id": "3a3bade4ef7006ae"
  },
  {
   "cell_type": "code",
   "execution_count": null,
   "outputs": [],
   "source": [
    "df"
   ],
   "metadata": {
    "collapsed": false
   },
   "id": "e18e96a6dfd7ca7c"
  },
  {
   "cell_type": "code",
   "execution_count": null,
   "outputs": [],
   "source": [
    "# 结论1: 数值和Series 或者 DataFrame运算, 是和其中的每个元素进行运算的.\n",
    "# 结论2: Series和Series运算 或者 DataFrame和DataFrame运算, 优先按照行索引匹配的值进行运算, 不匹配的用NaN填充. \n",
    "\n",
    "# 需求1: 给open的列值增加 1     Series的运算, 发现: 数值会和Series中的每个元素进行运算. \n",
    "# df.open + 1       # 临时增加1, 没有修改原数据.\n",
    "df.open.add(1)      # 效果同上.\n",
    "\n",
    "# 会修改原数据.\n",
    "df.open += 1\n",
    "df"
   ],
   "metadata": {
    "collapsed": false
   },
   "id": "d5680573ff5e04af"
  },
  {
   "cell_type": "code",
   "execution_count": null,
   "outputs": [],
   "source": [
    "# 需求2: 给open的列值减少1\n",
    "df.open -= 1\n",
    "df\n",
    "\n",
    "# df.open - 1\n",
    "# df.open.sub(1)"
   ],
   "metadata": {
    "collapsed": false
   },
   "id": "b9e55583032cb069"
  },
  {
   "cell_type": "code",
   "execution_count": null,
   "outputs": [],
   "source": [
    "# 需求3: DataFrame 和 数值运算.   DataFrame和数值运算, 发现: 数值会和DataFrame中的每个元素进行运算.\n",
    "df + 1"
   ],
   "metadata": {
    "collapsed": false
   },
   "id": "d9d01cea2a2d0418"
  },
  {
   "cell_type": "code",
   "execution_count": null,
   "outputs": [],
   "source": [
    "# 需求4: Series 和 Series运算, 对应元素进行计算, 不匹配的用NaN填充. \n",
    "# df.open\n",
    "# df.close\n",
    "# df.open + df.close\n",
    "\n",
    "df.open.head(5) + df.close.head(3)"
   ],
   "metadata": {
    "collapsed": false
   },
   "id": "d64f7cc5c179afca"
  },
  {
   "cell_type": "code",
   "execution_count": null,
   "outputs": [],
   "source": [
    "# 需求5: DataFrame 和 DataFrame运算, 对应元素进行计算, 不匹配的用NaN填充.\n",
    "df.head(5) + df.head(3)"
   ],
   "metadata": {
    "collapsed": false
   },
   "id": "9857d17f544683b9"
  },
  {
   "cell_type": "code",
   "execution_count": null,
   "outputs": [],
   "source": [
    "# 需求6: 演示运算时优先参考行索引.\n",
    "df.open.head(5) + df.open.tail(5)\n",
    "df.head(5) + df.tail(3)"
   ],
   "metadata": {
    "collapsed": false
   },
   "id": "a3491097919f1a4f"
  },
  {
   "cell_type": "markdown",
   "source": [
    "# 2. 逻辑运算符"
   ],
   "metadata": {
    "collapsed": false
   },
   "id": "a30a37be1a19944"
  },
  {
   "cell_type": "markdown",
   "source": [
    "## 2.1 逻辑运算符符号 演示"
   ],
   "metadata": {
    "collapsed": false
   },
   "id": "3cc715c17386d6cd"
  },
  {
   "cell_type": "code",
   "execution_count": null,
   "outputs": [],
   "source": [
    "# 1. 查看源数据.\n",
    "df"
   ],
   "metadata": {
    "collapsed": false
   },
   "id": "aa7313a0adab5038"
  },
  {
   "cell_type": "code",
   "execution_count": null,
   "outputs": [],
   "source": [
    "# 2. 在Pandas中, 支持结合布尔值的操作来获取数据. \n",
    "df.head(5).loc[['2018-02-27', '2018-02-23', '2018-02-22']]\n",
    "df.head(5).iloc[[0, 2, 3]]\n",
    "\n",
    "# df.head(6)[[True, False, True, True, False]]        # 报错, 数据条数 和 布尔值的个数不匹配\n",
    "df.head(5)[[True, False, True, True, False]]"
   ],
   "metadata": {
    "collapsed": false
   },
   "id": "a67069d4c101927d"
  },
  {
   "cell_type": "code",
   "execution_count": null,
   "outputs": [],
   "source": [
    "# df.sort_values('open',ascending=False)>33\n",
    "df[df.open>33].sort_values('open',ascending=False)"
   ],
   "metadata": {
    "collapsed": false
   },
   "id": "92d8909d28c656c7"
  },
  {
   "cell_type": "code",
   "execution_count": null,
   "outputs": [],
   "source": [
    "df[df.open>23].sort_values('open')"
   ],
   "metadata": {
    "collapsed": false
   },
   "id": "d0bdca3ffe97961b"
  },
  {
   "cell_type": "code",
   "execution_count": null,
   "outputs": [],
   "source": [
    "# 需求1: 筛选出 df中 所有 open价格在23以上的 数据. \n",
    "# df.open > 23      # 643个True 或者 False -> 布尔值\n",
    "df[df.open > 23]\n",
    "\n",
    "df[df.open > 23].sort_values('open', ascending=True)\n",
    "df[df.open > 23].sort_values('open', ascending=False)"
   ],
   "metadata": {
    "collapsed": false
   },
   "id": "3c6c7707d45e20a5"
  },
  {
   "cell_type": "code",
   "execution_count": null,
   "outputs": [],
   "source": [
    "# 需求2: 筛选出 df中 所有 open价格在 [23, 24] 之间的数据. \n",
    "df[(df.open >= 23) & (df.open <= 24)]           # &: 逻辑与, 并且的意思\n",
    "df[(df['open'] >= 23) & (df['open'] <= 24)]     # 效果同上\n",
    "\n",
    "# df[(df.open >= 23) & (df.open <= 24)].sort_values('open', ascending=True)\n",
    "# df[(df.open >= 23) & (df.open <= 24)].sort_values('open', ascending=False)"
   ],
   "metadata": {
    "collapsed": false
   },
   "id": "db00ed732e88dd47"
  },
  {
   "cell_type": "markdown",
   "source": [
    "## 2.2 逻辑运算函数, query(), isin()"
   ],
   "metadata": {
    "collapsed": false
   },
   "id": "7983989c7a9fd197"
  },
  {
   "cell_type": "code",
   "execution_count": null,
   "outputs": [],
   "source": [
    "# 1. 查看原函数\n",
    "df"
   ],
   "metadata": {
    "collapsed": false
   },
   "id": "9288cd757fbd2272"
  },
  {
   "cell_type": "code",
   "execution_count": null,
   "outputs": [],
   "source": [
    "df[(df.open>22) & (df.open<=23)]"
   ],
   "metadata": {
    "collapsed": false
   },
   "id": "a3ad355600401c3"
  },
  {
   "cell_type": "code",
   "execution_count": null,
   "outputs": [],
   "source": [
    "df.query('open>=23 & open <24')"
   ],
   "metadata": {
    "collapsed": false
   },
   "id": "ea3bd2c19158fa9a"
  },
  {
   "cell_type": "code",
   "execution_count": null,
   "outputs": [],
   "source": [
    "df.query('open in [22,24]')"
   ],
   "metadata": {
    "collapsed": false
   },
   "id": "4db2e7dd5ca53a50"
  },
  {
   "cell_type": "code",
   "execution_count": null,
   "outputs": [],
   "source": [
    "df.query('open in [22,24]').cumsum()"
   ],
   "metadata": {
    "collapsed": false
   },
   "id": "1f98ea331240c72a"
  },
  {
   "cell_type": "code",
   "execution_count": null,
   "outputs": [],
   "source": [
    "# 2. query(直接写比较表达式即可.)\n",
    "# 需求: 筛选出 df中 所有 open价格在 [23, 24] 之间的数据. \n",
    "# df.query('open >= 23')\n",
    "df.query('open >= 23 & open <= 24')"
   ],
   "metadata": {
    "collapsed": false
   },
   "id": "af6797201c1498a9"
  },
  {
   "cell_type": "code",
   "execution_count": null,
   "outputs": [],
   "source": [
    "# 3. isin([值1, 值2...]) 判断是否是 其中的任意1个值.\n",
    "# 需求:  筛选出df中价格为 23.80 或者 25.60的数据. \n",
    "df[(df.open == 23.80) | (df.open == 25.60)]     # | 逻辑或, 或者的意思.\n",
    "df.query('open == 23.80 or open == 25.60')\n",
    "df.query('open in [23.80, 25.60]')\n",
    "\n",
    "# isin([值1, 值2...])   是否是其中的任意某个值, 是: True, 否: False.\n",
    "df[df.open.isin([23.80, 25.60])]"
   ],
   "metadata": {
    "collapsed": false
   },
   "id": "153132417cdd8fa0"
  },
  {
   "cell_type": "code",
   "execution_count": null,
   "outputs": [],
   "source": [
    "# df['open']>25\n",
    "df[df['open']>25]"
   ],
   "metadata": {
    "collapsed": false
   },
   "id": "a6fca121fd738f04"
  },
  {
   "cell_type": "markdown",
   "source": [
    "# 3. 统计函数"
   ],
   "metadata": {
    "collapsed": false
   },
   "id": "c0693f1286114e24"
  },
  {
   "cell_type": "code",
   "execution_count": null,
   "outputs": [],
   "source": [
    "# 1. 查看原数据.\n",
    "df"
   ],
   "metadata": {
    "collapsed": false
   },
   "id": "ced861fc0584e6e4"
  },
  {
   "cell_type": "code",
   "execution_count": null,
   "outputs": [],
   "source": [
    "# 2. 查看具体的 统计 信息.\n",
    "df.describe()\n",
    "\n",
    "# 3. 查看具体的 详细 信息\n",
    "# df.info()"
   ],
   "metadata": {
    "collapsed": false
   },
   "id": "6260785c0e1f2b11"
  },
  {
   "cell_type": "code",
   "execution_count": null,
   "outputs": [],
   "source": [
    "# 4. 统计函数.\n",
    "df.count()                  # 统计每列的 数据总条数. \n",
    "df.count(axis=0)            # 效果同上. \n",
    "\n",
    "df.count(axis='columns')    # 统计每行有多少列.\n",
    "df.count(axis='rows')       # 统计每列有多少行."
   ],
   "metadata": {
    "collapsed": false
   },
   "id": "cf084b3cd345334b"
  },
  {
   "cell_type": "code",
   "execution_count": null,
   "outputs": [],
   "source": [
    "df.count(axis='rows')"
   ],
   "metadata": {
    "collapsed": false
   },
   "id": "d9885352531cb9de"
  },
  {
   "cell_type": "code",
   "execution_count": null,
   "outputs": [],
   "source": [
    "# 5. 查看每列的最大值.\n",
    "df.max()\n",
    "df.max(0)       # 效果同上, 0 -> 按列统计每列的 最大值. \n",
    "# df.max(1)       # 1 -> 按行统计每行的 最大值. "
   ],
   "metadata": {
    "collapsed": false
   },
   "id": "f1019d9091b46925"
  },
  {
   "cell_type": "code",
   "execution_count": null,
   "outputs": [],
   "source": [
    "# 6. 查看每列的平均值.\n",
    "df.mean()"
   ],
   "metadata": {
    "collapsed": false
   },
   "id": "e5c547c3f5507829"
  },
  {
   "cell_type": "code",
   "execution_count": null,
   "outputs": [],
   "source": [
    "# 7. 查看每列的 标准差(std): 方差开根号 方差(var): 每个值和平均值的差的平方和的 平均值\n",
    "df.std()    # 标准差.\n",
    "# df.var()    # 方差."
   ],
   "metadata": {
    "collapsed": false
   },
   "id": "c2a7d45b3e5ea6f8"
  },
  {
   "cell_type": "code",
   "execution_count": null,
   "outputs": [],
   "source": [
    "# 8. 求中位数, 把数据从小到大排列, 取最中间的哪个数 -> 中位数, 如果没有中间数 -> 取中间两个数的平均值.\n",
    "df = pd.DataFrame({\n",
    "    'col1': [2, 3, 4, 5, 4, 2],     # 排序后是: 2, 2, 3, 4, 4, 5\n",
    "    'col2': [0, 1, 2, 3, 4, 2]      # 排序后是: 0, 1, 2, 2, 3, 4\n",
    "})\n",
    "df\n",
    "# df.median() # col1 -> 3.5 ,  col2 -> 2"
   ],
   "metadata": {
    "collapsed": false
   },
   "id": "cc51ab1335a26404"
  },
  {
   "cell_type": "code",
   "execution_count": null,
   "outputs": [],
   "source": [
    "# 9. 求出最大值的位置.\n",
    "df.idxmax(0)        # 按 列 统计每列的最大值所在的位置(即: 行索引)\n",
    "# df.idxmax(1)        # 按 行 统计每行的最大值所在的位置(即: 列)"
   ],
   "metadata": {
    "collapsed": false
   },
   "id": "e26f22877067d897"
  },
  {
   "cell_type": "code",
   "execution_count": null,
   "outputs": [],
   "source": [
    "# 10. 计算某列数据的累加和.\n",
    "df.sort_index(inplace=True)\n",
    "df\n",
    "\n",
    "# 计算每列的累加和.\n",
    "df.cumsum()\n",
    "\n",
    "# 计算open列的累加和.\n",
    "df.open.cumsum()\n",
    "\n",
    "# 可视化的方式, 查看数据的分布情况.\n",
    "# df.cumsum().plot()\n",
    "# df.low.cumsum().plot()\n",
    "df.open.cumsum().plot()"
   ],
   "metadata": {
    "collapsed": false
   },
   "id": "c589389dbc879f15"
  },
  {
   "cell_type": "code",
   "execution_count": null,
   "outputs": [],
   "source": [
    "# 11. apply()函数执行自定义函数.  \n",
    "# apply(函数对象, axis=0)函数解释: 执行自定义的函数, 按行(1) 或者 按列(0)传入数据. \n",
    "# 需求: 根据传入的列, 计算其 极差(最大值 和 最小值的差值)\n",
    "# df.open.max() - df.open.min()\n",
    "df.high.max() - df.high.min()"
   ],
   "metadata": {
    "collapsed": false
   },
   "id": "d9b74adbdc0f0982"
  },
  {
   "cell_type": "code",
   "execution_count": null,
   "outputs": [],
   "source": [
    "df.apply(lambda  col:col.max(),axis=0)"
   ],
   "metadata": {
    "collapsed": false
   },
   "id": "2ab7c32834b1a32f"
  },
  {
   "cell_type": "code",
   "execution_count": null,
   "outputs": [],
   "source": [
    "# axis=0 -> 以列的方式传入数据. \n",
    "# df.apply(lambda col: col.max(), axis=0)\n",
    "# df.apply(lambda col: col.min(), axis=0)\n",
    "\n",
    "# axis=1 -> 以行的方式传入数据.\n",
    "# df.apply(lambda row: row.max(), axis=1)\n",
    "\n",
    "\n",
    "# 最终写法.\n",
    "df.apply(lambda col: col.max() - col.min(), axis=0)     # 计算所有列. \n",
    "\n",
    "# 计算指定列的极值.\n",
    "# df[['open', 'high', 'low']].apply(lambda col: col.max() - col.min(), axis=0)"
   ],
   "metadata": {
    "collapsed": false
   },
   "id": "745831029ba1536"
  },
  {
   "cell_type": "code",
   "execution_count": null,
   "outputs": [],
   "source": [],
   "metadata": {
    "collapsed": false
   },
   "id": "9349abdb553cae33"
  }
 ],
 "metadata": {
  "kernelspec": {
   "display_name": "Python 3",
   "language": "python",
   "name": "python3"
  },
  "language_info": {
   "codemirror_mode": {
    "name": "ipython",
    "version": 2
   },
   "file_extension": ".py",
   "mimetype": "text/x-python",
   "name": "python",
   "nbconvert_exporter": "python",
   "pygments_lexer": "ipython2",
   "version": "2.7.6"
  }
 },
 "nbformat": 4,
 "nbformat_minor": 5
}
