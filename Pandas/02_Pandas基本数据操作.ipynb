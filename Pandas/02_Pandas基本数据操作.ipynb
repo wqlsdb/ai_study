{
 "cells": [
  {
   "cell_type": "code",
   "execution_count": null,
   "id": "initial_id",
   "metadata": {
    "collapsed": true
   },
   "outputs": [],
   "source": [
    "import numpy as np\n",
    "# 导包\n",
    "import pandas as pd\n",
    "import os\n",
    "# 改变相对路径\n",
    "os.chdir(r'D:\\PycharmProjects\\pythonStudy\\Pandas')\n",
    "print(os.getcwd())"
   ]
  },
  {
   "cell_type": "markdown",
   "source": [
    "# 1. 根据行列索引, 获取数据"
   ],
   "metadata": {
    "collapsed": false
   },
   "id": "b877f45bfe3be3f"
  },
  {
   "cell_type": "code",
   "execution_count": null,
   "outputs": [],
   "source": [
    "# 1. 准备数据.\n",
    "df = pd.read_csv('./data/stock_day.csv')\n",
    "df.drop(['ma5', 'ma10', 'ma20', 'v_ma5', 'v_ma10', 'v_ma20'], axis=1, inplace=True) \n",
    "df\n",
    "# pd.DataFrame"
   ],
   "metadata": {
    "collapsed": false
   },
   "id": "4eee47b9003d5150"
  },
  {
   "cell_type": "markdown",
   "source": [
    "## 1.1 直接使用行列索引(先列后行)"
   ],
   "metadata": {
    "collapsed": false
   },
   "id": "3f606b0abfe86f2c"
  },
  {
   "cell_type": "code",
   "execution_count": null,
   "outputs": [],
   "source": [
    "dft=df[df.open==21.20]\n",
    "dft"
   ],
   "metadata": {
    "collapsed": false
   },
   "id": "36a4922f47adc5a3"
  },
  {
   "cell_type": "code",
   "execution_count": null,
   "outputs": [],
   "source": [
    "df.loc['2018-02-27','open']"
   ],
   "metadata": {
    "collapsed": false
   },
   "id": "d247441f257b1ecf"
  },
  {
   "cell_type": "code",
   "execution_count": null,
   "outputs": [],
   "source": [
    "# 2. 根据 行列索引 获取数据 -> 先列后行\n",
    "#   列        行\n",
    "df['2018-02-26']['open']"
   ],
   "metadata": {
    "collapsed": false
   },
   "id": "183531f8302a5d0"
  },
  {
   "cell_type": "code",
   "execution_count": null,
   "outputs": [],
   "source": [
    "# 2. 根据 行列索引 获取数据 -> 先列后行\n",
    "#   列        行\n",
    "df['open']['2018-02-27']\n",
    "df['open']['2018-02-22']\n",
    "\n",
    "#      行            列\n",
    "# df['2018-02-22']['open']        # 报错, 必须: 先列后行.\n",
    "\n",
    "df['high']['2018-02-23']          # 23.37"
   ],
   "metadata": {
    "collapsed": false
   },
   "id": "71baa84efbaeae5f"
  },
  {
   "cell_type": "markdown",
   "source": [
    "## 1.2 loc属性 -> 先行后列,只能通过: 行索引 + 列名的方式来获取. "
   ],
   "metadata": {
    "collapsed": false
   },
   "id": "fa40e73fb69064e5"
  },
  {
   "cell_type": "code",
   "execution_count": null,
   "outputs": [],
   "source": [
    "df.loc['2018-02-26','open']"
   ],
   "metadata": {
    "collapsed": false
   },
   "id": "a2626552effa1ff6"
  },
  {
   "cell_type": "code",
   "execution_count": null,
   "outputs": [],
   "source": [
    "# 3. 通过 loc属性来获取, 只能通过: 行索引 + 列名的方式来获取.\n",
    "# 格式: df.loc[行索引, 列名]\n",
    "df.loc['2018-02-27':'2018-02-23', ['low','open']]\n",
    "# df"
   ],
   "metadata": {
    "collapsed": false
   },
   "id": "8905ced253f51b3e"
  },
  {
   "cell_type": "code",
   "execution_count": null,
   "outputs": [],
   "source": [
    "# 需求: 获取从2018-02-27 ~ 2018-02-22的 open列的数据.\n",
    "df.loc['2018-02-27':'2018-02-22', 'open']\n",
    "\n",
    "# 需求: 获取从2018-02-27 ~ 2018-02-22的 open, high, close, low列的数据.       包左包右\n",
    "df.loc['2018-02-27':'2018-02-22', 'open':'low']\n",
    "df.loc['2018-02-27':'2018-02-22', ['open', 'high', 'close', 'low']]\n",
    "\n",
    "# 需求: 获取从2018-02-27 ~ 2018-02-22的 所有列的数据.\n",
    "df.loc['2018-02-27':'2018-02-22']\n",
    "df.loc['2018-02-27':'2018-02-22', :]        # 这里的 : 代表 所有列\n",
    "\n",
    "# 等价于直接打印df对象, 获取所有数据.\n",
    "# df.loc[:, :]\n",
    "df\n"
   ],
   "metadata": {
    "collapsed": false
   },
   "id": "c90580672c489aab"
  },
  {
   "cell_type": "markdown",
   "source": [
    "## 1.3 iloc属性 -> 先行后列,只能通过: 行号 + 列的索引 的方式来获取. "
   ],
   "metadata": {
    "collapsed": false
   },
   "id": "8c4444772c4f0a30"
  },
  {
   "cell_type": "code",
   "execution_count": null,
   "outputs": [],
   "source": [
    "df"
   ],
   "metadata": {
    "collapsed": false
   },
   "id": "9e8c41a5f7378c5d"
  },
  {
   "cell_type": "code",
   "execution_count": null,
   "outputs": [],
   "source": [
    "# df.iloc[2:10:2,:]\n",
    "df.iloc[:,0]"
   ],
   "metadata": {
    "collapsed": false
   },
   "id": "731d2e8b7f75c8a7"
  },
  {
   "cell_type": "code",
   "execution_count": null,
   "outputs": [],
   "source": [
    "# 4. 通过 iloc属性来获取, 只能通过: 行号 + 列的编号 方式来获取.\n",
    "# 格式: df.iloc[行号, 列的编号]\n",
    "df.iloc[0, 0]       # 0行0列的数据(即: 你看到的第1行第1列的数据) -> 23.53"
   ],
   "metadata": {
    "collapsed": false
   },
   "id": "e2b40c18c966dba6"
  },
  {
   "cell_type": "code",
   "execution_count": null,
   "outputs": [],
   "source": [
    "# 需求: 获取从2018-02-27 ~ 2018-02-22的 open列的数据.\n",
    "df.iloc[:4, 0]\n",
    "\n",
    "# 需求: 获取从2018-02-27 ~ 2018-02-22的 open, high, close, low列的数据.       包左包右\n",
    "df.iloc[:4, :4]\n",
    "\n",
    "# 需求: 获取从2018-02-27 ~ 2018-02-22的 所有列的数据.\n",
    "df.iloc[:4]\n",
    "df.iloc[:4, :]\n",
    "\n",
    "# 等价于直接打印df对象, 获取所有数据.\n",
    "df.iloc[:, :]\n",
    "\n",
    "# 观察效果, 结论: 切片和列表切片, 字符串切片效果一样, 都是包左不包右. \n",
    "df.iloc[1:5:2, 2:5]"
   ],
   "metadata": {
    "collapsed": false
   },
   "id": "6a0c933af5ee2ab0"
  },
  {
   "cell_type": "markdown",
   "source": [
    "# 2. 给列赋值, 添加列, 删除列"
   ],
   "metadata": {
    "collapsed": false
   },
   "id": "8db41dd545e8ca8f"
  },
  {
   "cell_type": "code",
   "execution_count": null,
   "outputs": [],
   "source": [
    "# 1. 查看源数据.\n",
    "df"
   ],
   "metadata": {
    "collapsed": false
   },
   "id": "6ddfeb9023fea4bc"
  },
  {
   "cell_type": "code",
   "execution_count": null,
   "outputs": [],
   "source": [
    "df.drop(['2018-02-26'],axis=0,inplace=False)"
   ],
   "metadata": {
    "collapsed": false
   },
   "id": "fab9311d9e676c3d"
  },
  {
   "cell_type": "code",
   "execution_count": null,
   "outputs": [],
   "source": [
    "df"
   ],
   "metadata": {
    "collapsed": false
   },
   "id": "c0f2f98ace7ae7be"
  },
  {
   "cell_type": "code",
   "execution_count": null,
   "outputs": [],
   "source": [
    "# 2. 删除列. \n",
    "df.drop(['ma5', 'ma10', 'ma20', 'v_ma5', 'v_ma10', 'v_ma20'], axis=1, inplace=True)   # 1 -> 列,  0: -> 行"
   ],
   "metadata": {
    "collapsed": false
   },
   "id": "7775ac78c6531307"
  },
  {
   "cell_type": "code",
   "execution_count": null,
   "outputs": [],
   "source": [
    "# 3. 获取所有行的, open, high列\n",
    "df.loc[:, ['open', 'high']]"
   ],
   "metadata": {
    "collapsed": false
   },
   "id": "3e84857d36fb81b6"
  },
  {
   "cell_type": "code",
   "execution_count": null,
   "outputs": [],
   "source": [
    "df['volume']=1\n",
    "df"
   ],
   "metadata": {
    "collapsed": false
   },
   "id": "9b10694fd4359ef7"
  },
  {
   "cell_type": "code",
   "execution_count": null,
   "outputs": [],
   "source": [
    "df"
   ],
   "metadata": {
    "collapsed": false
   },
   "id": "d71da27ac3a7d448"
  },
  {
   "cell_type": "code",
   "execution_count": null,
   "outputs": [],
   "source": [
    "# 4. 修改列值.\n",
    "# 细节: 列名存在就是 修改值,  列名不存在就是 添加列.   类似于Python的字典, 键存在 -> 覆盖, 键不存在 -> 新增.\n",
    "# df['price_change'] = 1\n",
    "\n",
    "# 5. 新增列.\n",
    "df['day_diff'] = df['high'] - df['low']\n",
    "df"
   ],
   "metadata": {
    "collapsed": false
   },
   "id": "c956df8f37069279"
  },
  {
   "cell_type": "code",
   "execution_count": null,
   "outputs": [],
   "source": [
    "# 6. 扩展: df['列名'] 和 df.列名的区别: 如果是操作无特殊符号的列名, 它们没区别.   如果是有特殊符号(例如:空格)的列名时, df['列名'] 是正确的.\n",
    "# df.open           # 可以\n",
    "# df['open']        # 可以.\n",
    "\n",
    "# 7. 添加1个包含空格符号的 列名.\n",
    "# df['my name'] = '夯哥'\n",
    "\n",
    "# 8. 获取 my name列的值.\n",
    "df['my name']     # 可以\n",
    "# df.my name        # 不可以, 报错."
   ],
   "metadata": {
    "collapsed": false
   },
   "id": "9585b19044d75392"
  },
  {
   "cell_type": "markdown",
   "source": [
    "# 3.DataFrame和Series的排序操作"
   ],
   "metadata": {
    "collapsed": false
   },
   "id": "cd12e5fc2280a08b"
  },
  {
   "cell_type": "code",
   "execution_count": null,
   "outputs": [],
   "source": [
    "# 1. 查看源数据. \n",
    "df"
   ],
   "metadata": {
    "collapsed": false
   },
   "id": "b52987858e27416a"
  },
  {
   "cell_type": "code",
   "execution_count": null,
   "outputs": [],
   "source": [
    "df.sort_values('open',ascending=True,axis=0,inplace=False)"
   ],
   "metadata": {
    "collapsed": false
   },
   "id": "ac251e7185291273"
  },
  {
   "cell_type": "code",
   "execution_count": null,
   "outputs": [],
   "source": [
    "df"
   ],
   "metadata": {
    "collapsed": false
   },
   "id": "3b150a07706a5c9b"
  },
  {
   "cell_type": "code",
   "execution_count": null,
   "outputs": [],
   "source": [
    "# 2. 根据 单列值 进行排序, 例如: 根据 open(开盘价) 升序排列.\n",
    "df.sort_values('open')\n",
    "df.sort_values('open', ascending=True)  # ascending: True -> 升序(默认),  False -> 降序\n",
    "\n",
    "df.sort_values('open', ascending=False) # 降序"
   ],
   "metadata": {
    "collapsed": false
   },
   "id": "9cf7b93662ab6a5a"
  },
  {
   "cell_type": "code",
   "execution_count": null,
   "outputs": [],
   "source": [
    "# 3. 根据多列值进行排序.\n",
    "# 场景1: 多列值排序规则一样.   例如: 按照 open升序, open一样, 按照high升序. \n",
    "df.sort_values(['open', 'high'])\n",
    "df.sort_values(['open', 'high'], ascending=True)    # 效果同上."
   ],
   "metadata": {
    "collapsed": false
   },
   "id": "6cc356294b97c6db"
  },
  {
   "cell_type": "code",
   "execution_count": null,
   "outputs": [],
   "source": [
    "# 场景2: 多列值排序规则不一样. 例如: 按照 open升序, open一样, 按照high降序.\n",
    "df.sort_values(['open', 'high'], ascending=True)\n",
    "df.sort_values(['open', 'high'], ascending=False)\n",
    "\n",
    "df.sort_values(['open', 'high'], ascending=[True, False])"
   ],
   "metadata": {
    "collapsed": false
   },
   "id": "12643d5a3603e98a"
  },
  {
   "cell_type": "code",
   "execution_count": null,
   "outputs": [],
   "source": [
    "# 4. 根据行索引排序.\n",
    "df.sort_index()                 # 默认: 升序.\n",
    "df.sort_index(ascending=True)   # 效果同上.\n",
    "\n",
    "df.sort_index(ascending=False)   # 降序\n",
    "df"
   ],
   "metadata": {
    "collapsed": false
   },
   "id": "620e1d5748cf37ef"
  },
  {
   "cell_type": "code",
   "execution_count": null,
   "outputs": [],
   "source": [
    "# 5. 无论是上述的根据值排序, 还是根据 行索引排序, 默认都是 按照0来排序的. \n",
    "# df.sort_values('open', axis='rows')     # 根据open字段, 按照行排序, 默认: 升序.\n",
    "df.sort_values('open', axis=0)          # 效果同上.\n",
    "\n",
    "# df.sort_values('open', axis=1)            # 报错. "
   ],
   "metadata": {
    "collapsed": false
   },
   "id": "2fdedb81cd7c8845"
  },
  {
   "cell_type": "code",
   "execution_count": null,
   "outputs": [],
   "source": [
    "# 6. Series对象的排序, 也有sort_index() 和 sort_values()两个函数, 用法和Df对象一样. \n",
    "df.open.sort_index()                    # 按照索引: 升序\n",
    "df.open.sort_index(ascending=False)     # 按照索引: 降序\n",
    "\n",
    "df.open.sort_values()                   # 按照值: 升序\n",
    "df.open.sort_values(ascending=False)    # 按照值: 降序\n"
   ],
   "metadata": {
    "collapsed": false
   },
   "id": "11c2d4ad891b2c47"
  },
  {
   "cell_type": "markdown",
   "source": [
    "## 4.Series的使用"
   ],
   "metadata": {
    "collapsed": false
   },
   "id": "b914bfe77c93e305"
  },
  {
   "cell_type": "code",
   "execution_count": null,
   "outputs": [],
   "source": [
    "s2=pd.Series(['A','B','C'],index=[1,2,3])\n",
    "s2"
   ],
   "metadata": {
    "collapsed": false
   },
   "id": "6bb1689856b6e891"
  },
  {
   "cell_type": "code",
   "execution_count": null,
   "outputs": [],
   "source": [
    "# 使用字典或元组创建series对象\n",
    "dict_t={'name':'伽罗','age':18,'pos':'射手'}\n",
    "dts=pd.Series(dict_t)\n",
    "dts.index"
   ],
   "metadata": {
    "collapsed": false
   },
   "id": "41c9390425f9c28a"
  },
  {
   "cell_type": "markdown",
   "source": [
    "## 5.DataFrame的创建"
   ],
   "metadata": {
    "collapsed": false
   },
   "id": "ef1f6fdad51a1284"
  },
  {
   "cell_type": "code",
   "execution_count": null,
   "outputs": [],
   "source": [
    "# 1.使用字典加列表创建df，使默认自增索引\n",
    "df1_data={\n",
    "    '日期': ['2021-08-21', '2021-08-22', '2021-08-23'],\n",
    "    '温度': [25, 26, 50],\n",
    "    '湿度': [81, 50, 56] \n",
    "}\n",
    "dfl=pd.DataFrame(df1_data)\n",
    "# 修改默认索引为 列表中的字段\n",
    "dfl.set_index('日期',inplace=True)\n",
    "dfl.index"
   ],
   "metadata": {
    "collapsed": false
   },
   "id": "cb7d2214803c501f"
  },
  {
   "cell_type": "code",
   "execution_count": null,
   "outputs": [],
   "source": [
    "#使用列表加元组创建df，并自定义索引\n",
    "df_tuple=[\n",
    "    ('2021-08-21', 25, 81),\n",
    "    ('2021-08-22', 26, 50),\n",
    "    ('2021-08-23', 27, 56)\n",
    "]\n",
    "df_t=pd.DataFrame(\n",
    "    data=df_tuple,\n",
    "    columns=['日期','温度','湿度'],\n",
    "    index=['row_1','row_2','row_3']\n",
    "    )\n",
    "\n",
    "df_t"
   ],
   "metadata": {
    "collapsed": false
   },
   "id": "c0c67f48243ff1d6"
  },
  {
   "cell_type": "code",
   "execution_count": null,
   "outputs": [],
   "source": [
    "df_t[['日期']]"
   ],
   "metadata": {
    "collapsed": false
   },
   "id": "2f0eb079c6e4c540"
  },
  {
   "cell_type": "code",
   "execution_count": null,
   "outputs": [],
   "source": [
    "np.random.randn(2,3)"
   ],
   "metadata": {
    "collapsed": false
   },
   "id": "588854afaeede2a8"
  },
  {
   "cell_type": "code",
   "execution_count": null,
   "outputs": [],
   "source": [],
   "metadata": {
    "collapsed": false
   },
   "id": "a8f309be3cb6ce57"
  },
  {
   "cell_type": "code",
   "execution_count": null,
   "outputs": [],
   "source": [
    "pd.concat()"
   ],
   "metadata": {
    "collapsed": false
   },
   "id": "cad337dd7f060300"
  },
  {
   "cell_type": "code",
   "execution_count": null,
   "outputs": [],
   "source": [],
   "metadata": {
    "collapsed": false
   },
   "id": "cce7c8b119373e96"
  }
 ],
 "metadata": {
  "kernelspec": {
   "display_name": "Python 3",
   "language": "python",
   "name": "python3"
  },
  "language_info": {
   "codemirror_mode": {
    "name": "ipython",
    "version": 2
   },
   "file_extension": ".py",
   "mimetype": "text/x-python",
   "name": "python",
   "nbconvert_exporter": "python",
   "pygments_lexer": "ipython2",
   "version": "2.7.6"
  }
 },
 "nbformat": 4,
 "nbformat_minor": 5
}
