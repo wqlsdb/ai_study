{
 "cells": [
  {
   "cell_type": "code",
   "execution_count": 2,
   "id": "initial_id",
   "metadata": {
    "collapsed": true,
    "ExecuteTime": {
     "end_time": "2024-12-26T13:56:34.144784900Z",
     "start_time": "2024-12-26T13:56:33.263249900Z"
    }
   },
   "outputs": [],
   "source": [
    "import pandas as pd\n",
    "import os\n",
    "os.chdir(r'D:\\PycharmProjects\\pythonStudy\\Pandas')"
   ]
  },
  {
   "cell_type": "markdown",
   "source": [
    "# 1. 演示分组对象"
   ],
   "metadata": {
    "collapsed": false
   },
   "id": "104e9142ab56ba37"
  },
  {
   "cell_type": "code",
   "execution_count": null,
   "outputs": [],
   "source": [
    "# 1. 准备动作, 读取数据, 获取df对象.\n",
    "df = pd.read_csv('./data/uniqlo.csv')\n",
    "df"
   ],
   "metadata": {
    "collapsed": false
   },
   "id": "e9590548f08f478a"
  },
  {
   "cell_type": "code",
   "execution_count": null,
   "outputs": [],
   "source": [
    "# 2. 基于一列进行分组, 获得: DataFrameGroupBy分组对象.\n",
    "# 需求: 基于 顾客的性别 分组.\n",
    "df.groupby('gender_group')              # <pandas.core.groupby.generic.DataFrameGroupBy object at 0x0000025029082030>\n",
    "df.groupby('gender_group')['city']      # <pandas.core.groupby.generic.SeriesGroupBy object at 0x000002502AC56150>\n",
    "\n",
    "# 用变量来接收 分组对象, 获取某个分组的信息.\n",
    "df_gb = df.groupby('gender_group')      # 根据性别分组.\n",
    "print(df_gb.get_group('Female'))        # 根据 分组名 获取到该组的信息\n",
    "\n",
    "print(df_gb['city'])"
   ],
   "metadata": {
    "collapsed": false
   },
   "id": "9bbbcdf9d869d91c"
  },
  {
   "cell_type": "code",
   "execution_count": null,
   "outputs": [],
   "source": [
    "# 3. 基于多列进行分组, 获得: DataFrameGroupBy分组对象.\n",
    "# 需求: 基于 顾客的性别 和 城市 分组.\n",
    "df.groupby(['gender_group', 'city'])            # <pandas.core.groupby.generic.DataFrameGroupBy object at 0x000002502900FC50>\n",
    "df.groupby(['gender_group', 'city'])['revenue'] # <pandas.core.groupby.generic.SeriesGroupBy object at 0x000002502AC563F0>"
   ],
   "metadata": {
    "collapsed": false
   },
   "id": "27d49c094a6e9785"
  },
  {
   "cell_type": "code",
   "execution_count": null,
   "outputs": [],
   "source": [
    "# 4. 分组后, 获取到每个分组的第一条 或者 最后一条数据.\n",
    "# 组后第一条: first()\n",
    "# 组后最后一条: last()\n",
    "\n",
    "# 4.1 变量记录, 分组对象.\n",
    "df_gb = df.groupby(['gender_group', 'city'])\n",
    "df_gb.first()\n",
    "df_gb.last()"
   ],
   "metadata": {
    "collapsed": false
   },
   "id": "c3a9f4f964bfbf97"
  },
  {
   "cell_type": "markdown",
   "source": [
    "# 2. 演示分组聚合操作"
   ],
   "metadata": {
    "collapsed": false
   },
   "id": "8cc259fc6263a885"
  },
  {
   "cell_type": "code",
   "execution_count": 5,
   "outputs": [
    {
     "data": {
      "text/plain": "  col1  col2\n0    A    10\n1    B    20\n2    A    30\n3    B    40\n4    A    50\n5    C    60",
      "text/html": "<div>\n<style scoped>\n    .dataframe tbody tr th:only-of-type {\n        vertical-align: middle;\n    }\n\n    .dataframe tbody tr th {\n        vertical-align: top;\n    }\n\n    .dataframe thead th {\n        text-align: right;\n    }\n</style>\n<table border=\"1\" class=\"dataframe\">\n  <thead>\n    <tr style=\"text-align: right;\">\n      <th></th>\n      <th>col1</th>\n      <th>col2</th>\n    </tr>\n  </thead>\n  <tbody>\n    <tr>\n      <th>0</th>\n      <td>A</td>\n      <td>10</td>\n    </tr>\n    <tr>\n      <th>1</th>\n      <td>B</td>\n      <td>20</td>\n    </tr>\n    <tr>\n      <th>2</th>\n      <td>A</td>\n      <td>30</td>\n    </tr>\n    <tr>\n      <th>3</th>\n      <td>B</td>\n      <td>40</td>\n    </tr>\n    <tr>\n      <th>4</th>\n      <td>A</td>\n      <td>50</td>\n    </tr>\n    <tr>\n      <th>5</th>\n      <td>C</td>\n      <td>60</td>\n    </tr>\n  </tbody>\n</table>\n</div>"
     },
     "execution_count": 5,
     "metadata": {},
     "output_type": "execute_result"
    }
   ],
   "source": [
    "data = {\n",
    "    'col1': ['A', 'B', 'A', 'B', 'A', 'C'],\n",
    "    'col2': [10, 20, 30, 40, 50, 60]\n",
    "}\n",
    "dfl = pd.DataFrame(data)\n",
    "dfl\n"
   ],
   "metadata": {
    "collapsed": false,
    "ExecuteTime": {
     "end_time": "2024-12-26T13:57:08.311854700Z",
     "start_time": "2024-12-26T13:57:08.297596400Z"
    }
   },
   "id": "bba012eea4a88ad0"
  },
  {
   "cell_type": "code",
   "execution_count": 7,
   "outputs": [
    {
     "data": {
      "text/plain": "  col1  col2  mean_col2\n0    A    10       30.0\n1    B    20       30.0\n2    A    30       30.0\n3    B    40       30.0\n4    A    50       30.0\n5    C    60       60.0",
      "text/html": "<div>\n<style scoped>\n    .dataframe tbody tr th:only-of-type {\n        vertical-align: middle;\n    }\n\n    .dataframe tbody tr th {\n        vertical-align: top;\n    }\n\n    .dataframe thead th {\n        text-align: right;\n    }\n</style>\n<table border=\"1\" class=\"dataframe\">\n  <thead>\n    <tr style=\"text-align: right;\">\n      <th></th>\n      <th>col1</th>\n      <th>col2</th>\n      <th>mean_col2</th>\n    </tr>\n  </thead>\n  <tbody>\n    <tr>\n      <th>0</th>\n      <td>A</td>\n      <td>10</td>\n      <td>30.0</td>\n    </tr>\n    <tr>\n      <th>1</th>\n      <td>B</td>\n      <td>20</td>\n      <td>30.0</td>\n    </tr>\n    <tr>\n      <th>2</th>\n      <td>A</td>\n      <td>30</td>\n      <td>30.0</td>\n    </tr>\n    <tr>\n      <th>3</th>\n      <td>B</td>\n      <td>40</td>\n      <td>30.0</td>\n    </tr>\n    <tr>\n      <th>4</th>\n      <td>A</td>\n      <td>50</td>\n      <td>30.0</td>\n    </tr>\n    <tr>\n      <th>5</th>\n      <td>C</td>\n      <td>60</td>\n      <td>60.0</td>\n    </tr>\n  </tbody>\n</table>\n</div>"
     },
     "execution_count": 7,
     "metadata": {},
     "output_type": "execute_result"
    }
   ],
   "source": [
    "dfl['mean_col2'] = dfl.groupby('col1')['col2'].transform('mean')\n",
    "dfl"
   ],
   "metadata": {
    "collapsed": false,
    "ExecuteTime": {
     "end_time": "2024-12-26T13:59:23.760963900Z",
     "start_time": "2024-12-26T13:59:23.750793900Z"
    }
   },
   "id": "d72276f9e20da0d"
  },
  {
   "cell_type": "code",
   "execution_count": 8,
   "outputs": [
    {
     "data": {
      "text/plain": "  col1  col2  mean_col2  sum_col2\n0    A    10       30.0        90\n1    B    20       30.0        60\n2    A    30       30.0        90\n3    B    40       30.0        60\n4    A    50       30.0        90\n5    C    60       60.0        60",
      "text/html": "<div>\n<style scoped>\n    .dataframe tbody tr th:only-of-type {\n        vertical-align: middle;\n    }\n\n    .dataframe tbody tr th {\n        vertical-align: top;\n    }\n\n    .dataframe thead th {\n        text-align: right;\n    }\n</style>\n<table border=\"1\" class=\"dataframe\">\n  <thead>\n    <tr style=\"text-align: right;\">\n      <th></th>\n      <th>col1</th>\n      <th>col2</th>\n      <th>mean_col2</th>\n      <th>sum_col2</th>\n    </tr>\n  </thead>\n  <tbody>\n    <tr>\n      <th>0</th>\n      <td>A</td>\n      <td>10</td>\n      <td>30.0</td>\n      <td>90</td>\n    </tr>\n    <tr>\n      <th>1</th>\n      <td>B</td>\n      <td>20</td>\n      <td>30.0</td>\n      <td>60</td>\n    </tr>\n    <tr>\n      <th>2</th>\n      <td>A</td>\n      <td>30</td>\n      <td>30.0</td>\n      <td>90</td>\n    </tr>\n    <tr>\n      <th>3</th>\n      <td>B</td>\n      <td>40</td>\n      <td>30.0</td>\n      <td>60</td>\n    </tr>\n    <tr>\n      <th>4</th>\n      <td>A</td>\n      <td>50</td>\n      <td>30.0</td>\n      <td>90</td>\n    </tr>\n    <tr>\n      <th>5</th>\n      <td>C</td>\n      <td>60</td>\n      <td>60.0</td>\n      <td>60</td>\n    </tr>\n  </tbody>\n</table>\n</div>"
     },
     "execution_count": 8,
     "metadata": {},
     "output_type": "execute_result"
    }
   ],
   "source": [
    "dfl['sum_col2']=dfl.groupby('col1')['col2'].transform('sum')\n",
    "dfl"
   ],
   "metadata": {
    "collapsed": false,
    "ExecuteTime": {
     "end_time": "2024-12-26T14:00:41.874154600Z",
     "start_time": "2024-12-26T14:00:41.863339200Z"
    }
   },
   "id": "a7606859a6ae3ec3"
  },
  {
   "cell_type": "code",
   "execution_count": null,
   "outputs": [],
   "source": [
    "# 格式: df.groupby(['分组字段1', '字段2'...]).agg({'列名1':'聚合函数名', '列名2':'聚合函数名'...})\n",
    "# 格式: df.pivot_table(index='行索引', columns='列', values='值', aggfunc='聚合函数名')\n",
    "\n",
    "# 需求1: 按照城市分组, 计算每个城市的 客户数量. \n",
    "# 方式1: groupby() + 聚合函数.\n",
    "df.groupby('city').customer.sum()\n",
    "df.groupby('city').customer.agg('sum')      # 效果同上\n",
    "df.groupby('city').agg({'customer':'sum'})  # 效果同上\n",
    "\n",
    "# 方式2: pivot_table() 透视表\n",
    "df.pivot_table(index='city', values='customer', aggfunc='sum')"
   ],
   "metadata": {
    "collapsed": false
   },
   "id": "6adbf45f25ca2c7e"
  },
  {
   "cell_type": "code",
   "execution_count": null,
   "outputs": [],
   "source": [
    "# 需求2: 按照城市, 性别分组, 计算每个城市的 客户数量. \n",
    "# 方式1: groupby() + 聚合函数.\n",
    "df.groupby(['city', 'gender_group']).customer.sum()\n",
    "df.groupby(['city', 'gender_group']).customer.agg('sum')\n",
    "df.groupby(['city', 'gender_group']).agg({'customer': 'sum'})\n",
    "\n",
    "# 方式2: pivot_table() 透视表\n",
    "df.pivot_table(index=['city', 'gender_group'], values='customer', aggfunc='sum')\n",
    "\n",
    "# 上述格式的变形写法, 类似于: 行列转置, 更直观的查看分组聚合结果.\n",
    "# index表示: 行, columns表示: 列, values表示: 值, aggfunc表示: 聚合函数.\n",
    "df.pivot_table(index='city', columns='gender_group', values='customer', aggfunc='sum')"
   ],
   "metadata": {
    "collapsed": false
   },
   "id": "45c21d1d00ccaf1f"
  },
  {
   "cell_type": "code",
   "execution_count": null,
   "outputs": [],
   "source": [
    "# 需求3: 按照 城市, 销售渠道(线上, 线下)划分, 分别计算 销售金额的平均值, 成本的总和. \n",
    "# 方式1: groupby() + 聚合函数.\n",
    "df.groupby(['city', 'channel']).agg({'revenue':'mean', 'unit_cost':'sum'})\n",
    "\n",
    "# 方式2: pivot_table() 透视表\n",
    "df.pivot_table(index=['city', 'channel'], values=['revenue', 'unit_cost'], aggfunc={'revenue':'mean', 'unit_cost':'sum'})\n",
    "\n",
    "# 透视表的几种变形写法.\n",
    "# 变形1: 因为没有指定哪个列 mean(平均值), 哪个列sum(总和), 所以默认: 所有列都进行 平均值和总和的计算.\n",
    "df.pivot_table(index=['city', 'channel'], values=['revenue', 'unit_cost'], aggfunc=['mean', 'sum'])\n",
    "df.pivot_table(index=['city', 'channel'], values=['revenue', 'unit_cost'], aggfunc=['mean', 'sum']).iloc[:, [0,3]]  # 只显示需要的列\n",
    "\n",
    "# 变形2: 透视表, 行列转置.  columns: 分组字段的值 作为列名, values: 聚合函数的结果作为值.\n",
    "df.pivot_table(index='city', columns='channel', values=['revenue', 'unit_cost'], aggfunc={'revenue':'mean', 'unit_cost':'sum'})"
   ],
   "metadata": {
    "collapsed": false
   },
   "id": "2aa28c32c808478f"
  },
  {
   "cell_type": "markdown",
   "source": [
    "# 3.分组过滤"
   ],
   "metadata": {
    "collapsed": false
   },
   "id": "d11b59843bffa802"
  },
  {
   "cell_type": "code",
   "execution_count": null,
   "outputs": [],
   "source": [
    "# 需求: 按照城市分组, 查询每组销售金额平均值.\n",
    "# df.groupby('city').revenue.mean()\n",
    "# df.groupby('city').revenue.agg('mean')\n",
    "df.groupby('city').agg({'revenue': 'mean'})"
   ],
   "metadata": {
    "collapsed": false
   },
   "id": "276cba33b75c70aa"
  },
  {
   "cell_type": "code",
   "execution_count": null,
   "outputs": [],
   "source": [
    "# filter()函数, 分组过滤的.\n",
    "# 需求: 按照城市分组, 查询每组销售金额平均值 大于 200的全部数据. \n",
    "df.groupby('city').get_group('上海')      # 根据分组名, 获取该分组的数据. \n",
    "df.groupby('city').get_group('深圳')      # 根据分组名, 获取该分组的数据. \n",
    "df.groupby('city').get_group('广州')      # 根据分组名, 获取该分组的数据. \n",
    "df.groupby('city').get_group('北京')      # 根据分组名, 获取该分组的数据. \n",
    "\n",
    "# 大白话解释需求: 按照城市分组, 计算每组的销售金额的平均值, 并筛选出: 均值大于200的 所有分组的数据.\n",
    "# filter(): 根据条件, 筛选出合法的数据. \n",
    "# 换换成SQL思路: select * from df where city in ('北京', '南京');\n",
    "# 换换成SQL思路: select * from df where city in (select city from df group by city having avg(revenue) > 200);\n",
    "df.groupby('city').filter(lambda s: s['revenue'].mean() > 200)\n",
    "# df.groupby('city')['revenue'].filter(lambda s: s.mean() > 200)"
   ],
   "metadata": {
    "collapsed": false
   },
   "id": "2f2223ea0fa98c19"
  }
 ],
 "metadata": {
  "kernelspec": {
   "display_name": "Python 3",
   "language": "python",
   "name": "python3"
  },
  "language_info": {
   "codemirror_mode": {
    "name": "ipython",
    "version": 2
   },
   "file_extension": ".py",
   "mimetype": "text/x-python",
   "name": "python",
   "nbconvert_exporter": "python",
   "pygments_lexer": "ipython2",
   "version": "2.7.6"
  }
 },
 "nbformat": 4,
 "nbformat_minor": 5
}
