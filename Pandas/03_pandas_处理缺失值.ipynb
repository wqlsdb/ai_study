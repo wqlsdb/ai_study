{
 "cells": [
  {
   "cell_type": "code",
   "execution_count": null,
   "id": "initial_id",
   "metadata": {
    "collapsed": true
   },
   "outputs": [],
   "source": [
    "# 导包, 切换路径.\n",
    "import pandas as pd\n",
    "import numpy as np\n",
    "import os\n",
    "os.chdir(r'D:\\workspace\\ai_22_work_bj\\pandasProject\\day03')\n",
    "\n",
    "# 全局取消证书验证\n",
    "import ssl\n",
    "ssl._create_default_https_context = ssl._create_unverified_context"
   ]
  },
  {
   "cell_type": "markdown",
   "source": [
    "# 1. 缺失值判断"
   ],
   "metadata": {
    "collapsed": false
   },
   "id": "1d22d70231ca4d42"
  },
  {
   "cell_type": "code",
   "execution_count": null,
   "outputs": [],
   "source": [
    "# 1. 加载数据, 获取df对象.\n",
    "df = pd.read_csv('./data/movie.csv')\n",
    "df"
   ],
   "metadata": {
    "collapsed": false
   },
   "id": "94ba161f55677a63"
  },
  {
   "cell_type": "code",
   "execution_count": null,
   "outputs": [],
   "source": [
    "# 2. 查看每列的值的分布情况, 即: 查看df的 详细 信息.\n",
    "df.info()"
   ],
   "metadata": {
    "collapsed": false
   },
   "id": "4684a2daf82b1510"
  },
  {
   "cell_type": "code",
   "execution_count": null,
   "outputs": [],
   "source": [
    "# 3. 判断每列缺失值的个数. \n",
    "df.isnull()     # 判断是否为空.\n",
    "df.notnull()    # 判断是否不为空\n",
    "\n",
    "# 查看每列的 缺失值的个数.\n",
    "df.isnull().sum()     \n",
    "\n",
    "# 查看每列的 非缺失值的个数.\n",
    "df.notnull().sum()\n",
    "\n",
    "# pd.notnull(df): 判断df中 列值是否不为空. True -> 不为空, False -> 为空\n",
    "# np.all(df对象 == True): 判断df对象中所有元素是否为True.  是 -> True,  否则 -> False\n",
    "np.all(pd.notnull(df) == True)"
   ],
   "metadata": {
    "collapsed": false
   },
   "id": "3eb71dc9e9d652da"
  },
  {
   "cell_type": "markdown",
   "source": [
    "# 2.处理缺失值 -> 删除缺失值 dropna()"
   ],
   "metadata": {
    "collapsed": false
   },
   "id": "742e932229b2b6c1"
  },
  {
   "cell_type": "code",
   "execution_count": null,
   "outputs": [],
   "source": [
    "# 1. 查看源数据\n",
    "df.info()"
   ],
   "metadata": {
    "collapsed": false
   },
   "id": "bc05e214c5776ec2"
  },
  {
   "cell_type": "code",
   "execution_count": null,
   "outputs": [],
   "source": [
    "# 2. 删除缺失值.\n",
    "df.dropna(inplace=True)       # 默认: axis = 0 -> 删除行.\n",
    "# df.dropna(inplace=True, axis=1) # axis = 1 -> 删除列.\n",
    "\n",
    "# 3. 查看删除缺失值后的数据情况.\n",
    "df.info()\n",
    "\n",
    "# 每列 空值  数量\n",
    "df.isnull().sum()"
   ],
   "metadata": {
    "collapsed": false
   },
   "id": "fafcf0605f2cef0e"
  },
  {
   "cell_type": "markdown",
   "source": [
    "# 3. 处理缺失值 -> 填充缺失值 fillna()"
   ],
   "metadata": {
    "collapsed": false
   },
   "id": "1b80744e9447ba3e"
  },
  {
   "cell_type": "code",
   "execution_count": null,
   "outputs": [],
   "source": [
    "# 1. 查看原数据\n",
    "df.info()\n",
    "\n",
    "df"
   ],
   "metadata": {
    "collapsed": false
   },
   "id": "7ff77e59e88b4d4b"
  },
  {
   "cell_type": "code",
   "execution_count": null,
   "outputs": [],
   "source": [
    "# 2. 填充缺失值, 例如: 用该列值的 平均值填充. \n",
    "# 查看 Revenue (Millions) 列的 平均值.   82.956376\n",
    "# df['Revenue (Millions)'].mean()       # 82.956376\n",
    "\n",
    "# 用 Revenue (Millions) 列的平均值, 来填充 所有列的 NaN(缺失值), 虽然实现了效果, 但是不够灵活. \n",
    "df.fillna(df['Revenue (Millions)'].mean())"
   ],
   "metadata": {
    "collapsed": false
   },
   "id": "a4ed059cf3d48ed"
  },
  {
   "cell_type": "code",
   "execution_count": null,
   "outputs": [],
   "source": [
    "# 3. 用 每列的平均值, 来填充 每列的缺失值.\n",
    "# 3.1 看看有缺失值的两列的 平均值.\n",
    "df['Revenue (Millions)'].mean()     # 82.95637614678898\n",
    "df['Metascore'].mean()              # 58.98504273504273\n",
    "\n",
    "# 3.2 遍历 df的所有列, 获取到每个列的信息.\n",
    "for col_name in df.columns:\n",
    "    # print(col_name)     # 就是df的每个列名.\n",
    "    # 3.3 判断当前列 是否有缺失值, 如果有, 就用该列的平均值来填充.\n",
    "    # 方式1: 根据该列的空值的数量来判断. \n",
    "    if df[col_name].isnull().sum() > 0:\n",
    "    \n",
    "    # 方式2: 根据 np.all()函数来判断, 判断: 包含空值的列.\n",
    "    # if np.all(pd.notnull(df[col_name])) == False:\n",
    "        # print(col_name)       # 打印下列名.\n",
    "        \n",
    "        # 3.4 具体的用该列的平均值填充的动作.\n",
    "        df[col_name].fillna(df[col_name].mean(), inplace=True)\n",
    "\n",
    "# 3.5 查看处理后的情况.\n",
    "df"
   ],
   "metadata": {
    "collapsed": false
   },
   "id": "90668dd46fa1ed58"
  },
  {
   "cell_type": "markdown",
   "source": [
    "# 4. 如果有特殊标记, 先转换, 然后再处理缺失值."
   ],
   "metadata": {
    "collapsed": false
   },
   "id": "109f20610e989463"
  },
  {
   "cell_type": "code",
   "execution_count": null,
   "outputs": [],
   "source": [
    "# 1. 加载源数据.\n",
    "wis = pd.read_csv(\"https://archive.ics.uci.edu/ml/machine-learning-databases/breast-cancer-wisconsin/breast-cancer-wisconsin.data\")\n",
    "wis"
   ],
   "metadata": {
    "collapsed": false
   },
   "id": "ce6c77ce986895a9"
  },
  {
   "cell_type": "code",
   "execution_count": null,
   "outputs": [],
   "source": [
    "# 2. 查看每列的缺失值情况.\n",
    "wis.info()"
   ],
   "metadata": {
    "collapsed": false
   },
   "id": "f66ad40d80f1ac96"
  },
  {
   "cell_type": "code",
   "execution_count": null,
   "outputs": [],
   "source": [
    "# 3. 把特殊标记 -> NaN (细节: 空可以用 Numpy中的 nan, NaN, NAN来表示, 效果都一样)\n",
    "# print(np.nan)\n",
    "# print(np.NaN)\n",
    "# print(np.NAN)\n",
    "wis.replace('?', np.nan, inplace=True)\n",
    "wis"
   ],
   "metadata": {
    "collapsed": false
   },
   "id": "b58b91d1d3df606e"
  },
  {
   "cell_type": "code",
   "execution_count": 72,
   "outputs": [
    {
     "name": "stdout",
     "output_type": "stream",
     "text": [
      "<class 'pandas.core.frame.DataFrame'>\n",
      "Index: 682 entries, 0 to 697\n",
      "Data columns (total 11 columns):\n",
      " #   Column   Non-Null Count  Dtype \n",
      "---  ------   --------------  ----- \n",
      " 0   1000025  682 non-null    int64 \n",
      " 1   5        682 non-null    int64 \n",
      " 2   1        682 non-null    int64 \n",
      " 3   1.1      682 non-null    int64 \n",
      " 4   1.2      682 non-null    int64 \n",
      " 5   2        682 non-null    int64 \n",
      " 6   1.3      682 non-null    object\n",
      " 7   3        682 non-null    int64 \n",
      " 8   1.4      682 non-null    int64 \n",
      " 9   1.5      682 non-null    int64 \n",
      " 10  2.1      682 non-null    int64 \n",
      "dtypes: int64(10), object(1)\n",
      "memory usage: 63.9+ KB\n"
     ]
    }
   ],
   "source": [
    "# 4. 删除缺失值.\n",
    "wis.dropna(inplace=True)\n",
    "wis.info()"
   ],
   "metadata": {
    "collapsed": false,
    "ExecuteTime": {
     "end_time": "2024-12-23T08:55:17.261987200Z",
     "start_time": "2024-12-23T08:55:17.240894600Z"
    }
   },
   "id": "f5eb57b1f2d661af"
  },
  {
   "cell_type": "code",
   "execution_count": 75,
   "outputs": [
    {
     "data": {
      "text/plain": "  name age gender\n0   乔峰  18      男\n1   虚竹   ♠      男\n2   段誉  20      ♠",
      "text/html": "<div>\n<style scoped>\n    .dataframe tbody tr th:only-of-type {\n        vertical-align: middle;\n    }\n\n    .dataframe tbody tr th {\n        vertical-align: top;\n    }\n\n    .dataframe thead th {\n        text-align: right;\n    }\n</style>\n<table border=\"1\" class=\"dataframe\">\n  <thead>\n    <tr style=\"text-align: right;\">\n      <th></th>\n      <th>name</th>\n      <th>age</th>\n      <th>gender</th>\n    </tr>\n  </thead>\n  <tbody>\n    <tr>\n      <th>0</th>\n      <td>乔峰</td>\n      <td>18</td>\n      <td>男</td>\n    </tr>\n    <tr>\n      <th>1</th>\n      <td>虚竹</td>\n      <td>♠</td>\n      <td>男</td>\n    </tr>\n    <tr>\n      <th>2</th>\n      <td>段誉</td>\n      <td>20</td>\n      <td>♠</td>\n    </tr>\n  </tbody>\n</table>\n</div>"
     },
     "execution_count": 75,
     "metadata": {},
     "output_type": "execute_result"
    }
   ],
   "source": [
    "df = pd.DataFrame({\n",
    "    'name': ['乔峰', '虚竹', '段誉'],\n",
    "    'age': [18, '♠', 20],\n",
    "    'gender': ['男', '男', '♠'],\n",
    "})\n",
    "df"
   ],
   "metadata": {
    "collapsed": false,
    "ExecuteTime": {
     "end_time": "2024-12-23T08:56:38.054314300Z",
     "start_time": "2024-12-23T08:56:38.044754300Z"
    }
   },
   "id": "eb216a03e1cfd4ac"
  }
 ],
 "metadata": {
  "kernelspec": {
   "display_name": "Python 3",
   "language": "python",
   "name": "python3"
  },
  "language_info": {
   "codemirror_mode": {
    "name": "ipython",
    "version": 2
   },
   "file_extension": ".py",
   "mimetype": "text/x-python",
   "name": "python",
   "nbconvert_exporter": "python",
   "pygments_lexer": "ipython2",
   "version": "2.7.6"
  }
 },
 "nbformat": 4,
 "nbformat_minor": 5
}
