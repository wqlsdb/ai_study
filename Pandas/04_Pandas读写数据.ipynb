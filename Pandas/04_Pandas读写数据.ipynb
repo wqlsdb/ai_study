{
 "cells": [
  {
   "cell_type": "code",
   "execution_count": 1,
   "id": "initial_id",
   "metadata": {
    "collapsed": true,
    "ExecuteTime": {
     "end_time": "2024-12-27T14:12:18.894909200Z",
     "start_time": "2024-12-27T14:12:18.265294Z"
    }
   },
   "outputs": [],
   "source": [
    "# 导包\n",
    "import pandas as pd\n",
    "import os\n",
    "# 改变相对路径\n",
    "os.chdir(r'D:\\PycharmProjects\\pythonStudy\\Pandas')"
   ]
  },
  {
   "cell_type": "markdown",
   "source": [
    "# 1. Pandas操作CSV文件 和 TSV文件. "
   ],
   "metadata": {
    "collapsed": false
   },
   "id": "d74344bbb54eadf"
  },
  {
   "cell_type": "markdown",
   "source": [
    "## 1.1 Pandas 读取csv文件数据, 获取df对象."
   ],
   "metadata": {
    "collapsed": false
   },
   "id": "64658410c603d80"
  },
  {
   "cell_type": "code",
   "execution_count": 2,
   "outputs": [
    {
     "data": {
      "text/plain": "             open   high  close    low\n2018-02-27  23.53  25.88  24.16  23.53\n2018-02-26  22.80  23.78  23.53  22.80\n2018-02-23  22.88  23.37  22.82  22.71\n2018-02-22  22.25  22.76  22.28  22.02\n2018-02-14  21.49  21.99  21.92  21.48\n...           ...    ...    ...    ...\n2015-03-06  13.17  14.48  14.28  13.13\n2015-03-05  12.88  13.45  13.16  12.87\n2015-03-04  12.80  12.92  12.90  12.61\n2015-03-03  12.52  13.06  12.70  12.52\n2015-03-02  12.25  12.67  12.52  12.20\n\n[643 rows x 4 columns]",
      "text/html": "<div>\n<style scoped>\n    .dataframe tbody tr th:only-of-type {\n        vertical-align: middle;\n    }\n\n    .dataframe tbody tr th {\n        vertical-align: top;\n    }\n\n    .dataframe thead th {\n        text-align: right;\n    }\n</style>\n<table border=\"1\" class=\"dataframe\">\n  <thead>\n    <tr style=\"text-align: right;\">\n      <th></th>\n      <th>open</th>\n      <th>high</th>\n      <th>close</th>\n      <th>low</th>\n    </tr>\n  </thead>\n  <tbody>\n    <tr>\n      <th>2018-02-27</th>\n      <td>23.53</td>\n      <td>25.88</td>\n      <td>24.16</td>\n      <td>23.53</td>\n    </tr>\n    <tr>\n      <th>2018-02-26</th>\n      <td>22.80</td>\n      <td>23.78</td>\n      <td>23.53</td>\n      <td>22.80</td>\n    </tr>\n    <tr>\n      <th>2018-02-23</th>\n      <td>22.88</td>\n      <td>23.37</td>\n      <td>22.82</td>\n      <td>22.71</td>\n    </tr>\n    <tr>\n      <th>2018-02-22</th>\n      <td>22.25</td>\n      <td>22.76</td>\n      <td>22.28</td>\n      <td>22.02</td>\n    </tr>\n    <tr>\n      <th>2018-02-14</th>\n      <td>21.49</td>\n      <td>21.99</td>\n      <td>21.92</td>\n      <td>21.48</td>\n    </tr>\n    <tr>\n      <th>...</th>\n      <td>...</td>\n      <td>...</td>\n      <td>...</td>\n      <td>...</td>\n    </tr>\n    <tr>\n      <th>2015-03-06</th>\n      <td>13.17</td>\n      <td>14.48</td>\n      <td>14.28</td>\n      <td>13.13</td>\n    </tr>\n    <tr>\n      <th>2015-03-05</th>\n      <td>12.88</td>\n      <td>13.45</td>\n      <td>13.16</td>\n      <td>12.87</td>\n    </tr>\n    <tr>\n      <th>2015-03-04</th>\n      <td>12.80</td>\n      <td>12.92</td>\n      <td>12.90</td>\n      <td>12.61</td>\n    </tr>\n    <tr>\n      <th>2015-03-03</th>\n      <td>12.52</td>\n      <td>13.06</td>\n      <td>12.70</td>\n      <td>12.52</td>\n    </tr>\n    <tr>\n      <th>2015-03-02</th>\n      <td>12.25</td>\n      <td>12.67</td>\n      <td>12.52</td>\n      <td>12.20</td>\n    </tr>\n  </tbody>\n</table>\n<p>643 rows × 4 columns</p>\n</div>"
     },
     "execution_count": 2,
     "metadata": {},
     "output_type": "execute_result"
    }
   ],
   "source": [
    "# 1. 读取csv -> df对象.\n",
    "# 加载所有列.\n",
    "# df = pd.read_csv('./data/stock_day.csv')       \n",
    "\n",
    "# 加载指定列的数据. \n",
    "df = pd.read_csv('./data/stock_day.csv', usecols=['open', 'high', 'close', 'low'])\n",
    "df"
   ],
   "metadata": {
    "collapsed": false,
    "ExecuteTime": {
     "end_time": "2024-12-27T14:12:26.414446700Z",
     "start_time": "2024-12-27T14:12:26.383159900Z"
    }
   },
   "id": "98ea95e280c045b2"
  },
  {
   "cell_type": "markdown",
   "source": [
    "## 1.2 Pandas写出数据到csv文件中"
   ],
   "metadata": {
    "collapsed": false
   },
   "id": "dff724b78361cd9b"
  },
  {
   "cell_type": "code",
   "execution_count": 5,
   "outputs": [
    {
     "name": "stdout",
     "output_type": "stream",
     "text": [
      "写出成功!\n"
     ]
    }
   ],
   "source": [
    "# 场景1: 写出数据到文件, 包括: 行索引, 列名, 数据.\n",
    "# df.head(10).to_csv('./data/stock_day_head10_01.csv')\n",
    "\n",
    "# 场景2: 写出数据到文件, 包括: 列名, 数据.\n",
    "df.head(10).to_csv('./data/stock_day_head10_02.csv', index=True)\n",
    "\n",
    "# 场景3: 写出数据到文件, 包括: 数据.\n",
    "# df.head(10).to_csv('./data/stock_day_head10_03.csv', index=False, header=False)\n",
    "print('写出成功!')"
   ],
   "metadata": {
    "collapsed": false,
    "ExecuteTime": {
     "end_time": "2024-12-22T06:07:48.559299200Z",
     "start_time": "2024-12-22T06:07:48.543482900Z"
    }
   },
   "id": "be6feabb8ddf9641"
  },
  {
   "cell_type": "markdown",
   "source": [
    "## 1.3 Pandas写出文件到tcv文件中"
   ],
   "metadata": {
    "collapsed": false
   },
   "id": "bfe5c48a473902f1"
  },
  {
   "cell_type": "code",
   "execution_count": 3,
   "outputs": [
    {
     "name": "stdout",
     "output_type": "stream",
     "text": [
      "写出成功!\n"
     ]
    }
   ],
   "source": [
    "# 1. pandas写出数据到tsv文件中.\n",
    "# df.head(10).to_csv('./data/stock_day_head10_01.tsv', sep='\\t')  # 导出所有列.  sep是分隔符, 默认是逗号.\n",
    "\n",
    "# columns: 表示把哪些列写到文件中. 默认是: 全列.\n",
    "# df.head(10).to_csv('./data/stock_day_head10_02.tsv', sep='\\t', columns=['open', 'close']) \n",
    "\n",
    "# mode: 表示追加还是覆盖, w -> write(覆盖), 默认的     a -> append(追加).\n",
    "df.head(10).to_csv('./data/stock_day_head10_02.tsv', sep='\\t', columns=['open', 'close'], mode='a') \n",
    "print('写出成功!')"
   ],
   "metadata": {
    "collapsed": false,
    "ExecuteTime": {
     "end_time": "2024-12-27T14:12:33.327405400Z",
     "start_time": "2024-12-27T14:12:33.270348Z"
    }
   },
   "id": "192da9212f3a9323"
  },
  {
   "cell_type": "markdown",
   "source": [
    "## 1.4 Pandas读取tsv文件"
   ],
   "metadata": {
    "collapsed": false
   },
   "id": "9a19924e2fac4d1b"
  },
  {
   "cell_type": "code",
   "execution_count": 4,
   "outputs": [
    {
     "data": {
      "text/plain": "             open   high  close    low\n2018-02-27  23.53  25.88  24.16  23.53\n2018-02-26  22.80  23.78  23.53  22.80\n2018-02-23  22.88  23.37  22.82  22.71\n2018-02-22  22.25  22.76  22.28  22.02\n2018-02-14  21.49  21.99  21.92  21.48\n2018-02-13  21.40  21.90  21.48  21.31\n2018-02-12  20.70  21.40  21.19  20.63\n2018-02-09  21.20  21.46  20.36  20.19\n2018-02-08  21.79  22.09  21.88  21.75\n2018-02-07  22.69  23.11  21.80  21.29",
      "text/html": "<div>\n<style scoped>\n    .dataframe tbody tr th:only-of-type {\n        vertical-align: middle;\n    }\n\n    .dataframe tbody tr th {\n        vertical-align: top;\n    }\n\n    .dataframe thead th {\n        text-align: right;\n    }\n</style>\n<table border=\"1\" class=\"dataframe\">\n  <thead>\n    <tr style=\"text-align: right;\">\n      <th></th>\n      <th>open</th>\n      <th>high</th>\n      <th>close</th>\n      <th>low</th>\n    </tr>\n  </thead>\n  <tbody>\n    <tr>\n      <th>2018-02-27</th>\n      <td>23.53</td>\n      <td>25.88</td>\n      <td>24.16</td>\n      <td>23.53</td>\n    </tr>\n    <tr>\n      <th>2018-02-26</th>\n      <td>22.80</td>\n      <td>23.78</td>\n      <td>23.53</td>\n      <td>22.80</td>\n    </tr>\n    <tr>\n      <th>2018-02-23</th>\n      <td>22.88</td>\n      <td>23.37</td>\n      <td>22.82</td>\n      <td>22.71</td>\n    </tr>\n    <tr>\n      <th>2018-02-22</th>\n      <td>22.25</td>\n      <td>22.76</td>\n      <td>22.28</td>\n      <td>22.02</td>\n    </tr>\n    <tr>\n      <th>2018-02-14</th>\n      <td>21.49</td>\n      <td>21.99</td>\n      <td>21.92</td>\n      <td>21.48</td>\n    </tr>\n    <tr>\n      <th>2018-02-13</th>\n      <td>21.40</td>\n      <td>21.90</td>\n      <td>21.48</td>\n      <td>21.31</td>\n    </tr>\n    <tr>\n      <th>2018-02-12</th>\n      <td>20.70</td>\n      <td>21.40</td>\n      <td>21.19</td>\n      <td>20.63</td>\n    </tr>\n    <tr>\n      <th>2018-02-09</th>\n      <td>21.20</td>\n      <td>21.46</td>\n      <td>20.36</td>\n      <td>20.19</td>\n    </tr>\n    <tr>\n      <th>2018-02-08</th>\n      <td>21.79</td>\n      <td>22.09</td>\n      <td>21.88</td>\n      <td>21.75</td>\n    </tr>\n    <tr>\n      <th>2018-02-07</th>\n      <td>22.69</td>\n      <td>23.11</td>\n      <td>21.80</td>\n      <td>21.29</td>\n    </tr>\n  </tbody>\n</table>\n</div>"
     },
     "execution_count": 4,
     "metadata": {},
     "output_type": "execute_result"
    }
   ],
   "source": [
    "# 参1: 数据源文件的路径.\n",
    "# 参2: sep: 分隔符, 默认是逗号, 如果是读取tsv文件, 要写成 \\t\n",
    "# 参3: index_col: 表示把第0列(第1列) 设置为 行索引\n",
    "df = pd.read_csv('./data/stock_day_head10_01.tsv', sep='\\t', index_col=0)\n",
    "df"
   ],
   "metadata": {
    "collapsed": false,
    "ExecuteTime": {
     "end_time": "2024-12-27T14:13:05.526053800Z",
     "start_time": "2024-12-27T14:13:05.471635800Z"
    }
   },
   "id": "fa9326e646a00ef"
  },
  {
   "cell_type": "code",
   "execution_count": null,
   "outputs": [],
   "source": [],
   "metadata": {
    "collapsed": false
   },
   "id": "6d9863ef40d2668e"
  }
 ],
 "metadata": {
  "kernelspec": {
   "display_name": "Python 3",
   "language": "python",
   "name": "python3"
  },
  "language_info": {
   "codemirror_mode": {
    "name": "ipython",
    "version": 2
   },
   "file_extension": ".py",
   "mimetype": "text/x-python",
   "name": "python",
   "nbconvert_exporter": "python",
   "pygments_lexer": "ipython2",
   "version": "2.7.6"
  }
 },
 "nbformat": 4,
 "nbformat_minor": 5
}
