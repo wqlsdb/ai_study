{
 "cells": [
  {
   "cell_type": "code",
   "execution_count": null,
   "id": "initial_id",
   "metadata": {
    "collapsed": true
   },
   "outputs": [],
   "source": [
    "# 导包\n",
    "import pandas as pd\n",
    "import os\n",
    "from pyecharts.charts import Bar3D\n",
    "# 改变相对路径\n",
    "os.chdir(r'D:\\PycharmProjects\\pythonStudy\\Pandas')\n",
    "print(os.getcwd())"
   ]
  },
  {
   "cell_type": "code",
   "execution_count": null,
   "outputs": [],
   "source": [
    "sheet_names = ['2015','2016','2017','2018','会员等级']\n",
    "sheet_dict = pd.read_excel('./data/sales.xlsx',sheet_name=sheet_names)\n",
    "sheet_dict"
   ],
   "metadata": {
    "collapsed": false
   },
   "id": "d84f264fca22f4ed"
  },
  {
   "cell_type": "code",
   "execution_count": null,
   "outputs": [],
   "source": [
    "# 3.查看上诉数据类型\n",
    "print(type(sheet_dict))"
   ],
   "metadata": {
    "collapsed": false
   },
   "id": "1db1c3b4788c1c65"
  },
  {
   "cell_type": "code",
   "execution_count": null,
   "outputs": [],
   "source": [
    "\n",
    "# 4.从字典中获取2015表的数据\n",
    "sheet_dict['2015']\n",
    "\n",
    "# 5.查看2015表的详细数据\n",
    "sheet_dict['2015'].info\n",
    "# 5.查看2015表的统计数据\n",
    "sheet_dict['2015'].describe()"
   ],
   "metadata": {
    "collapsed": false
   },
   "id": "633dd88a577b9952"
  },
  {
   "cell_type": "code",
   "execution_count": null,
   "outputs": [],
   "source": [],
   "metadata": {
    "collapsed": false
   },
   "id": "690e9a2962e1852b"
  },
  {
   "cell_type": "code",
   "execution_count": null,
   "outputs": [],
   "source": [
    "# 8.查看个表的详细信息，统计信息\n",
    "for i in sheet_names[:-1]:\n",
    "    print(sheet_dict[i].info())\n"
   ],
   "metadata": {
    "collapsed": false
   },
   "id": "19ab4ab356b774b8"
  },
  {
   "cell_type": "markdown",
   "source": [
    "## 2.数据预处理"
   ],
   "metadata": {
    "collapsed": false
   },
   "id": "bfd522c91d228680"
  },
  {
   "cell_type": "code",
   "execution_count": null,
   "outputs": [],
   "source": [
    "# 1.处理缺失值\n",
    "for i in sheet_names[:-1]:\n",
    "    # print(sheet_dict[i].info)\n",
    "    # 2.2 处理缺失值\n",
    "    sheet_dict[i]=sheet_dict[i].dropna()\n",
    "    # 2.3 过滤出合法值，即金额1元一下的\n",
    "    sheet_dict[i]=sheet_dict[i][sheet_dict[i]['订单金额']>1]\n",
    "    # 2.3新增1列\n",
    "    sheet_dict[i]['max_year_date'] = sheet_dict[i]['提交日期'].max()"
   ],
   "metadata": {
    "collapsed": false
   },
   "id": "cc3d052dafd807f8"
  },
  {
   "cell_type": "code",
   "execution_count": null,
   "outputs": [],
   "source": [
    "for i in sheet_names[:-1]:\n",
    "    print(sheet_dict[i].info())"
   ],
   "metadata": {
    "collapsed": false
   },
   "id": "684299b8cd87b846"
  },
  {
   "cell_type": "code",
   "execution_count": null,
   "outputs": [],
   "source": [
    "# 2.5 查看处理后的数据\n",
    "for i in sheet_names:\n",
    "    print(sheet_dict[i].info())\n",
    "    # print(sheet_dict[i].describe())"
   ],
   "metadata": {
    "collapsed": false
   },
   "id": "72a44d94f78e590"
  },
  {
   "cell_type": "code",
   "execution_count": null,
   "outputs": [],
   "source": [
    "sheet_dict.values()"
   ],
   "metadata": {
    "collapsed": false
   },
   "id": "452e7f5dae98e463"
  },
  {
   "cell_type": "code",
   "execution_count": null,
   "outputs": [],
   "source": [
    "data_merge=pd.concat(list(sheet_dict.values())[:-1])"
   ],
   "metadata": {
    "collapsed": false
   },
   "id": "82cb50142363076f"
  },
  {
   "cell_type": "code",
   "execution_count": null,
   "outputs": [],
   "source": [
    "# 3.合并数据集 获取到处理后的DataFrame对象  去除会员等级   [:-1]  0到-1行 \n",
    "data_merge=pd.concat(list(sheet_dict.values())[:-1])\n",
    "data_merge"
   ],
   "metadata": {
    "collapsed": false
   },
   "id": "5c94fefc79b16b39"
  },
  {
   "cell_type": "code",
   "execution_count": null,
   "outputs": [],
   "source": [
    "# 3.合并数据集 获取到处理后的DataFrame对象  去除会员等级   [:-1]  0到-1行 \n",
    "data_merge=pd.concat(list(sheet_dict.values())[:-1],ignore_index=True)\n",
    "data_merge\n"
   ],
   "metadata": {
    "collapsed": false
   },
   "id": "1b697da42d263f71"
  },
  {
   "cell_type": "code",
   "execution_count": null,
   "outputs": [],
   "source": [
    "data_merge.index"
   ],
   "metadata": {
    "collapsed": false
   },
   "id": "e53350b1c56a4e8"
  },
  {
   "cell_type": "code",
   "execution_count": null,
   "outputs": [],
   "source": [
    "for i in data_merge:\n",
    "    print(i)"
   ],
   "metadata": {
    "collapsed": false
   },
   "id": "27c266d97b2ccdf1"
  },
  {
   "cell_type": "code",
   "execution_count": null,
   "outputs": [],
   "source": [
    "data_merge['max_year_date']"
   ],
   "metadata": {
    "collapsed": false
   },
   "id": "6838ef574d12f57b"
  },
  {
   "cell_type": "code",
   "execution_count": null,
   "outputs": [],
   "source": [
    "# 3.2 给表新增一列 年\n",
    "data_merge['year']=data_merge['max_year_date'].dt.year\n",
    "# 3.3 给表新增一列 data_interval\n",
    "data_merge['data_interval']=data_merge['max_year_date']-data_merge['提交日期']\n",
    "# 3.4 把上诉时间间隔，转成对应的天数（数值）\n",
    "data_merge['data_interval']=data_merge['data_interval'].dt.days\n",
    "# 3.5 查看最终合并结果\n",
    "data_merge"
   ],
   "metadata": {
    "collapsed": false
   },
   "id": "499f749f142d91ec"
  },
  {
   "cell_type": "code",
   "execution_count": null,
   "outputs": [],
   "source": [
    "\n",
    "# 3.2 给表新增一列 年\n",
    "data_merge['year'] = data_merge['max_year_date'].dt.year\n",
    "# 3.3 给表新增一列 data_interval\n",
    "data_merge['date_interval'] = data_merge['max_year_date'] - data_merge['提交日期']\n",
    "# 3.4 把上诉时间间隔，转成对应的天数（数值）\n",
    "data_merge['date_interval'] = data_merge['date_interval'].dt.days\n",
    "# 3.5 查看最终合并结果\n",
    "data_merge"
   ],
   "metadata": {
    "collapsed": false
   },
   "id": "e8a87666a511f78d"
  },
  {
   "cell_type": "markdown",
   "source": [
    "## 3.数据分析"
   ],
   "metadata": {
    "collapsed": false
   },
   "id": "d5f621f7f93d3d42"
  },
  {
   "cell_type": "code",
   "execution_count": null,
   "outputs": [],
   "source": [
    "# 1. 按照 year, 会员ID分组, 分别计算: r(最近购买时间), f(频次), m(金额)三项的 原始数据.\n",
    "rfm_gb=data_merge.groupby(['year','会员ID'],as_index=False).agg({\n",
    "    'date_interval':'min',\n",
    "    '订单号':'count',\n",
    "    '订单金额':'sum'\n",
    "})\n",
    "\n",
    "# 2. 修改列名.\n",
    "# rfm_gb.columns = ['year', '会员ID', 'r', 'f', 'm']\n",
    "rfm_gb"
   ],
   "metadata": {
    "collapsed": false
   },
   "id": "12f6a53292802ec0"
  },
  {
   "cell_type": "code",
   "execution_count": null,
   "outputs": [],
   "source": [
    "# 1. 按照 year, 会员ID分组, 分别计算: r(最近购买时间), f(频次), m(金额)三项的 原始数据.\n",
    "rfm_gb = data_merge.groupby(['year', '会员ID'], as_index=False).agg({\n",
    "    'date_interval': 'min',         # 间隔时间的最小值 -> r(recency)\n",
    "    '订单号': 'count',               # 购买频次的数量 -> f(frequency)\n",
    "    '订单金额': 'sum'                # 购买金额的和 -> m(monetary)\n",
    "})\n",
    "\n",
    "# 2. 修改列名.\n",
    "rfm_gb.columns = ['year', '会员ID', 'r', 'f', 'm']\n",
    "rfm_gb"
   ],
   "metadata": {
    "collapsed": false
   },
   "id": "f58d20322e13e320"
  },
  {
   "cell_type": "code",
   "execution_count": null,
   "outputs": [],
   "source": [
    "rfm_gb.iloc[:2,2:]\n",
    "rfm_gb"
   ],
   "metadata": {
    "collapsed": false
   },
   "id": "4c54904e7445799d"
  },
  {
   "cell_type": "code",
   "execution_count": null,
   "outputs": [],
   "source": [
    "rfm_gb.iloc[:,2:].describe()"
   ],
   "metadata": {
    "collapsed": false
   },
   "id": "135a10196ab0f2db"
  },
  {
   "cell_type": "code",
   "execution_count": null,
   "outputs": [],
   "source": [
    "# 3. 因为采用的是三分法，所以需要确定4个值，才能划分三个区间\n",
    "# 3.1 查看r,f,m的分数位\n",
    "rfm_gb.iloc[:,2:].describe().T"
   ],
   "metadata": {
    "collapsed": false
   },
   "id": "2167134d2e576287"
  },
  {
   "cell_type": "code",
   "execution_count": null,
   "outputs": [],
   "source": [
    "# 3.2 自定义区间\n",
    "r_bins = [-1,79,255,365]\n",
    "f_bins = [0,2,5,130]\n",
    "m_bins = [0,69,1199,206252]"
   ],
   "metadata": {
    "collapsed": false
   },
   "id": "4442ab46f6d85e41"
  },
  {
   "cell_type": "code",
   "execution_count": null,
   "outputs": [],
   "source": [
    "# 4. 具体的划分区间的动作, 获取 r, f, m三项的 具体评分. \n",
    "# 场景1: 演示 自动划分区间, 即: 给定区间数, 由Pandas自动划分区间."
   ],
   "metadata": {
    "collapsed": false
   },
   "id": "51e67d29921222f3"
  },
  {
   "cell_type": "code",
   "execution_count": null,
   "outputs": [],
   "source": [
    "# 4. 具体的划分区间的动作, 获取 r, f, m三项的 具体评分. \n",
    "# 场景1: 演示 自动划分区间, 即: 给定区间数, 由Pandas自动划分区间.\n",
    "pd.cut(rfm_gb['r'], bins=3).unique()        # Categories类型: [(-0.365, 121.667], (121.667, 243.333], (243.333, 365.0]]\n",
    "\n",
    "# 场景2: 演示 自定义区间, 即: 我们给定数字, 由Pandas进行具体的划分.\n",
    "pd.cut(rfm_gb['r'], bins=r_bins).unique()   # Categories类型: [(-1, 79], (79, 255], (255, 365]]\n",
    "\n",
    "# 场景3: 自定义区间 + 评分.\n",
    "pd.cut(rfm_gb['r'], bins=r_bins, labels=[3, 2, 1])      # 可以, 但是不推荐, 因为值写死了. \n",
    "pd.cut(rfm_gb['f'], bins=f_bins, labels=[1, 2, 3])      # 可以, 但是不推荐, 因为值写死了. \n",
    "pd.cut(rfm_gb['m'], bins=m_bins, labels=[1, 2, 3])      # 可以, 但是不推荐, 因为值写死了. \n",
    "\n",
    "# 场景4: 最终版, 自定义区间 + 评分(结合区间值 列表的长度获取)\n",
    "# r(Recency): 最后一次购买的时间, 越小越好, 评分是: 3, 2, 1\n",
    "rfm_gb['r_label'] = pd.cut(rfm_gb['r'], bins=r_bins, labels=[i for i in range(len(r_bins) - 1, 0, -1)]) # range(3, 0, -1) -> [3, 2, 1]    \n",
    "# f(Frequency): 购买频次, 越大越好, 评分是: 1, 2, 3\n",
    "rfm_gb['f_label'] = pd.cut(rfm_gb['f'], bins=f_bins, labels=[i for i in range(1, len(f_bins))]) # range(1, 4) -> [1, 2, 3]    \n",
    "# m(Monetary): 购买金额, 越大越好, 评分是: 1, 2, 3\n",
    "rfm_gb['m_label'] = pd.cut(rfm_gb['m'], bins=m_bins, labels=[i for i in range(1, len(m_bins))]) # range(1, 4) -> [1, 2, 3]    \n",
    "rfm_gb"
   ],
   "metadata": {
    "collapsed": false
   },
   "id": "a8b070309333dc01"
  },
  {
   "cell_type": "code",
   "execution_count": null,
   "outputs": [],
   "source": [],
   "metadata": {
    "collapsed": false
   },
   "id": "e39534a7cae178a4"
  }
 ],
 "metadata": {
  "kernelspec": {
   "display_name": "Python 3",
   "language": "python",
   "name": "python3"
  },
  "language_info": {
   "codemirror_mode": {
    "name": "ipython",
    "version": 2
   },
   "file_extension": ".py",
   "mimetype": "text/x-python",
   "name": "python",
   "nbconvert_exporter": "python",
   "pygments_lexer": "ipython2",
   "version": "2.7.6"
  }
 },
 "nbformat": 4,
 "nbformat_minor": 5
}
