{
 "cells": [
  {
   "cell_type": "code",
   "execution_count": 12,
   "id": "initial_id",
   "metadata": {
    "collapsed": true,
    "ExecuteTime": {
     "end_time": "2024-12-29T14:41:08.725299800Z",
     "start_time": "2024-12-29T14:41:08.710324500Z"
    }
   },
   "outputs": [],
   "source": [
    "import numpy as np\n",
    "import pandas as pd\n",
    "import collections"
   ]
  },
  {
   "cell_type": "code",
   "execution_count": 13,
   "outputs": [
    {
     "data": {
      "text/plain": "array([[  1, 101],\n       [  5,  89],\n       [108,   5],\n       [115,   8]])"
     },
     "execution_count": 13,
     "metadata": {},
     "output_type": "execute_result"
    }
   ],
   "source": [
    "group = np.array([[1, 101], [5, 89], [108, 5], [115, 8]])\n",
    "group"
   ],
   "metadata": {
    "collapsed": false,
    "ExecuteTime": {
     "end_time": "2024-12-29T14:41:23.388945400Z",
     "start_time": "2024-12-29T14:41:23.368419700Z"
    }
   },
   "id": "517d8a852defbcfa"
  },
  {
   "cell_type": "code",
   "execution_count": 14,
   "outputs": [
    {
     "data": {
      "text/plain": "['爱情片', '动作片', '爱情片', '动作片']"
     },
     "execution_count": 14,
     "metadata": {},
     "output_type": "execute_result"
    }
   ],
   "source": [
    "labels = ['爱情片', '动作片', '爱情片', '动作片']\n",
    "labels"
   ],
   "metadata": {
    "collapsed": false,
    "ExecuteTime": {
     "end_time": "2024-12-29T14:41:25.080608900Z",
     "start_time": "2024-12-29T14:41:25.068412800Z"
    }
   },
   "id": "5aba7bbbae322bc8"
  },
  {
   "cell_type": "code",
   "execution_count": 19,
   "outputs": [
    {
     "data": {
      "text/plain": "   feature1  feature2 labels\n0         1       101    爱情片\n1         5        89    动作片\n2       108         5    爱情片\n3       115         8    动作片",
      "text/html": "<div>\n<style scoped>\n    .dataframe tbody tr th:only-of-type {\n        vertical-align: middle;\n    }\n\n    .dataframe tbody tr th {\n        vertical-align: top;\n    }\n\n    .dataframe thead th {\n        text-align: right;\n    }\n</style>\n<table border=\"1\" class=\"dataframe\">\n  <thead>\n    <tr style=\"text-align: right;\">\n      <th></th>\n      <th>feature1</th>\n      <th>feature2</th>\n      <th>labels</th>\n    </tr>\n  </thead>\n  <tbody>\n    <tr>\n      <th>0</th>\n      <td>1</td>\n      <td>101</td>\n      <td>爱情片</td>\n    </tr>\n    <tr>\n      <th>1</th>\n      <td>5</td>\n      <td>89</td>\n      <td>动作片</td>\n    </tr>\n    <tr>\n      <th>2</th>\n      <td>108</td>\n      <td>5</td>\n      <td>爱情片</td>\n    </tr>\n    <tr>\n      <th>3</th>\n      <td>115</td>\n      <td>8</td>\n      <td>动作片</td>\n    </tr>\n  </tbody>\n</table>\n</div>"
     },
     "execution_count": 19,
     "metadata": {},
     "output_type": "execute_result"
    }
   ],
   "source": [
    "df_data=pd.DataFrame(data=group,columns=['feature1','feature2'])\n",
    "df_data['labels']=labels\n",
    "df_data"
   ],
   "metadata": {
    "collapsed": false,
    "ExecuteTime": {
     "end_time": "2024-12-29T14:46:18.321893500Z",
     "start_time": "2024-12-29T14:46:18.281175800Z"
    }
   },
   "id": "5eebd56208211383"
  },
  {
   "cell_type": "code",
   "execution_count": null,
   "outputs": [],
   "source": [],
   "metadata": {
    "collapsed": false
   },
   "id": "ffc35993ebf25ac4"
  },
  {
   "cell_type": "code",
   "execution_count": null,
   "outputs": [],
   "source": [
    "test = [101, 20]"
   ],
   "metadata": {
    "collapsed": false
   },
   "id": "800dafff103397dc"
  },
  {
   "cell_type": "code",
   "execution_count": 4,
   "outputs": [
    {
     "data": {
      "text/plain": "(array([[  1, 101],\n        [  5,  89],\n        [108,   5],\n        [115,   8]]),\n ['爱情片', '爱情片', '动作片', '动作片'])"
     },
     "execution_count": 4,
     "metadata": {},
     "output_type": "execute_result"
    }
   ],
   "source": [
    "def createDataSet():\n",
    "    # 四组二维特征\n",
    "    group = np.array([[1, 101], [5, 89], [108, 5], [115, 8]])\n",
    "    # 四组特征的标签\n",
    "    labels = ['爱情片', '爱情片', '动作片', '动作片']\n",
    "    return group, labels\n",
    "createDataSet()"
   ],
   "metadata": {
    "collapsed": false,
    "ExecuteTime": {
     "end_time": "2024-12-29T14:36:40.486857400Z",
     "start_time": "2024-12-29T14:36:40.472411Z"
    }
   },
   "id": "f764b209e7d3552f"
  },
  {
   "cell_type": "code",
   "execution_count": null,
   "outputs": [],
   "source": [],
   "metadata": {
    "collapsed": false
   },
   "id": "8576ac08b6d8b76a"
  }
 ],
 "metadata": {
  "kernelspec": {
   "display_name": "Python 3",
   "language": "python",
   "name": "python3"
  },
  "language_info": {
   "codemirror_mode": {
    "name": "ipython",
    "version": 2
   },
   "file_extension": ".py",
   "mimetype": "text/x-python",
   "name": "python",
   "nbconvert_exporter": "python",
   "pygments_lexer": "ipython2",
   "version": "2.7.6"
  }
 },
 "nbformat": 4,
 "nbformat_minor": 5
}
