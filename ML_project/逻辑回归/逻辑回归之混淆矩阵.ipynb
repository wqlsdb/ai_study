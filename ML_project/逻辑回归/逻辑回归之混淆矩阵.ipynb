{
 "cells": [
  {
   "cell_type": "code",
   "execution_count": 2,
   "id": "initial_id",
   "metadata": {
    "collapsed": true,
    "ExecuteTime": {
     "end_time": "2025-01-02T14:11:17.069751700Z",
     "start_time": "2025-01-02T14:11:17.015077900Z"
    }
   },
   "outputs": [],
   "source": [
    "import pandas as pd\n",
    "from sklearn.metrics import confusion_matrix"
   ]
  },
  {
   "cell_type": "code",
   "execution_count": 4,
   "outputs": [
    {
     "data": {
      "text/plain": "['恶性', '恶性', '恶性', '恶性', '恶性', '恶性', '良性', '良性', '良性', '良性']"
     },
     "execution_count": 4,
     "metadata": {},
     "output_type": "execute_result"
    }
   ],
   "source": [
    "# 1.定义数据集\n",
    "y_train = ['恶性', '恶性', '恶性', '恶性', '恶性', '恶性', '良性', '良性', '良性', '良性']\n",
    "y_train"
   ],
   "metadata": {
    "collapsed": false,
    "ExecuteTime": {
     "end_time": "2025-01-02T14:11:24.423274700Z",
     "start_time": "2025-01-02T14:11:24.378756100Z"
    }
   },
   "id": "b704fc322910a43d"
  },
  {
   "cell_type": "code",
   "execution_count": 5,
   "outputs": [],
   "source": [
    "# 2.定义标签名\n",
    "label = ['恶性', '良性']\n",
    "df_label = ['恶性(正例)', '良性(反例)']"
   ],
   "metadata": {
    "collapsed": false,
    "ExecuteTime": {
     "end_time": "2025-01-02T14:11:54.915503300Z",
     "start_time": "2025-01-02T14:11:54.903541100Z"
    }
   },
   "id": "2dcb120f07f61e54"
  },
  {
   "cell_type": "code",
   "execution_count": 6,
   "outputs": [],
   "source": [
    "# 3. 定义预测结果 3个恶\n",
    "y_pre_A = ['恶性', '恶性', '恶性', '良性', '良性', '良性', '良性', '良性', '良性', '良性']\n"
   ],
   "metadata": {
    "collapsed": false,
    "ExecuteTime": {
     "end_time": "2025-01-02T14:11:56.704678500Z",
     "start_time": "2025-01-02T14:11:56.683866500Z"
    }
   },
   "id": "9cae9bc6a85c72aa"
  },
  {
   "cell_type": "code",
   "execution_count": 9,
   "outputs": [
    {
     "name": "stdout",
     "output_type": "stream",
     "text": [
      "混淆矩阵A: \n",
      " [[3 3]\n",
      " [0 4]]\n"
     ]
    }
   ],
   "source": [
    "cm_A = confusion_matrix(y_train, y_pre_A, labels=label)\n",
    "print(f'混淆矩阵A: \\n {cm_A}')"
   ],
   "metadata": {
    "collapsed": false,
    "ExecuteTime": {
     "end_time": "2025-01-02T14:13:36.836619600Z",
     "start_time": "2025-01-02T14:13:36.820438200Z"
    }
   },
   "id": "a854c4cf3d9860cf"
  },
  {
   "cell_type": "code",
   "execution_count": 8,
   "outputs": [
    {
     "name": "stdout",
     "output_type": "stream",
     "text": [
      "预测结果A对应的DataFrame对象: \n",
      "         恶性(正例)  良性(反例)\n",
      "恶性(正例)       3       3\n",
      "良性(反例)       0       4\n"
     ]
    }
   ],
   "source": [
    "# 5. 把混淆矩阵 转换成 DataFrame\n",
    "df_A = pd.DataFrame(cm_A, index=df_label, columns=df_label)\n",
    "print(f'预测结果A对应的DataFrame对象: \\n {df_A}')"
   ],
   "metadata": {
    "collapsed": false,
    "ExecuteTime": {
     "end_time": "2025-01-02T14:12:25.196268700Z",
     "start_time": "2025-01-02T14:12:25.147653100Z"
    }
   },
   "id": "56d78a3a19346af8"
  },
  {
   "cell_type": "code",
   "execution_count": 11,
   "outputs": [
    {
     "name": "stdout",
     "output_type": "stream",
     "text": [
      "混淆矩阵B: \n",
      " [[6 0]\n",
      " [3 1]]\n"
     ]
    }
   ],
   "source": [
    "# 6. 定义 预测结果B, 预测对了 -> 6个恶性肿瘤, 1个良性肿瘤.\n",
    "y_pre_B = ['恶性', '恶性', '恶性', '恶性', '恶性', '恶性',   '恶性', '恶性', '恶性', '良性']\n",
    "# 7. 把上述的 预测结果B 转换成 混淆矩阵.\n",
    "cm_B = confusion_matrix(y_train,y_pre_B,labels=label)\n",
    "print(f'混淆矩阵B: \\n {cm_B}')"
   ],
   "metadata": {
    "collapsed": false,
    "ExecuteTime": {
     "end_time": "2025-01-02T14:32:01.076051400Z",
     "start_time": "2025-01-02T14:32:01.064302Z"
    }
   },
   "id": "a3d90af3b9ea23b9"
  },
  {
   "cell_type": "code",
   "execution_count": null,
   "outputs": [],
   "source": [
    "# 8. 把混淆矩阵 转换成 DataFrame.\n",
    "df_B = pd.DataFrame(cm_B,index=df_label,columns=df_label)\n",
    "print(f'预测结果B对应的DataFrame对象: \\n {df_B}')"
   ],
   "metadata": {
    "collapsed": false
   },
   "id": "b3cc090e9d848447"
  }
 ],
 "metadata": {
  "kernelspec": {
   "display_name": "Python 3",
   "language": "python",
   "name": "python3"
  },
  "language_info": {
   "codemirror_mode": {
    "name": "ipython",
    "version": 2
   },
   "file_extension": ".py",
   "mimetype": "text/x-python",
   "name": "python",
   "nbconvert_exporter": "python",
   "pygments_lexer": "ipython2",
   "version": "2.7.6"
  }
 },
 "nbformat": 4,
 "nbformat_minor": 5
}
