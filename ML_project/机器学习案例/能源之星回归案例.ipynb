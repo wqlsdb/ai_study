{
 "cells": [
  {
   "cell_type": "code",
   "execution_count": null,
   "id": "initial_id",
   "metadata": {
    "collapsed": true
   },
   "outputs": [],
   "source": [
    "import pandas as pd\n",
    "import numpy as np\n",
    "import matplotlib.pyplot as plt\n",
    "from IPython.core.pylabtools import figsize  # 用来设置图片大小\n",
    "import seaborn as sns\n",
    "from sklearn.model_selection import train_test_split  # 训练集测试集划分\n",
    "import warnings\n",
    "warnings.filterwarnings('ignore')"
   ]
  },
  {
   "cell_type": "code",
   "execution_count": null,
   "outputs": [],
   "source": [
    "data = pd.read_csv('./data/Energy_and_Water_Data_Disclosure_for_Local_Law_84_2017__Data_for_Calendar_Year_2016_.csv')\n",
    "data.head()"
   ],
   "metadata": {
    "collapsed": false
   },
   "id": "a23ac636bd092a3a"
  },
  {
   "cell_type": "code",
   "execution_count": null,
   "outputs": [],
   "source": [
    "data = data.replace(to_replace='Not Available', value=np.nan)\n",
    "\n",
    "# print('替换缺失值后的nan值个数\\n', data.isna().sum())\n",
    "# todo:2-将原本为数值列的列(当前object列)转换成数值列,通过观察数据发现，部分数值列为object类型，需要转换成数值类型\n",
    "# df[列名] = df[列名].astype(dtype=)\n",
    "for col in data.columns:\n",
    "\t# 判断, 列名中包含以下字符的列需要转换成float类型\n",
    "\tif ('ft²' in col or 'kBtu' in col or 'Metric Tons CO2e' in col or 'kWh' in\n",
    "\t\t\tcol or 'therms' in col or 'gal' in col or 'Score' in col):\n",
    "\t\tdata[col] = data[col].astype(float)\n",
    "# todo:3-删除缺失值占比超过50%的列\n",
    "#统计每列的缺失个数\n",
    "mis_val = data.isnull().sum()\n",
    "#统计每类的缺失值占比\n",
    "mis_val_percent = mis_val / len(data) * 100\n",
    "# 缺失值个数s对象和缺失值占比s对象合并成df对象\n",
    "mis_val_table = pd.concat([mis_val, mis_val_percent], axis=1)\n",
    "# 对mis_val_table df对象修改列名，默认列名0,1\n",
    "# mis_val_table_ren_columns = mis_val_table.rename(columns={0: 'Missing Values', 1: '% of Total Values'})\n",
    "mis_val_table = mis_val_table.rename(columns={0: '缺失值个数', 1: '缺失值占比'})\n"
   ],
   "metadata": {
    "collapsed": false
   },
   "id": "cadbe92566dac01c"
  },
  {
   "cell_type": "code",
   "execution_count": null,
   "outputs": [],
   "source": [
    "df=data['Site EUI (kBtu/ft²)'].head()\n",
    "print(df)"
   ],
   "metadata": {
    "collapsed": false
   },
   "id": "3db4c7780621e703"
  },
  {
   "cell_type": "code",
   "execution_count": null,
   "outputs": [],
   "source": [
    "first_quartile = data['Site EUI (kBtu/ft²)'].quantile(q=0.25)\n",
    "first_quartile\n"
   ],
   "metadata": {
    "collapsed": false
   },
   "id": "a1d38276fea7ae53"
  },
  {
   "cell_type": "code",
   "execution_count": null,
   "outputs": [],
   "source": [
    "# todo: 1-修改目标列的列名\n",
    "data = data.rename(columns={'ENERGY STAR Score': 'score'})\n",
    "# todo: 1-删除score列包含缺失值的样本\n",
    "boroughs = data.dropna(subset=['score'])\n",
    "boroughs\n",
    "# todo: 2-统计Largest Property Use Type列每个特征值出现的次数\n",
    "# boroughs = boroughs['Borough'].value_counts()  # df.groupby('Borough')['Borough'].count()\n",
    "\n",
    "# todo: 3-获取出现次数大于100的特征值"
   ],
   "metadata": {
    "collapsed": false
   },
   "id": "1b7e19afff60e1e4"
  },
  {
   "cell_type": "code",
   "execution_count": null,
   "outputs": [],
   "source": [
    "boroughs =boroughs['Borough'].value_counts()\n",
    "boroughs"
   ],
   "metadata": {
    "collapsed": false
   },
   "id": "fd8aa4a7bd0e1c7f"
  },
  {
   "cell_type": "code",
   "execution_count": null,
   "outputs": [],
   "source": [
    "# todo: 3-获取出现次数大于100的特征值\n",
    "boroughs = boroughs[boroughs.values > 100].index\n",
    "boroughs"
   ],
   "metadata": {
    "collapsed": false
   },
   "id": "803494f6d558c734"
  },
  {
   "cell_type": "code",
   "execution_count": null,
   "outputs": [],
   "source": [
    "corr_data = data.select_dtypes('number').corr()['score'].sort_values()\n",
    "corr_data"
   ],
   "metadata": {
    "collapsed": false
   },
   "id": "dac62b1a11b6a08a"
  },
  {
   "cell_type": "code",
   "execution_count": null,
   "outputs": [],
   "source": [
    "numeric_subset = data.select_dtypes(\"number\")\n",
    "numeric_subset"
   ],
   "metadata": {
    "collapsed": false
   },
   "id": "638b40d6d6c4575d"
  },
  {
   "cell_type": "code",
   "execution_count": null,
   "outputs": [],
   "source": [
    "# mis_val_table[mis_val_table['缺失值占比']]\n",
    "mis_val_table[mis_val_table['缺失值占比']!=0]"
   ],
   "metadata": {
    "collapsed": false
   },
   "id": "5419c4cd433ff1d8"
  },
  {
   "cell_type": "code",
   "execution_count": null,
   "outputs": [],
   "source": [
    "for col in numeric_subset.columns:\n",
    "    # todo 该列若不是分数列，全部开平方根和取对数\n",
    "    if col != 'score':\n",
    "        # 获取数值列的平方根\n",
    "        numeric_subset[col + 'sqrt'] = np.sqrt(numeric_subset[col])\n",
    "        # 获取数值列的对数\n",
    "        numeric_subset[col + 'log'] = np.log(numeric_subset[col])\n",
    "\t\t\n",
    "categorical_subset = data[['Largest Property Use Type', 'Borough']]\n",
    "categorical_subset = pd.get_dummies(categorical_subset)\n",
    "\n"
   ],
   "metadata": {
    "collapsed": false
   },
   "id": "bd8f50723a231623"
  },
  {
   "cell_type": "code",
   "execution_count": null,
   "outputs": [],
   "source": [
    "features = pd.concat([numeric_subset,categorical_subset])\n",
    "features\n"
   ],
   "metadata": {
    "collapsed": false
   },
   "id": "c74dfbe7c1a76d2d"
  },
  {
   "cell_type": "code",
   "execution_count": null,
   "outputs": [],
   "source": [
    "features = features.dropna(subset=['score'])"
   ],
   "metadata": {
    "collapsed": false
   },
   "id": "b435553d0fad663b"
  },
  {
   "cell_type": "code",
   "execution_count": null,
   "outputs": [],
   "source": [
    "data['ENERGY STAR Score'].head(10)"
   ],
   "metadata": {
    "collapsed": false
   },
   "id": "44a22d18775b6fb8"
  },
  {
   "cell_type": "code",
   "execution_count": null,
   "outputs": [],
   "source": [
    "data['Largest Property Use Type'].value_counts()"
   ],
   "metadata": {
    "collapsed": false
   },
   "id": "fe911f1ee1ba6b77"
  },
  {
   "cell_type": "code",
   "execution_count": null,
   "outputs": [],
   "source": [
    "data['Largest Property Use Type'].value_counts()"
   ],
   "metadata": {
    "collapsed": false
   },
   "id": "67322231f976558c"
  },
  {
   "cell_type": "code",
   "execution_count": null,
   "outputs": [],
   "source": [],
   "metadata": {
    "collapsed": false
   },
   "id": "5e1fa4b4b79b5258"
  },
  {
   "cell_type": "code",
   "execution_count": null,
   "outputs": [],
   "source": [
    "data = data.rename(columns={'ENERGY STAR Score': 'score'})"
   ],
   "metadata": {
    "collapsed": false
   },
   "id": "bb758ae5cfcebc58"
  },
  {
   "cell_type": "code",
   "execution_count": null,
   "outputs": [],
   "source": [
    "# todo: 1-删除score列包含缺失值的样本\n",
    "types = data.dropna(subset=['score'])\n",
    "print(types)"
   ],
   "metadata": {
    "collapsed": false
   },
   "id": "c1ac941c0d4d6118"
  },
  {
   "cell_type": "code",
   "execution_count": null,
   "outputs": [],
   "source": [
    "data['Borough'].value_counts()"
   ],
   "metadata": {
    "collapsed": false
   },
   "id": "80cae47b00bae92"
  },
  {
   "cell_type": "code",
   "execution_count": null,
   "outputs": [],
   "source": [
    "# todo: 2-统计Largest Property Use Type列每个特征值出现的次数\n",
    "types = types['Largest Property Use Type'].value_counts()\n",
    "print(types)\n"
   ],
   "metadata": {
    "collapsed": false
   },
   "id": "fc78c9df2ba5c73a"
  },
  {
   "cell_type": "code",
   "execution_count": null,
   "outputs": [],
   "source": [
    "types = types[types.values > 100].index\n",
    "print(types)"
   ],
   "metadata": {
    "collapsed": false
   },
   "id": "1b0f6261b96cb1b7"
  },
  {
   "cell_type": "code",
   "execution_count": null,
   "outputs": [],
   "source": [
    "for b_type in types:\n",
    "\t# 获取每个特征值对应的数据子集\n",
    "\tsubset = data[data['Largest Property Use Type'] == b_type]\n",
    "\t# 绘制kde图\n",
    "\tsns.kdeplot(subset['score'].dropna(), label=b_type)\n",
    "plt.xlabel('Energy Star Score', size=20)\n",
    "plt.ylabel('Density', size=20)\n",
    "plt.title('Density Plot of Energy Star Scores by Building Type', size=28)\n",
    "plt.legend()\n",
    "plt.show()"
   ],
   "metadata": {
    "collapsed": false
   },
   "id": "6b36ee5491e704d6"
  },
  {
   "cell_type": "code",
   "execution_count": null,
   "outputs": [],
   "source": [
    "data = pd.read_csv('data/Energy_and_Water_Data_Disclosure_for_Local_Law_84_2017__Data_for_Calendar_Year_2016_.csv')\n",
    "# 查看数据集信息\n",
    "# 查看前五条数据\n",
    "print('前5行数据->', data.head())\n",
    "# 查看数据集形状 行*列\n",
    "print('数据集形状->', data.shape)\n",
    "# 查看数值列统计描述信息\n",
    "print('统计描述信息->', data.describe())\n",
    "data.info()\n",
    "print('目标值列y->', data['ENERGY STAR Score'])\n",
    "# 查看1-100分的数据条目数\n",
    "print('1-100分数据条目数->', data['ENERGY STAR Score'].value_counts())\n",
    "print('=======================数据清洗=======================')\n",
    "# todo:1-替换缺失值  Not Available替换成nan值\n",
    "data = data.replace(to_replace='Not Available', value=np.nan)\n",
    "# data.info()\n",
    "# todo:2-将原本为数值列的列(当前object列)转换成数值列\n",
    "# df[列名] = df[列名].astype(dtype=)\n",
    "for col in data.columns:\n",
    "\t# 判断, 列名中包含以下字符的列需要转换成float类型\n",
    "\tif ('ft²' in col or 'kBtu' in col or 'Metric Tons CO2e' in col or 'kWh' in\n",
    "\t\t\tcol or 'therms' in col or 'gal' in col or 'Score' in col):\n",
    "\t\tdata[col] = data[col].astype(float)\n",
    "# data.info()\n",
    "# todo:3-删除缺失值占比超过50%的列\n",
    "# data = data.dropna(thresh=len(data)*0.5, axis=1)\n",
    "# 统计每列的缺失个数\n",
    "mis_val = data.isnull().sum()\n",
    "# print('mis_val->', mis_val)\n",
    "# 统计每类的缺失值占比\n",
    "# data.shape[0]\n",
    "mis_val_percent = mis_val / len(data) * 100\n",
    "# print('mis_val_percent->', mis_val_percent)\n",
    "# 缺失值个数s对象和缺失值占比s对象合并成df对象\n",
    "mis_val_table = pd.concat([mis_val, mis_val_percent], axis=1)\n",
    "# print('mis_val_table->', mis_val_table)\n",
    "# 修改合并df的列名\n",
    "mis_val_table_ren_columns = mis_val_table.rename(columns={0: 'Missing Values', 1: '% of Total Values'})\n",
    "# 先获取包含缺失值列的df子集,再根据缺失值占比进行降序排序\n",
    "mis_val_table_ren_columns = (mis_val_table_ren_columns[mis_val_table_ren_columns['% of Total Values'] != 0].\n",
    "\t\t\t\t\t\t\t sort_values('% of Total Values', ascending=False).round(1))\n",
    "# print('mis_val_table_ren_columns->', mis_val_table_ren_columns)\n",
    "# 获取缺失值占比超过50%的列名\n",
    "drop_cols = mis_val_table_ren_columns[mis_val_table_ren_columns['% of Total Values'] > 50].index\n",
    "# print('drop_cols->', drop_cols)\n",
    "# 删除列名\n",
    "data = data.drop(columns=drop_cols)\n",
    "print(data.shape)\n",
    "print('=======================探索性数据分析EDA=======================')\n",
    "print('=======================EDA之异常值=======================')\n",
    "# todo: 1-修改目标列的列名\n",
    "data = data.rename(columns={'ENERGY STAR Score': 'score'})\n",
    "# todo: 2-探索目标值列的异常值 hist直方图  describe()\n",
    "print(data['score'].describe())\n",
    "# data[data['score'] == 1].sample(120)  # 随机采样\n",
    "# plt.style.use('fivethirtyeight')\n",
    "# # bins: 100箱, 1-100分\n",
    "# plt.hist(data['score'].dropna(), bins=100)\n",
    "# plt.xlabel('Score')\n",
    "# plt.ylabel('Number of Buildings')\n",
    "# plt.title('Energy Star Score Distribution')\n",
    "# plt.show()\n",
    "# todo: 3-探索特征值列的异常值 拿一个特征举例 hist直方图  describe()\n",
    "print(data['Site EUI (kBtu/ft²)'].describe())\n",
    "# plt.style.use('fivethirtyeight')\n",
    "# bins: 100箱, 1-100分\n",
    "# plt.hist(data['Site EUI (kBtu/ft²)'].dropna(), bins=20)\n",
    "# plt.xlabel('Site EUI')\n",
    "# plt.ylabel('Count')\n",
    "# plt.title('Site EUI Distribution')\n",
    "# plt.show()\n",
    "# todo: 4-删除异常值 IQR 四分位距方法\n",
    "first_quartile = data['Site EUI (kBtu/ft²)'].quantile(q=0.25)\n",
    "third_quartile = data['Site EUI (kBtu/ft²)'].quantile(q=0.75)\n",
    "IQR = third_quartile - first_quartile\n",
    "# 删除异常值, 过滤数据子集\n",
    "data = data[(data['Site EUI (kBtu/ft²)'] > (first_quartile - 3 * IQR)) & (\n",
    "\t\tdata['Site EUI (kBtu/ft²)'] < (third_quartile + 3 * IQR))]\n",
    "print(data.shape)\n",
    "print(data['Site EUI (kBtu/ft²)'].describe())\n",
    "plt.hist(data['Site EUI (kBtu/ft²)'].dropna(), bins=20)\n",
    "plt.xlabel('Site EUI')\n",
    "plt.ylabel('Count')\n",
    "plt.title('Site EUI Distribution')\n",
    "plt.show()\n",
    "print('=======================EDA之KDE图分析x和y关系=======================')\n",
    "# 离散值特征列和y关系分析\n",
    "# 最大物业特征列\n",
    "# todo: 1-删除score列包含缺失值的样本\n",
    "types = data.dropna(subset=['score'])\n",
    "print(types)\n",
    "# todo: 2-统计Largest Property Use Type列每个特征值出现的次数\n",
    "types = types['Largest Property Use Type'].value_counts()\n",
    "print(types)\n",
    "# todo: 3-获取出现次数大于100的特征值\n",
    "types = types[types.values > 100].index\n",
    "print(types)\n",
    "# todo: 4-绘制KDE核密度估计图\n",
    "for b_type in types:\n",
    "\t# 获取每个特征值对应的数据子集\n",
    "\tsubset = data[data['Largest Property Use Type'] == b_type]\n",
    "\t# 绘制kde图\n",
    "\tsns.kdeplot(subset['score'].dropna(), label=b_type)\n",
    "plt.xlabel('Energy Star Score', size=20)\n",
    "plt.ylabel('Density', size=20)\n",
    "plt.title('Density Plot of Energy Star Scores by Building Type', size=28)\n",
    "plt.legend()\n",
    "plt.show()\n",
    "# 自治市镇特征列\n",
    "# todo: 1-删除score列包含缺失值的样本\n",
    "boroughs = data.dropna(subset=['score'])\n",
    "print(boroughs)\n",
    "# todo: 2-统计Largest Property Use Type列每个特征值出现的次数\n",
    "boroughs = boroughs['Borough'].value_counts()\n",
    "print(boroughs)\n",
    "# todo: 3-获取出现次数大于100的特征值\n",
    "boroughs = boroughs[boroughs.values > 100].index\n",
    "print(boroughs)\n",
    "# todo: 4-绘制KDE核密度估计图\n",
    "for borough in boroughs:\n",
    "\t# 获取每个特征值对应的数据子集\n",
    "\tsubset = data[data['Borough'] == borough]\n",
    "\t# 绘制kde图\n",
    "\tsns.kdeplot(subset['score'].dropna(), label=borough)\n",
    "plt.xlabel('Energy Star Score', size=20)\n",
    "plt.ylabel('Density', size=20)\n",
    "plt.title('Density Plot of Energy Star Scores by Building Type', size=28)\n",
    "plt.legend()\n",
    "plt.show()"
   ],
   "metadata": {
    "collapsed": false
   },
   "id": "ebdef209c6728e4f"
  },
  {
   "cell_type": "code",
   "execution_count": null,
   "outputs": [],
   "source": [
    "print('=======================EDA之KDE图分析x和y关系=======================')\n",
    "# 离散值特征列和y关系分析\n",
    "# 最大物业特征列\n",
    "# todo: 1-删除score列包含缺失值的样本\n",
    "types = data.dropna(subset=['score'])\n",
    "print(types)\n",
    "# todo: 2-统计Largest Property Use Type列每个特征值出现的次数\n",
    "types = types['Largest Property Use Type'].value_counts()\n",
    "print(types)\n",
    "# todo: 3-获取出现次数大于100的特征值\n",
    "types = types[types.values > 100].index\n",
    "print(types)\n",
    "# todo: 4-绘制KDE核密度估计图\n",
    "for b_type in types:\n",
    "\t# 获取每个特征值对应的数据子集\n",
    "\tsubset = data[data['Largest Property Use Type'] == b_type]\n",
    "\t# 绘制kde图\n",
    "\tsns.kdeplot(subset['score'].dropna(), label=b_type)\n",
    "plt.xlabel('Energy Star Score', size=20)\n",
    "plt.ylabel('Density', size=20)\n",
    "plt.title('Density Plot of Energy Star Scores by Building Type', size=28)\n",
    "plt.legend()\n",
    "plt.show()\n"
   ],
   "metadata": {
    "collapsed": false
   },
   "id": "4749b0eff5ccf3c2"
  },
  {
   "cell_type": "code",
   "execution_count": null,
   "outputs": [],
   "source": [
    "data['Density']"
   ],
   "metadata": {
    "collapsed": false
   },
   "id": "8a7357728fbf8fc4"
  },
  {
   "cell_type": "code",
   "execution_count": null,
   "outputs": [],
   "source": [
    "# 自治市镇特征列\n",
    "# todo: 1-删除score列包含缺失值的样本\n",
    "boroughs = data.dropna(subset=['score'])\n",
    "# print(boroughs)\n",
    "# todo: 2-统计Largest Property Use Type列每个特征值出现的次数\n",
    "boroughs = boroughs['Borough'].value_counts()\n",
    "print(boroughs)\n",
    "# todo: 3-获取出现次数大于100的特征值\n",
    "boroughs = boroughs[boroughs.values > 100].index\n",
    "print(boroughs)\n",
    "# todo: 4-绘制KDE核密度估计图\n",
    "for borough in boroughs:\n",
    "\t# 获取每个特征值对应的数据子集\n",
    "\tsubset = data[data['Borough'] == borough]\n",
    "\t# 绘制kde图\n",
    "\tsns.kdeplot(subset['score'].dropna(), label=borough)\n",
    "plt.xlabel('Energy Star Score', size=20)\n",
    "plt.ylabel('Density', size=20)\n",
    "plt.title('Density Plot of Energy Star Scores by Building Type', size=28)\n",
    "plt.legend()\n",
    "plt.show()"
   ],
   "metadata": {
    "collapsed": false
   },
   "id": "981be9d05c757421"
  },
  {
   "cell_type": "code",
   "execution_count": null,
   "outputs": [],
   "source": [
    "data['score'].info"
   ],
   "metadata": {
    "collapsed": false
   },
   "id": "cb092b99aa06c90"
  },
  {
   "cell_type": "code",
   "execution_count": null,
   "outputs": [],
   "source": [
    "data['score']"
   ],
   "metadata": {
    "collapsed": false
   },
   "id": "914345647da6c7a9"
  },
  {
   "cell_type": "code",
   "execution_count": null,
   "outputs": [],
   "source": [
    "data.select_dtypes(include=['number'])"
   ],
   "metadata": {
    "collapsed": false
   },
   "id": "964f2e676d308977"
  },
  {
   "cell_type": "code",
   "execution_count": null,
   "outputs": [],
   "source": [
    "data.select_dtypes(include=['number']).corr()"
   ],
   "metadata": {
    "collapsed": false
   },
   "id": "ae8c2e86fe684fc0"
  },
  {
   "cell_type": "code",
   "execution_count": null,
   "outputs": [],
   "source": [
    "data.select_dtypes(include=['number']).corr()['score'].sort_values()\n"
   ],
   "metadata": {
    "collapsed": false
   },
   "id": "2c9972cd60ca5694"
  },
  {
   "cell_type": "code",
   "execution_count": null,
   "outputs": [],
   "source": [
    "numeric_cols = data.select_dtypes(include=['number']).columns\n",
    "print(numeric_cols)"
   ],
   "metadata": {
    "collapsed": false
   },
   "id": "b09e955312cd3556"
  },
  {
   "cell_type": "code",
   "execution_count": null,
   "outputs": [],
   "source": [
    "numeric_subset = data.select_dtypes(include=['number'])\n"
   ],
   "metadata": {
    "collapsed": false
   },
   "id": "44a27d8536e9623d"
  },
  {
   "cell_type": "code",
   "execution_count": null,
   "outputs": [],
   "source": [
    "for col in numeric_subset.columns:\n",
    "\tprint(col)"
   ],
   "metadata": {
    "collapsed": false
   },
   "id": "ab2da5edc384165d"
  },
  {
   "cell_type": "code",
   "execution_count": null,
   "outputs": [],
   "source": [
    "# for col in numeric_cols.columns:\n",
    "# \tif col != 'score':\n",
    "# \t\tsns.scatterplot(x=col, y='score', data=data)\n",
    "# \t\tplt.show()"
   ],
   "metadata": {
    "collapsed": false
   },
   "id": "4148fdbb8d9fd780"
  },
  {
   "cell_type": "code",
   "execution_count": null,
   "outputs": [],
   "source": [
    "for col in numeric_subset.columns:\n",
    "\tif col != 'score':\n",
    "\t\t# 平方根新特征  df[new_col] = 新值\n",
    "\t\tnumeric_subset['sqrt_' + col] = np.sqrt(numeric_subset[col])\n",
    "\t\t# 对数新特征\n",
    "\t\tnumeric_subset['log_' + col] = np.log(numeric_subset[col])\n",
    "\t\tprint(numeric_subset)\n"
   ],
   "metadata": {
    "collapsed": false
   },
   "id": "d98ceec609588072"
  },
  {
   "cell_type": "code",
   "execution_count": null,
   "outputs": [],
   "source": [
    "# todo: 3-获取离散型特征列, 和第2步结果放到一起, 观察x和y的非线性关系\n",
    "categorical_subset = data[['Largest Property Use Type', 'Borough']]\n",
    "categorical_subset"
   ],
   "metadata": {
    "collapsed": false
   },
   "id": "5acf295814441c54"
  },
  {
   "cell_type": "code",
   "execution_count": null,
   "outputs": [],
   "source": [
    "# todo: 4-离散型特征进行one-hot编码处理\n",
    "categorical_subset = pd.get_dummies(categorical_subset)\n",
    "categorical_subset"
   ],
   "metadata": {
    "collapsed": false
   },
   "id": "40de10c83a11c0cd"
  },
  {
   "cell_type": "code",
   "execution_count": null,
   "outputs": [],
   "source": [
    "# todo: 5-将离散型特征列和数值特征列合并到一起\n",
    "features = pd.concat([numeric_subset, categorical_subset], axis=1)\n",
    "features"
   ],
   "metadata": {
    "collapsed": false
   },
   "id": "7ebf6480b9758455"
  },
  {
   "cell_type": "code",
   "execution_count": null,
   "outputs": [],
   "source": [
    "# todo: 6-删除score列中包含缺失值的样本\n",
    "features = features.dropna(subset=['score'])\n",
    "features"
   ],
   "metadata": {
    "collapsed": false
   },
   "id": "c2419badf5cb97df"
  },
  {
   "cell_type": "code",
   "execution_count": null,
   "outputs": [],
   "source": [
    "# dropna(): log计算 如果x小于0 产生nan\n",
    "corr_data2 = features.corr()['score'].dropna().sort_values()\n",
    "corr_data2"
   ],
   "metadata": {
    "collapsed": false
   },
   "id": "cc9090b2eb657a98"
  },
  {
   "cell_type": "code",
   "execution_count": null,
   "outputs": [],
   "source": [
    "# 通过图像关系x和y之间的关系\n",
    "figsize(12, 12)  # 用量越大 分数越低 有明显的线性相关性\n",
    "plt.scatter(features['Site EUI (kBtu/ft²)'], features['score'])\n",
    "plt.show()"
   ],
   "metadata": {
    "collapsed": false
   },
   "id": "229b164ea0b74b99"
  },
  {
   "cell_type": "code",
   "execution_count": null,
   "outputs": [],
   "source": [
    "figsize(12, 12)  # 相关性不是太好 但总体分数变化不大\n",
    "plt.scatter(features['Weather Normalized Site Electricity Intensity (kWh/ft²)'], features['score'])\n",
    "plt.show()"
   ],
   "metadata": {
    "collapsed": false
   },
   "id": "876431367431c461"
  },
  {
   "cell_type": "code",
   "execution_count": null,
   "outputs": [],
   "source": [
    "data[['Largest Property Use Type', 'Borough']]\n",
    "\n",
    "# categorical_subset = data['Largest Property Use Type', 'Borough']"
   ],
   "metadata": {
    "collapsed": false
   },
   "id": "63c8ad4509d170c2"
  },
  {
   "cell_type": "code",
   "execution_count": null,
   "outputs": [],
   "source": [
    "data['Largest Property Use Type', 'Borough']"
   ],
   "metadata": {
    "collapsed": false
   },
   "id": "b0ba7bfbe3854cc5"
  },
  {
   "cell_type": "code",
   "execution_count": null,
   "outputs": [],
   "source": [
    "import seaborn as sns\n",
    "import matplotlib.pyplot as plt\n",
    "\n",
    "# 加载示例数据集\n",
    "tips = sns.load_dataset(\"tips\")\n",
    "\n",
    "# 使用 lmplot 绘制总账单与小费间的线性关系\n",
    "sns.lmplot(x=\"total_bill\", y=\"tip\", data=tips)\n",
    "\n",
    "# 显示图表\n",
    "plt.show()"
   ],
   "metadata": {
    "collapsed": false
   },
   "id": "905945e6303becc3"
  },
  {
   "cell_type": "code",
   "execution_count": null,
   "outputs": [],
   "source": [
    "import seaborn as sns\n",
    "import matplotlib.pyplot as plt\n",
    "\n",
    "# 加载示例数据集\n",
    "iris = sns.load_dataset(\"iris\")\n",
    "\n",
    "# 创建 PairGrid 对象\n",
    "g = sns.PairGrid(iris)\n",
    "\n",
    "# 在对角线上绘制核密度估计图\n",
    "g.map_diag(sns.kdeplot, fill=True)\n",
    "\n",
    "# 在非对角线上方和下方绘制散点图\n",
    "g.map_offdiag(plt.scatter)\n",
    "\n",
    "# 显示图表\n",
    "plt.show()"
   ],
   "metadata": {
    "collapsed": false
   },
   "id": "c0b4378a72a5c2b9"
  },
  {
   "cell_type": "code",
   "execution_count": null,
   "outputs": [],
   "source": [
    "import seaborn as sns\n",
    "import matplotlib.pyplot as plt\n",
    "\n",
    "# 加载示例数据集\n",
    "iris = sns.load_dataset(\"iris\")\n",
    "\n",
    "# 创建一个 PairGrid 对象\n",
    "g = sns.PairGrid(iris)\n",
    "\n",
    "# 使用 map_upper 在上三角区域绘制散点图\n",
    "g.map_upper(plt.scatter, color='blue')\n",
    "\n",
    "# 使用 map_lower 在下三角区域绘制二维核密度图\n",
    "g.map_lower(sns.kdeplot, cmap=\"Reds_d\", fill=True)\n",
    "\n",
    "# 使用 map_diag 在对角线绘制直方图\n",
    "g.map_diag(sns.histplot, kde=False, color=\".3\", bins=20)\n",
    "\n",
    "# 显示图像\n",
    "plt.show()"
   ],
   "metadata": {
    "collapsed": false
   },
   "id": "c5e9587848cd3258"
  },
  {
   "cell_type": "code",
   "execution_count": null,
   "outputs": [],
   "source": [
    "import pandas as pd\n",
    "\n",
    "data = {'Color': ['Red', 'Green', 'Blue', 'Green']}\n",
    "df = pd.DataFrame(data)\n",
    "df_dummies = pd.get_dummies(df, columns=['Color'])\n",
    "# print(df_dummies)\n",
    "df_dummies"
   ],
   "metadata": {
    "collapsed": false
   },
   "id": "70dc79f12ab16465"
  },
  {
   "cell_type": "code",
   "execution_count": null,
   "outputs": [],
   "source": [
    "frequency = df['Color'].value_counts()\n",
    "# print(frequency)\n",
    "frequency"
   ],
   "metadata": {
    "collapsed": false
   },
   "id": "2d226043c5f4fdb8"
  },
  {
   "cell_type": "code",
   "execution_count": null,
   "outputs": [],
   "source": [
    "import matplotlib.pyplot as plt\n",
    "\n",
    "# 柱状图展示各颜色出现的频率\n",
    "frequency.plot(kind='bar')\n",
    "plt.show()\n",
    "\n",
    "# 或者使用饼图\n",
    "frequency.plot(kind='pie', autopct='%1.1f%%')\n",
    "plt.figure(figsize=(5,3))\n",
    "plt.ylabel('')\n",
    "plt.show()"
   ],
   "metadata": {
    "collapsed": false
   },
   "id": "7e4126023fb14abe"
  },
  {
   "cell_type": "code",
   "execution_count": null,
   "outputs": [],
   "source": [
    "# 假设还有一个数值列'Score'，我们可以按颜色分组并计算平均分数\n",
    "data = {'Color': ['Red', 'Green', 'Blue', 'Green'], 'Score': [90, 85, 88, 92]}\n",
    "df = pd.DataFrame(data)\n",
    "grouped_scores = df.groupby('Color')['Score'].mean()\n",
    "# print(grouped_scores)\n",
    "grouped_scores"
   ],
   "metadata": {
    "collapsed": false
   },
   "id": "19310fb5779382db"
  },
  {
   "cell_type": "code",
   "execution_count": 16,
   "outputs": [
    {
     "data": {
      "text/plain": "<Figure size 640x480 with 1 Axes>",
      "image/png": "[encoded data removed]"
     },
     "metadata": {},
     "output_type": "display_data"
    }
   ],
   "source": [
    "import pandas as pd\n",
    "import numpy as np\n",
    "import matplotlib.pyplot as plt\n",
    "\n",
    "# 创建一个 DataFrame\n",
    "data = pd.DataFrame({\n",
    "    'x': np.linspace(0, 100, 500)  # 创建 0 到 100 的等间距数据\n",
    "})\n",
    "\n",
    "# 添加平方根列\n",
    "data['y'] = np.sqrt(data['x'])\n",
    "\n",
    "# 使用 Pandas 绘制\n",
    "data.plot(x='x', y='y', kind='line', title='y = sqrt(x)', legend=True)\n",
    "\n",
    "# 显示图表\n",
    "plt.xlabel('x')\n",
    "plt.ylabel('y')\n",
    "plt.grid()\n",
    "plt.show()\n"
   ],
   "metadata": {
    "collapsed": false,
    "ExecuteTime": {
     "end_time": "2025-01-11T01:22:33.801000800Z",
     "start_time": "2025-01-11T01:22:33.101318600Z"
    }
   },
   "id": "118358811006bc24"
  },
  {
   "cell_type": "code",
   "execution_count": 18,
   "outputs": [
    {
     "data": {
      "text/plain": "0    10\n1    20\n2    30\n3    40\n4    50\ndtype: int64"
     },
     "execution_count": 18,
     "metadata": {},
     "output_type": "execute_result"
    }
   ],
   "source": [
    "train_labels = pd.Series([10, 20, 30, 40, 50])\n",
    "train_labels\n"
   ],
   "metadata": {
    "collapsed": false,
    "ExecuteTime": {
     "end_time": "2025-01-11T03:17:27.908881100Z",
     "start_time": "2025-01-11T03:17:27.894767500Z"
    }
   },
   "id": "4f01d4167a480f7e"
  },
  {
   "cell_type": "code",
   "execution_count": 19,
   "outputs": [
    {
     "data": {
      "text/plain": "array([10, 20, 30, 40, 50], dtype=int64)"
     },
     "execution_count": 19,
     "metadata": {},
     "output_type": "execute_result"
    }
   ],
   "source": [
    "# 转换为 NumPy 数组并展平为一维\n",
    "y = train_labels.values.reshape(-1,)\n",
    "y"
   ],
   "metadata": {
    "collapsed": false,
    "ExecuteTime": {
     "end_time": "2025-01-11T03:17:36.839104200Z",
     "start_time": "2025-01-11T03:17:36.792080200Z"
    }
   },
   "id": "f247cc5888bedb17"
  },
  {
   "cell_type": "code",
   "execution_count": 20,
   "outputs": [],
   "source": [
    "train_features = pd.read_csv('training_features.csv')\n",
    "test_features = pd.read_csv('testing_features.csv')\n",
    "train_labels = pd.read_csv('training_labels.csv')\n",
    "test_labels = pd.read_csv('testing_labels.csv')"
   ],
   "metadata": {
    "collapsed": false,
    "ExecuteTime": {
     "end_time": "2025-01-11T03:29:02.355395900Z",
     "start_time": "2025-01-11T03:29:02.267233700Z"
    }
   },
   "id": "c9c0ca31959e74ab"
  },
  {
   "cell_type": "code",
   "execution_count": 21,
   "outputs": [
    {
     "data": {
      "text/plain": "      Property Id  DOF Gross Floor Area  Year Built  \\\n0         5849784               90300.0        1950   \n1         4398442               52000.0        1926   \n2         4665374              104700.0        1954   \n3         3393340              129333.0        1992   \n4         2704325              109896.0        1927   \n...           ...                   ...         ...   \n6617      4044737               55400.0        1958   \n6618      2609697              106500.0        1928   \n6619      3119428              112339.0        1962   \n6620      5039588              100244.0        1927   \n6621      4406995               52700.0        1936   \n\n      Number of Buildings - Self-reported  Occupancy  Site EUI (kBtu/ft²)  \\\n0                                       1        100                126.0   \n1                                       1        100                 95.4   \n2                                       1        100                 40.4   \n3                                       1        100                157.1   \n4                                       1        100                 62.3   \n...                                   ...        ...                  ...   \n6617                                    1         90                 72.3   \n6618                                    1        100                 73.7   \n6619                                    1        100                 88.0   \n6620                                    1         50                 26.6   \n6621                                    1        100                 80.2   \n\n      Weather Normalized Site Natural Gas Intensity (therms/ft²)  \\\n0                                                   1.2            \n1                                                   0.9            \n2                                                   0.3            \n3                                                   1.1            \n4                                                   0.0            \n...                                                 ...            \n6617                                                0.7            \n6618                                                0.0            \n6619                                                0.7            \n6620                                                NaN            \n6621                                                0.8            \n\n      Direct GHG Emissions (Metric Tons CO2e)  \\\n0                                       440.9   \n1                                       217.9   \n2                                       151.0   \n3                                       672.4   \n4                                       456.5   \n...                                       ...   \n6617                                    203.6   \n6618                                    482.0   \n6619                                    449.6   \n6620                                      0.0   \n6621                                    195.5   \n\n      Water Use (All Water Sources) (kgal)   Latitude  ...  \\\n0                                   7684.7        NaN  ...   \n1                                      NaN  40.835496  ...   \n2                                      NaN  40.663206  ...   \n3                                      NaN  40.622968  ...   \n4                                   3493.9  40.782421  ...   \n...                                    ...        ...  ...   \n6617                                3227.1  40.897985  ...   \n6618                                8269.8  40.876060  ...   \n6619                                9140.7  40.855922  ...   \n6620                                 762.7  40.754436  ...   \n6621                                4278.8  40.610941  ...   \n\n      Largest Property Use Type_Restaurant  \\\n0                                    False   \n1                                    False   \n2                                    False   \n3                                    False   \n4                                    False   \n...                                    ...   \n6617                                 False   \n6618                                 False   \n6619                                 False   \n6620                                 False   \n6621                                 False   \n\n      Largest Property Use Type_Retail Store  \\\n0                                      False   \n1                                      False   \n2                                      False   \n3                                      False   \n4                                      False   \n...                                      ...   \n6617                                   False   \n6618                                   False   \n6619                                   False   \n6620                                   False   \n6621                                   False   \n\n      Largest Property Use Type_Self-Storage Facility  \\\n0                                               False   \n1                                               False   \n2                                               False   \n3                                               False   \n4                                               False   \n...                                               ...   \n6617                                            False   \n6618                                            False   \n6619                                            False   \n6620                                            False   \n6621                                            False   \n\n      Largest Property Use Type_Senior Care Community  \\\n0                                               False   \n1                                               False   \n2                                               False   \n3                                                True   \n4                                               False   \n...                                               ...   \n6617                                            False   \n6618                                            False   \n6619                                            False   \n6620                                            False   \n6621                                            False   \n\n      Largest Property Use Type_Social/Meeting Hall  \\\n0                                             False   \n1                                             False   \n2                                             False   \n3                                             False   \n4                                             False   \n...                                             ...   \n6617                                          False   \n6618                                          False   \n6619                                          False   \n6620                                          False   \n6621                                          False   \n\n      Largest Property Use Type_Strip Mall  \\\n0                                    False   \n1                                    False   \n2                                    False   \n3                                    False   \n4                                    False   \n...                                    ...   \n6617                                 False   \n6618                                 False   \n6619                                 False   \n6620                                 False   \n6621                                 False   \n\n      Largest Property Use Type_Supermarket/Grocery Store  \\\n0                                                 False     \n1                                                 False     \n2                                                 False     \n3                                                 False     \n4                                                 False     \n...                                                 ...     \n6617                                              False     \n6618                                              False     \n6619                                              False     \n6620                                              False     \n6621                                              False     \n\n      Largest Property Use Type_Urgent Care/Clinic/Other Outpatient  \\\n0                                                 False               \n1                                                 False               \n2                                                 False               \n3                                                 False               \n4                                                 False               \n...                                                 ...               \n6617                                              False               \n6618                                              False               \n6619                                              False               \n6620                                              False               \n6621                                              False               \n\n      Largest Property Use Type_Wholesale Club/Supercenter  \\\n0                                                 False      \n1                                                 False      \n2                                                 False      \n3                                                 False      \n4                                                 False      \n...                                                 ...      \n6617                                              False      \n6618                                              False      \n6619                                              False      \n6620                                              False      \n6621                                              False      \n\n      Largest Property Use Type_Worship Facility  \n0                                          False  \n1                                          False  \n2                                          False  \n3                                          False  \n4                                          False  \n...                                          ...  \n6617                                       False  \n6618                                       False  \n6619                                       False  \n6620                                       False  \n6621                                       False  \n\n[6622 rows x 67 columns]",
      "text/html": "<div>\n<style scoped>\n    .dataframe tbody tr th:only-of-type {\n        vertical-align: middle;\n    }\n\n    .dataframe tbody tr th {\n        vertical-align: top;\n    }\n\n    .dataframe thead th {\n        text-align: right;\n    }\n</style>\n<table border=\"1\" class=\"dataframe\">\n  <thead>\n    <tr style=\"text-align: right;\">\n      <th></th>\n      <th>Property Id</th>\n      <th>DOF Gross Floor Area</th>\n      <th>Year Built</th>\n      <th>Number of Buildings - Self-reported</th>\n      <th>Occupancy</th>\n      <th>Site EUI (kBtu/ft²)</th>\n      <th>Weather Normalized Site Natural Gas Intensity (therms/ft²)</th>\n      <th>Direct GHG Emissions (Metric Tons CO2e)</th>\n      <th>Water Use (All Water Sources) (kgal)</th>\n      <th>Latitude</th>\n      <th>...</th>\n      <th>Largest Property Use Type_Restaurant</th>\n      <th>Largest Property Use Type_Retail Store</th>\n      <th>Largest Property Use Type_Self-Storage Facility</th>\n      <th>Largest Property Use Type_Senior Care Community</th>\n      <th>Largest Property Use Type_Social/Meeting Hall</th>\n      <th>Largest Property Use Type_Strip Mall</th>\n      <th>Largest Property Use Type_Supermarket/Grocery Store</th>\n      <th>Largest Property Use Type_Urgent Care/Clinic/Other Outpatient</th>\n      <th>Largest Property Use Type_Wholesale Club/Supercenter</th>\n      <th>Largest Property Use Type_Worship Facility</th>\n    </tr>\n  </thead>\n  <tbody>\n    <tr>\n      <th>0</th>\n      <td>5849784</td>\n      <td>90300.0</td>\n      <td>1950</td>\n      <td>1</td>\n      <td>100</td>\n      <td>126.0</td>\n      <td>1.2</td>\n      <td>440.9</td>\n      <td>7684.7</td>\n      <td>NaN</td>\n      <td>...</td>\n      <td>False</td>\n      <td>False</td>\n      <td>False</td>\n      <td>False</td>\n      <td>False</td>\n      <td>False</td>\n      <td>False</td>\n      <td>False</td>\n      <td>False</td>\n      <td>False</td>\n    </tr>\n    <tr>\n      <th>1</th>\n      <td>4398442</td>\n      <td>52000.0</td>\n      <td>1926</td>\n      <td>1</td>\n      <td>100</td>\n      <td>95.4</td>\n      <td>0.9</td>\n      <td>217.9</td>\n      <td>NaN</td>\n      <td>40.835496</td>\n      <td>...</td>\n      <td>False</td>\n      <td>False</td>\n      <td>False</td>\n      <td>False</td>\n      <td>False</td>\n      <td>False</td>\n      <td>False</td>\n      <td>False</td>\n      <td>False</td>\n      <td>False</td>\n    </tr>\n    <tr>\n      <th>2</th>\n      <td>4665374</td>\n      <td>104700.0</td>\n      <td>1954</td>\n      <td>1</td>\n      <td>100</td>\n      <td>40.4</td>\n      <td>0.3</td>\n      <td>151.0</td>\n      <td>NaN</td>\n      <td>40.663206</td>\n      <td>...</td>\n      <td>False</td>\n      <td>False</td>\n      <td>False</td>\n      <td>False</td>\n      <td>False</td>\n      <td>False</td>\n      <td>False</td>\n      <td>False</td>\n      <td>False</td>\n      <td>False</td>\n    </tr>\n    <tr>\n      <th>3</th>\n      <td>3393340</td>\n      <td>129333.0</td>\n      <td>1992</td>\n      <td>1</td>\n      <td>100</td>\n      <td>157.1</td>\n      <td>1.1</td>\n      <td>672.4</td>\n      <td>NaN</td>\n      <td>40.622968</td>\n      <td>...</td>\n      <td>False</td>\n      <td>False</td>\n      <td>False</td>\n      <td>True</td>\n      <td>False</td>\n      <td>False</td>\n      <td>False</td>\n      <td>False</td>\n      <td>False</td>\n      <td>False</td>\n    </tr>\n    <tr>\n      <th>4</th>\n      <td>2704325</td>\n      <td>109896.0</td>\n      <td>1927</td>\n      <td>1</td>\n      <td>100</td>\n      <td>62.3</td>\n      <td>0.0</td>\n      <td>456.5</td>\n      <td>3493.9</td>\n      <td>40.782421</td>\n      <td>...</td>\n      <td>False</td>\n      <td>False</td>\n      <td>False</td>\n      <td>False</td>\n      <td>False</td>\n      <td>False</td>\n      <td>False</td>\n      <td>False</td>\n      <td>False</td>\n      <td>False</td>\n    </tr>\n    <tr>\n      <th>...</th>\n      <td>...</td>\n      <td>...</td>\n      <td>...</td>\n      <td>...</td>\n      <td>...</td>\n      <td>...</td>\n      <td>...</td>\n      <td>...</td>\n      <td>...</td>\n      <td>...</td>\n      <td>...</td>\n      <td>...</td>\n      <td>...</td>\n      <td>...</td>\n      <td>...</td>\n      <td>...</td>\n      <td>...</td>\n      <td>...</td>\n      <td>...</td>\n      <td>...</td>\n      <td>...</td>\n    </tr>\n    <tr>\n      <th>6617</th>\n      <td>4044737</td>\n      <td>55400.0</td>\n      <td>1958</td>\n      <td>1</td>\n      <td>90</td>\n      <td>72.3</td>\n      <td>0.7</td>\n      <td>203.6</td>\n      <td>3227.1</td>\n      <td>40.897985</td>\n      <td>...</td>\n      <td>False</td>\n      <td>False</td>\n      <td>False</td>\n      <td>False</td>\n      <td>False</td>\n      <td>False</td>\n      <td>False</td>\n      <td>False</td>\n      <td>False</td>\n      <td>False</td>\n    </tr>\n    <tr>\n      <th>6618</th>\n      <td>2609697</td>\n      <td>106500.0</td>\n      <td>1928</td>\n      <td>1</td>\n      <td>100</td>\n      <td>73.7</td>\n      <td>0.0</td>\n      <td>482.0</td>\n      <td>8269.8</td>\n      <td>40.876060</td>\n      <td>...</td>\n      <td>False</td>\n      <td>False</td>\n      <td>False</td>\n      <td>False</td>\n      <td>False</td>\n      <td>False</td>\n      <td>False</td>\n      <td>False</td>\n      <td>False</td>\n      <td>False</td>\n    </tr>\n    <tr>\n      <th>6619</th>\n      <td>3119428</td>\n      <td>112339.0</td>\n      <td>1962</td>\n      <td>1</td>\n      <td>100</td>\n      <td>88.0</td>\n      <td>0.7</td>\n      <td>449.6</td>\n      <td>9140.7</td>\n      <td>40.855922</td>\n      <td>...</td>\n      <td>False</td>\n      <td>False</td>\n      <td>False</td>\n      <td>False</td>\n      <td>False</td>\n      <td>False</td>\n      <td>False</td>\n      <td>False</td>\n      <td>False</td>\n      <td>False</td>\n    </tr>\n    <tr>\n      <th>6620</th>\n      <td>5039588</td>\n      <td>100244.0</td>\n      <td>1927</td>\n      <td>1</td>\n      <td>50</td>\n      <td>26.6</td>\n      <td>NaN</td>\n      <td>0.0</td>\n      <td>762.7</td>\n      <td>40.754436</td>\n      <td>...</td>\n      <td>False</td>\n      <td>False</td>\n      <td>False</td>\n      <td>False</td>\n      <td>False</td>\n      <td>False</td>\n      <td>False</td>\n      <td>False</td>\n      <td>False</td>\n      <td>False</td>\n    </tr>\n    <tr>\n      <th>6621</th>\n      <td>4406995</td>\n      <td>52700.0</td>\n      <td>1936</td>\n      <td>1</td>\n      <td>100</td>\n      <td>80.2</td>\n      <td>0.8</td>\n      <td>195.5</td>\n      <td>4278.8</td>\n      <td>40.610941</td>\n      <td>...</td>\n      <td>False</td>\n      <td>False</td>\n      <td>False</td>\n      <td>False</td>\n      <td>False</td>\n      <td>False</td>\n      <td>False</td>\n      <td>False</td>\n      <td>False</td>\n      <td>False</td>\n    </tr>\n  </tbody>\n</table>\n<p>6622 rows × 67 columns</p>\n</div>"
     },
     "execution_count": 21,
     "metadata": {},
     "output_type": "execute_result"
    }
   ],
   "source": [
    "train_features"
   ],
   "metadata": {
    "collapsed": false,
    "ExecuteTime": {
     "end_time": "2025-01-11T03:29:11.291103100Z",
     "start_time": "2025-01-11T03:29:11.228595200Z"
    }
   },
   "id": "91b38691e1fa2771"
  },
  {
   "cell_type": "code",
   "execution_count": null,
   "outputs": [],
   "source": [],
   "metadata": {
    "collapsed": false
   },
   "id": "e9250f4376b6782a"
  },
  {
   "cell_type": "code",
   "execution_count": 29,
   "outputs": [
    {
     "data": {
      "text/plain": "      score\n0      13.0\n1      55.0\n2      87.0\n3      99.0\n4      87.0\n...     ...\n2834   83.0\n2835   95.0\n2836   83.0\n2837   51.0\n2838   96.0\n\n[2839 rows x 1 columns]",
      "text/html": "<div>\n<style scoped>\n    .dataframe tbody tr th:only-of-type {\n        vertical-align: middle;\n    }\n\n    .dataframe tbody tr th {\n        vertical-align: top;\n    }\n\n    .dataframe thead th {\n        text-align: right;\n    }\n</style>\n<table border=\"1\" class=\"dataframe\">\n  <thead>\n    <tr style=\"text-align: right;\">\n      <th></th>\n      <th>score</th>\n    </tr>\n  </thead>\n  <tbody>\n    <tr>\n      <th>0</th>\n      <td>13.0</td>\n    </tr>\n    <tr>\n      <th>1</th>\n      <td>55.0</td>\n    </tr>\n    <tr>\n      <th>2</th>\n      <td>87.0</td>\n    </tr>\n    <tr>\n      <th>3</th>\n      <td>99.0</td>\n    </tr>\n    <tr>\n      <th>4</th>\n      <td>87.0</td>\n    </tr>\n    <tr>\n      <th>...</th>\n      <td>...</td>\n    </tr>\n    <tr>\n      <th>2834</th>\n      <td>83.0</td>\n    </tr>\n    <tr>\n      <th>2835</th>\n      <td>95.0</td>\n    </tr>\n    <tr>\n      <th>2836</th>\n      <td>83.0</td>\n    </tr>\n    <tr>\n      <th>2837</th>\n      <td>51.0</td>\n    </tr>\n    <tr>\n      <th>2838</th>\n      <td>96.0</td>\n    </tr>\n  </tbody>\n</table>\n<p>2839 rows × 1 columns</p>\n</div>"
     },
     "execution_count": 29,
     "metadata": {},
     "output_type": "execute_result"
    }
   ],
   "source": [
    "test_labels"
   ],
   "metadata": {
    "collapsed": false,
    "ExecuteTime": {
     "end_time": "2025-01-11T03:32:52.506508700Z",
     "start_time": "2025-01-11T03:32:52.479360300Z"
    }
   },
   "id": "f92b55932e8791cd"
  },
  {
   "cell_type": "code",
   "execution_count": 23,
   "outputs": [
    {
     "data": {
      "text/plain": "SimpleImputer(strategy='median')",
      "text/html": "<style>#sk-container-id-1 {\n  /* Definition of color scheme common for light and dark mode */\n  --sklearn-color-text: black;\n  --sklearn-color-line: gray;\n  /* Definition of color scheme for unfitted estimators */\n  --sklearn-color-unfitted-level-0: #fff5e6;\n  --sklearn-color-unfitted-level-1: #f6e4d2;\n  --sklearn-color-unfitted-level-2: #ffe0b3;\n  --sklearn-color-unfitted-level-3: chocolate;\n  /* Definition of color scheme for fitted estimators */\n  --sklearn-color-fitted-level-0: #f0f8ff;\n  --sklearn-color-fitted-level-1: #d4ebff;\n  --sklearn-color-fitted-level-2: #b3dbfd;\n  --sklearn-color-fitted-level-3: cornflowerblue;\n\n  /* Specific color for light theme */\n  --sklearn-color-text-on-default-background: var(--sg-text-color, var(--theme-code-foreground, var(--jp-content-font-color1, black)));\n  --sklearn-color-background: var(--sg-background-color, var(--theme-background, var(--jp-layout-color0, white)));\n  --sklearn-color-border-box: var(--sg-text-color, var(--theme-code-foreground, var(--jp-content-font-color1, black)));\n  --sklearn-color-icon: #696969;\n\n  @media (prefers-color-scheme: dark) {\n    /* Redefinition of color scheme for dark theme */\n    --sklearn-color-text-on-default-background: var(--sg-text-color, var(--theme-code-foreground, var(--jp-content-font-color1, white)));\n    --sklearn-color-background: var(--sg-background-color, var(--theme-background, var(--jp-layout-color0, #111)));\n    --sklearn-color-border-box: var(--sg-text-color, var(--theme-code-foreground, var(--jp-content-font-color1, white)));\n    --sklearn-color-icon: #878787;\n  }\n}\n\n#sk-container-id-1 {\n  color: var(--sklearn-color-text);\n}\n\n#sk-container-id-1 pre {\n  padding: 0;\n}\n\n#sk-container-id-1 input.sk-hidden--visually {\n  border: 0;\n  clip: rect(1px 1px 1px 1px);\n  clip: rect(1px, 1px, 1px, 1px);\n  height: 1px;\n  margin: -1px;\n  overflow: hidden;\n  padding: 0;\n  position: absolute;\n  width: 1px;\n}\n\n#sk-container-id-1 div.sk-dashed-wrapped {\n  border: 1px dashed var(--sklearn-color-line);\n  margin: 0 0.4em 0.5em 0.4em;\n  box-sizing: border-box;\n  padding-bottom: 0.4em;\n  background-color: var(--sklearn-color-background);\n}\n\n#sk-container-id-1 div.sk-container {\n  /* jupyter's `normalize.less` sets `[hidden] { display: none; }`\n     but bootstrap.min.css set `[hidden] { display: none !important; }`\n     so we also need the `!important` here to be able to override the\n     default hidden behavior on the sphinx rendered scikit-learn.org.\n     See: https://github.com/scikit-learn/scikit-learn/issues/21755 */\n  display: inline-block !important;\n  position: relative;\n}\n\n#sk-container-id-1 div.sk-text-repr-fallback {\n  display: none;\n}\n\ndiv.sk-parallel-item,\ndiv.sk-serial,\ndiv.sk-item {\n  /* draw centered vertical line to link estimators */\n  background-image: linear-gradient(var(--sklearn-color-text-on-default-background), var(--sklearn-color-text-on-default-background));\n  background-size: 2px 100%;\n  background-repeat: no-repeat;\n  background-position: center center;\n}\n\n/* Parallel-specific style estimator block */\n\n#sk-container-id-1 div.sk-parallel-item::after {\n  content: \"\";\n  width: 100%;\n  border-bottom: 2px solid var(--sklearn-color-text-on-default-background);\n  flex-grow: 1;\n}\n\n#sk-container-id-1 div.sk-parallel {\n  display: flex;\n  align-items: stretch;\n  justify-content: center;\n  background-color: var(--sklearn-color-background);\n  position: relative;\n}\n\n#sk-container-id-1 div.sk-parallel-item {\n  display: flex;\n  flex-direction: column;\n}\n\n#sk-container-id-1 div.sk-parallel-item:first-child::after {\n  align-self: flex-end;\n  width: 50%;\n}\n\n#sk-container-id-1 div.sk-parallel-item:last-child::after {\n  align-self: flex-start;\n  width: 50%;\n}\n\n#sk-container-id-1 div.sk-parallel-item:only-child::after {\n  width: 0;\n}\n\n/* Serial-specific style estimator block */\n\n#sk-container-id-1 div.sk-serial {\n  display: flex;\n  flex-direction: column;\n  align-items: center;\n  background-color: var(--sklearn-color-background);\n  padding-right: 1em;\n  padding-left: 1em;\n}\n\n\n/* Toggleable style: style used for estimator/Pipeline/ColumnTransformer box that is\nclickable and can be expanded/collapsed.\n- Pipeline and ColumnTransformer use this feature and define the default style\n- Estimators will overwrite some part of the style using the `sk-estimator` class\n*/\n\n/* Pipeline and ColumnTransformer style (default) */\n\n#sk-container-id-1 div.sk-toggleable {\n  /* Default theme specific background. It is overwritten whether we have a\n  specific estimator or a Pipeline/ColumnTransformer */\n  background-color: var(--sklearn-color-background);\n}\n\n/* Toggleable label */\n#sk-container-id-1 label.sk-toggleable__label {\n  cursor: pointer;\n  display: block;\n  width: 100%;\n  margin-bottom: 0;\n  padding: 0.5em;\n  box-sizing: border-box;\n  text-align: center;\n}\n\n#sk-container-id-1 label.sk-toggleable__label-arrow:before {\n  /* Arrow on the left of the label */\n  content: \"▸\";\n  float: left;\n  margin-right: 0.25em;\n  color: var(--sklearn-color-icon);\n}\n\n#sk-container-id-1 label.sk-toggleable__label-arrow:hover:before {\n  color: var(--sklearn-color-text);\n}\n\n/* Toggleable content - dropdown */\n\n#sk-container-id-1 div.sk-toggleable__content {\n  max-height: 0;\n  max-width: 0;\n  overflow: hidden;\n  text-align: left;\n  /* unfitted */\n  background-color: var(--sklearn-color-unfitted-level-0);\n}\n\n#sk-container-id-1 div.sk-toggleable__content.fitted {\n  /* fitted */\n  background-color: var(--sklearn-color-fitted-level-0);\n}\n\n#sk-container-id-1 div.sk-toggleable__content pre {\n  margin: 0.2em;\n  border-radius: 0.25em;\n  color: var(--sklearn-color-text);\n  /* unfitted */\n  background-color: var(--sklearn-color-unfitted-level-0);\n}\n\n#sk-container-id-1 div.sk-toggleable__content.fitted pre {\n  /* unfitted */\n  background-color: var(--sklearn-color-fitted-level-0);\n}\n\n#sk-container-id-1 input.sk-toggleable__control:checked~div.sk-toggleable__content {\n  /* Expand drop-down */\n  max-height: 200px;\n  max-width: 100%;\n  overflow: auto;\n}\n\n#sk-container-id-1 input.sk-toggleable__control:checked~label.sk-toggleable__label-arrow:before {\n  content: \"▾\";\n}\n\n/* Pipeline/ColumnTransformer-specific style */\n\n#sk-container-id-1 div.sk-label input.sk-toggleable__control:checked~label.sk-toggleable__label {\n  color: var(--sklearn-color-text);\n  background-color: var(--sklearn-color-unfitted-level-2);\n}\n\n#sk-container-id-1 div.sk-label.fitted input.sk-toggleable__control:checked~label.sk-toggleable__label {\n  background-color: var(--sklearn-color-fitted-level-2);\n}\n\n/* Estimator-specific style */\n\n/* Colorize estimator box */\n#sk-container-id-1 div.sk-estimator input.sk-toggleable__control:checked~label.sk-toggleable__label {\n  /* unfitted */\n  background-color: var(--sklearn-color-unfitted-level-2);\n}\n\n#sk-container-id-1 div.sk-estimator.fitted input.sk-toggleable__control:checked~label.sk-toggleable__label {\n  /* fitted */\n  background-color: var(--sklearn-color-fitted-level-2);\n}\n\n#sk-container-id-1 div.sk-label label.sk-toggleable__label,\n#sk-container-id-1 div.sk-label label {\n  /* The background is the default theme color */\n  color: var(--sklearn-color-text-on-default-background);\n}\n\n/* On hover, darken the color of the background */\n#sk-container-id-1 div.sk-label:hover label.sk-toggleable__label {\n  color: var(--sklearn-color-text);\n  background-color: var(--sklearn-color-unfitted-level-2);\n}\n\n/* Label box, darken color on hover, fitted */\n#sk-container-id-1 div.sk-label.fitted:hover label.sk-toggleable__label.fitted {\n  color: var(--sklearn-color-text);\n  background-color: var(--sklearn-color-fitted-level-2);\n}\n\n/* Estimator label */\n\n#sk-container-id-1 div.sk-label label {\n  font-family: monospace;\n  font-weight: bold;\n  display: inline-block;\n  line-height: 1.2em;\n}\n\n#sk-container-id-1 div.sk-label-container {\n  text-align: center;\n}\n\n/* Estimator-specific */\n#sk-container-id-1 div.sk-estimator {\n  font-family: monospace;\n  border: 1px dotted var(--sklearn-color-border-box);\n  border-radius: 0.25em;\n  box-sizing: border-box;\n  margin-bottom: 0.5em;\n  /* unfitted */\n  background-color: var(--sklearn-color-unfitted-level-0);\n}\n\n#sk-container-id-1 div.sk-estimator.fitted {\n  /* fitted */\n  background-color: var(--sklearn-color-fitted-level-0);\n}\n\n/* on hover */\n#sk-container-id-1 div.sk-estimator:hover {\n  /* unfitted */\n  background-color: var(--sklearn-color-unfitted-level-2);\n}\n\n#sk-container-id-1 div.sk-estimator.fitted:hover {\n  /* fitted */\n  background-color: var(--sklearn-color-fitted-level-2);\n}\n\n/* Specification for estimator info (e.g. \"i\" and \"?\") */\n\n/* Common style for \"i\" and \"?\" */\n\n.sk-estimator-doc-link,\na:link.sk-estimator-doc-link,\na:visited.sk-estimator-doc-link {\n  float: right;\n  font-size: smaller;\n  line-height: 1em;\n  font-family: monospace;\n  background-color: var(--sklearn-color-background);\n  border-radius: 1em;\n  height: 1em;\n  width: 1em;\n  text-decoration: none !important;\n  margin-left: 1ex;\n  /* unfitted */\n  border: var(--sklearn-color-unfitted-level-1) 1pt solid;\n  color: var(--sklearn-color-unfitted-level-1);\n}\n\n.sk-estimator-doc-link.fitted,\na:link.sk-estimator-doc-link.fitted,\na:visited.sk-estimator-doc-link.fitted {\n  /* fitted */\n  border: var(--sklearn-color-fitted-level-1) 1pt solid;\n  color: var(--sklearn-color-fitted-level-1);\n}\n\n/* On hover */\ndiv.sk-estimator:hover .sk-estimator-doc-link:hover,\n.sk-estimator-doc-link:hover,\ndiv.sk-label-container:hover .sk-estimator-doc-link:hover,\n.sk-estimator-doc-link:hover {\n  /* unfitted */\n  background-color: var(--sklearn-color-unfitted-level-3);\n  color: var(--sklearn-color-background);\n  text-decoration: none;\n}\n\ndiv.sk-estimator.fitted:hover .sk-estimator-doc-link.fitted:hover,\n.sk-estimator-doc-link.fitted:hover,\ndiv.sk-label-container:hover .sk-estimator-doc-link.fitted:hover,\n.sk-estimator-doc-link.fitted:hover {\n  /* fitted */\n  background-color: var(--sklearn-color-fitted-level-3);\n  color: var(--sklearn-color-background);\n  text-decoration: none;\n}\n\n/* Span, style for the box shown on hovering the info icon */\n.sk-estimator-doc-link span {\n  display: none;\n  z-index: 9999;\n  position: relative;\n  font-weight: normal;\n  right: .2ex;\n  padding: .5ex;\n  margin: .5ex;\n  width: min-content;\n  min-width: 20ex;\n  max-width: 50ex;\n  color: var(--sklearn-color-text);\n  box-shadow: 2pt 2pt 4pt #999;\n  /* unfitted */\n  background: var(--sklearn-color-unfitted-level-0);\n  border: .5pt solid var(--sklearn-color-unfitted-level-3);\n}\n\n.sk-estimator-doc-link.fitted span {\n  /* fitted */\n  background: var(--sklearn-color-fitted-level-0);\n  border: var(--sklearn-color-fitted-level-3);\n}\n\n.sk-estimator-doc-link:hover span {\n  display: block;\n}\n\n/* \"?\"-specific style due to the `<a>` HTML tag */\n\n#sk-container-id-1 a.estimator_doc_link {\n  float: right;\n  font-size: 1rem;\n  line-height: 1em;\n  font-family: monospace;\n  background-color: var(--sklearn-color-background);\n  border-radius: 1rem;\n  height: 1rem;\n  width: 1rem;\n  text-decoration: none;\n  /* unfitted */\n  color: var(--sklearn-color-unfitted-level-1);\n  border: var(--sklearn-color-unfitted-level-1) 1pt solid;\n}\n\n#sk-container-id-1 a.estimator_doc_link.fitted {\n  /* fitted */\n  border: var(--sklearn-color-fitted-level-1) 1pt solid;\n  color: var(--sklearn-color-fitted-level-1);\n}\n\n/* On hover */\n#sk-container-id-1 a.estimator_doc_link:hover {\n  /* unfitted */\n  background-color: var(--sklearn-color-unfitted-level-3);\n  color: var(--sklearn-color-background);\n  text-decoration: none;\n}\n\n#sk-container-id-1 a.estimator_doc_link.fitted:hover {\n  /* fitted */\n  background-color: var(--sklearn-color-fitted-level-3);\n}\n</style><div id=\"sk-container-id-1\" class=\"sk-top-container\"><div class=\"sk-text-repr-fallback\"><pre>SimpleImputer(strategy=&#x27;median&#x27;)</pre><b>In a Jupyter environment, please rerun this cell to show the HTML representation or trust the notebook. <br />On GitHub, the HTML representation is unable to render, please try loading this page with nbviewer.org.</b></div><div class=\"sk-container\" hidden><div class=\"sk-item\"><div class=\"sk-estimator fitted sk-toggleable\"><input class=\"sk-toggleable__control sk-hidden--visually\" id=\"sk-estimator-id-1\" type=\"checkbox\" checked><label for=\"sk-estimator-id-1\" class=\"sk-toggleable__label fitted sk-toggleable__label-arrow fitted\">&nbsp;&nbsp;SimpleImputer<a class=\"sk-estimator-doc-link fitted\" rel=\"noreferrer\" target=\"_blank\" href=\"https://scikit-learn.org/1.4/modules/generated/sklearn.impute.SimpleImputer.html\">?<span>Documentation for SimpleImputer</span></a><span class=\"sk-estimator-doc-link fitted\">i<span>Fitted</span></span></label><div class=\"sk-toggleable__content fitted\"><pre>SimpleImputer(strategy=&#x27;median&#x27;)</pre></div> </div></div></div></div>"
     },
     "execution_count": 23,
     "metadata": {},
     "output_type": "execute_result"
    }
   ],
   "source": [
    "from sklearn.impute import SimpleImputer\n",
    "imputer = SimpleImputer(strategy='median')\n",
    "# 训练填充器\n",
    "imputer.fit(train_features)"
   ],
   "metadata": {
    "collapsed": false,
    "ExecuteTime": {
     "end_time": "2025-01-11T03:30:03.810846600Z",
     "start_time": "2025-01-11T03:30:03.516220Z"
    }
   },
   "id": "dc15fbe0dc8451f4"
  },
  {
   "cell_type": "code",
   "execution_count": null,
   "outputs": [],
   "source": [],
   "metadata": {
    "collapsed": false
   },
   "id": "47d83a4a2e247e7"
  },
  {
   "cell_type": "code",
   "execution_count": 24,
   "outputs": [],
   "source": [
    "X = imputer.transform(train_features)\n",
    "X_test = imputer.transform(test_features)"
   ],
   "metadata": {
    "collapsed": false,
    "ExecuteTime": {
     "end_time": "2025-01-11T03:30:22.951830800Z",
     "start_time": "2025-01-11T03:30:22.877441900Z"
    }
   },
   "id": "d210d6887b7b05e8"
  },
  {
   "cell_type": "code",
   "execution_count": 25,
   "outputs": [],
   "source": [
    "from sklearn.preprocessing import MinMaxScaler\n",
    "scaler = MinMaxScaler()\n",
    "scaler.fit(X)\n",
    "X = scaler.transform(X)\n",
    "X_test = scaler.transform(X_test)"
   ],
   "metadata": {
    "collapsed": false,
    "ExecuteTime": {
     "end_time": "2025-01-11T03:30:58.573594900Z",
     "start_time": "2025-01-11T03:30:58.514164900Z"
    }
   },
   "id": "7668a2ffa5a67968"
  },
  {
   "cell_type": "code",
   "execution_count": 28,
   "outputs": [
    {
     "data": {
      "text/plain": "      score\n0      16.0\n1      53.0\n2      99.0\n3      35.0\n4      91.0\n...     ...\n6617   82.0\n6618   88.0\n6619   41.0\n6620   97.0\n6621   67.0\n\n[6622 rows x 1 columns]",
      "text/html": "<div>\n<style scoped>\n    .dataframe tbody tr th:only-of-type {\n        vertical-align: middle;\n    }\n\n    .dataframe tbody tr th {\n        vertical-align: top;\n    }\n\n    .dataframe thead th {\n        text-align: right;\n    }\n</style>\n<table border=\"1\" class=\"dataframe\">\n  <thead>\n    <tr style=\"text-align: right;\">\n      <th></th>\n      <th>score</th>\n    </tr>\n  </thead>\n  <tbody>\n    <tr>\n      <th>0</th>\n      <td>16.0</td>\n    </tr>\n    <tr>\n      <th>1</th>\n      <td>53.0</td>\n    </tr>\n    <tr>\n      <th>2</th>\n      <td>99.0</td>\n    </tr>\n    <tr>\n      <th>3</th>\n      <td>35.0</td>\n    </tr>\n    <tr>\n      <th>4</th>\n      <td>91.0</td>\n    </tr>\n    <tr>\n      <th>...</th>\n      <td>...</td>\n    </tr>\n    <tr>\n      <th>6617</th>\n      <td>82.0</td>\n    </tr>\n    <tr>\n      <th>6618</th>\n      <td>88.0</td>\n    </tr>\n    <tr>\n      <th>6619</th>\n      <td>41.0</td>\n    </tr>\n    <tr>\n      <th>6620</th>\n      <td>97.0</td>\n    </tr>\n    <tr>\n      <th>6621</th>\n      <td>67.0</td>\n    </tr>\n  </tbody>\n</table>\n<p>6622 rows × 1 columns</p>\n</div>"
     },
     "execution_count": 28,
     "metadata": {},
     "output_type": "execute_result"
    }
   ],
   "source": [
    "train_labels"
   ],
   "metadata": {
    "collapsed": false,
    "ExecuteTime": {
     "end_time": "2025-01-11T03:32:16.551753200Z",
     "start_time": "2025-01-11T03:32:16.527629500Z"
    }
   },
   "id": "34e82de3aadfb48e"
  },
  {
   "cell_type": "code",
   "execution_count": 26,
   "outputs": [
    {
     "data": {
      "text/plain": "array([16., 53., 99., ..., 41., 97., 67.])"
     },
     "execution_count": 26,
     "metadata": {},
     "output_type": "execute_result"
    }
   ],
   "source": [
    "y = train_labels.values.reshape((-1,))\n",
    "y"
   ],
   "metadata": {
    "collapsed": false,
    "ExecuteTime": {
     "end_time": "2025-01-11T03:31:31.688006700Z",
     "start_time": "2025-01-11T03:31:31.655678700Z"
    }
   },
   "id": "7d593c12636115dc"
  },
  {
   "cell_type": "code",
   "execution_count": 27,
   "outputs": [
    {
     "data": {
      "text/plain": "array([16., 53., 99., ..., 41., 97., 67.])"
     },
     "execution_count": 27,
     "metadata": {},
     "output_type": "execute_result"
    }
   ],
   "source": [
    "y_test = test_labels.values.reshape((-1,))\n",
    "y"
   ],
   "metadata": {
    "collapsed": false,
    "ExecuteTime": {
     "end_time": "2025-01-11T03:31:39.550858100Z",
     "start_time": "2025-01-11T03:31:39.473624500Z"
    }
   },
   "id": "a8ff3a19c860cd3f"
  },
  {
   "cell_type": "code",
   "execution_count": null,
   "outputs": [],
   "source": [],
   "metadata": {
    "collapsed": false
   },
   "id": "ae57b4df48bce95e"
  }
 ],
 "metadata": {
  "kernelspec": {
   "display_name": "Python 3",
   "language": "python",
   "name": "python3"
  },
  "language_info": {
   "codemirror_mode": {
    "name": "ipython",
    "version": 2
   },
   "file_extension": ".py",
   "mimetype": "text/x-python",
   "name": "python",
   "nbconvert_exporter": "python",
   "pygments_lexer": "ipython2",
   "version": "2.7.6"
  }
 },
 "nbformat": 4,
 "nbformat_minor": 5
}
