{
 "cells": [
  {
   "cell_type": "code",
   "execution_count": 1,
   "id": "initial_id",
   "metadata": {
    "collapsed": true,
    "ExecuteTime": {
     "end_time": "2025-01-13T03:50:13.878968100Z",
     "start_time": "2025-01-13T03:50:13.863632Z"
    }
   },
   "outputs": [],
   "source": [
    "import pandas as pd"
   ]
  },
  {
   "cell_type": "code",
   "execution_count": 2,
   "outputs": [],
   "source": [
    "# 1. 加载数据集，查看基本信息\n",
    "data = pd.read_csv('./data/train.csv')"
   ],
   "metadata": {
    "collapsed": false,
    "ExecuteTime": {
     "end_time": "2025-01-13T03:50:13.992188600Z",
     "start_time": "2025-01-13T03:50:13.875517Z"
    }
   },
   "id": "aa5e8944424d3878"
  },
  {
   "cell_type": "code",
   "execution_count": 3,
   "outputs": [
    {
     "data": {
      "text/plain": "(1100, 31)"
     },
     "execution_count": 3,
     "metadata": {},
     "output_type": "execute_result"
    }
   ],
   "source": [
    "data.shape"
   ],
   "metadata": {
    "collapsed": false,
    "ExecuteTime": {
     "end_time": "2025-01-13T03:50:14.022523400Z",
     "start_time": "2025-01-13T03:50:13.955669900Z"
    }
   },
   "id": "6e8ec34d51a4c65c"
  },
  {
   "cell_type": "code",
   "execution_count": 4,
   "outputs": [
    {
     "name": "stdout",
     "output_type": "stream",
     "text": [
      "<class 'pandas.core.frame.DataFrame'>\n",
      "RangeIndex: 1100 entries, 0 to 1099\n",
      "Data columns (total 31 columns):\n",
      " #   Column                    Non-Null Count  Dtype \n",
      "---  ------                    --------------  ----- \n",
      " 0   Attrition                 1100 non-null   int64 \n",
      " 1   Age                       1100 non-null   int64 \n",
      " 2   BusinessTravel            1100 non-null   object\n",
      " 3   Department                1100 non-null   object\n",
      " 4   DistanceFromHome          1100 non-null   int64 \n",
      " 5   Education                 1100 non-null   int64 \n",
      " 6   EducationField            1100 non-null   object\n",
      " 7   EmployeeNumber            1100 non-null   int64 \n",
      " 8   EnvironmentSatisfaction   1100 non-null   int64 \n",
      " 9   Gender                    1100 non-null   object\n",
      " 10  JobInvolvement            1100 non-null   int64 \n",
      " 11  JobLevel                  1100 non-null   int64 \n",
      " 12  JobRole                   1100 non-null   object\n",
      " 13  JobSatisfaction           1100 non-null   int64 \n",
      " 14  MaritalStatus             1100 non-null   object\n",
      " 15  MonthlyIncome             1100 non-null   int64 \n",
      " 16  NumCompaniesWorked        1100 non-null   int64 \n",
      " 17  Over18                    1100 non-null   object\n",
      " 18  OverTime                  1100 non-null   object\n",
      " 19  PercentSalaryHike         1100 non-null   int64 \n",
      " 20  PerformanceRating         1100 non-null   int64 \n",
      " 21  RelationshipSatisfaction  1100 non-null   int64 \n",
      " 22  StandardHours             1100 non-null   int64 \n",
      " 23  StockOptionLevel          1100 non-null   int64 \n",
      " 24  TotalWorkingYears         1100 non-null   int64 \n",
      " 25  TrainingTimesLastYear     1100 non-null   int64 \n",
      " 26  WorkLifeBalance           1100 non-null   int64 \n",
      " 27  YearsAtCompany            1100 non-null   int64 \n",
      " 28  YearsInCurrentRole        1100 non-null   int64 \n",
      " 29  YearsSinceLastPromotion   1100 non-null   int64 \n",
      " 30  YearsWithCurrManager      1100 non-null   int64 \n",
      "dtypes: int64(23), object(8)\n",
      "memory usage: 266.5+ KB\n"
     ]
    }
   ],
   "source": [
    "# 无空值情况，但是有object 类型\n",
    "data.info()"
   ],
   "metadata": {
    "collapsed": false,
    "ExecuteTime": {
     "end_time": "2025-01-13T03:50:14.058504Z",
     "start_time": "2025-01-13T03:50:13.996751800Z"
    }
   },
   "id": "16130b654ff28d8e"
  },
  {
   "cell_type": "code",
   "execution_count": 5,
   "outputs": [
    {
     "data": {
      "text/plain": "         Attrition          Age  DistanceFromHome    Education  \\\ncount  1100.000000  1100.000000       1100.000000  1100.000000   \nmean      0.161818    36.999091          9.427273     2.922727   \nstd       0.368451     9.037230          8.196694     1.022242   \nmin       0.000000    18.000000          1.000000     1.000000   \n25%       0.000000    30.000000          2.000000     2.000000   \n50%       0.000000    36.000000          7.000000     3.000000   \n75%       0.000000    43.000000         15.000000     4.000000   \nmax       1.000000    60.000000         29.000000     5.000000   \n\n       EmployeeNumber  EnvironmentSatisfaction  JobInvolvement     JobLevel  \\\ncount     1100.000000              1100.000000     1100.000000  1100.000000   \nmean      1028.157273                 2.725455        2.730909     2.054545   \nstd        598.915204                 1.098053        0.706366     1.107805   \nmin          1.000000                 1.000000        1.000000     1.000000   \n25%        504.250000                 2.000000        2.000000     1.000000   \n50%       1026.500000                 3.000000        3.000000     2.000000   \n75%       1556.500000                 4.000000        3.000000     3.000000   \nmax       2065.000000                 4.000000        4.000000     5.000000   \n\n       JobSatisfaction  MonthlyIncome  ...  RelationshipSatisfaction  \\\ncount      1100.000000    1100.000000  ...               1100.000000   \nmean          2.732727    6483.620909  ...                  2.696364   \nstd           1.109731    4715.293419  ...                  1.095356   \nmin           1.000000    1009.000000  ...                  1.000000   \n25%           2.000000    2924.500000  ...                  2.000000   \n50%           3.000000    4857.000000  ...                  3.000000   \n75%           4.000000    8354.500000  ...                  4.000000   \nmax           4.000000   19999.000000  ...                  4.000000   \n\n       StandardHours  StockOptionLevel  TotalWorkingYears  \\\ncount         1100.0       1100.000000        1100.000000   \nmean            80.0          0.788182          11.221818   \nstd              0.0          0.843347           7.825548   \nmin             80.0          0.000000           0.000000   \n25%             80.0          0.000000           6.000000   \n50%             80.0          1.000000          10.000000   \n75%             80.0          1.000000          15.000000   \nmax             80.0          3.000000          40.000000   \n\n       TrainingTimesLastYear  WorkLifeBalance  YearsAtCompany  \\\ncount            1100.000000      1100.000000     1100.000000   \nmean                2.807273         2.746364        7.011818   \nstd                 1.291514         0.701121        6.223093   \nmin                 0.000000         1.000000        0.000000   \n25%                 2.000000         2.000000        3.000000   \n50%                 3.000000         3.000000        5.000000   \n75%                 3.000000         3.000000        9.000000   \nmax                 6.000000         4.000000       37.000000   \n\n       YearsInCurrentRole  YearsSinceLastPromotion  YearsWithCurrManager  \ncount         1100.000000              1100.000000           1100.000000  \nmean             4.207273                 2.226364              4.123636  \nstd              3.618115                 3.313830              3.597996  \nmin              0.000000                 0.000000              0.000000  \n25%              2.000000                 0.000000              2.000000  \n50%              3.000000                 1.000000              3.000000  \n75%              7.000000                 3.000000              7.000000  \nmax             18.000000                15.000000             17.000000  \n\n[8 rows x 23 columns]",
      "text/html": "<div>\n<style scoped>\n    .dataframe tbody tr th:only-of-type {\n        vertical-align: middle;\n    }\n\n    .dataframe tbody tr th {\n        vertical-align: top;\n    }\n\n    .dataframe thead th {\n        text-align: right;\n    }\n</style>\n<table border=\"1\" class=\"dataframe\">\n  <thead>\n    <tr style=\"text-align: right;\">\n      <th></th>\n      <th>Attrition</th>\n      <th>Age</th>\n      <th>DistanceFromHome</th>\n      <th>Education</th>\n      <th>EmployeeNumber</th>\n      <th>EnvironmentSatisfaction</th>\n      <th>JobInvolvement</th>\n      <th>JobLevel</th>\n      <th>JobSatisfaction</th>\n      <th>MonthlyIncome</th>\n      <th>...</th>\n      <th>RelationshipSatisfaction</th>\n      <th>StandardHours</th>\n      <th>StockOptionLevel</th>\n      <th>TotalWorkingYears</th>\n      <th>TrainingTimesLastYear</th>\n      <th>WorkLifeBalance</th>\n      <th>YearsAtCompany</th>\n      <th>YearsInCurrentRole</th>\n      <th>YearsSinceLastPromotion</th>\n      <th>YearsWithCurrManager</th>\n    </tr>\n  </thead>\n  <tbody>\n    <tr>\n      <th>count</th>\n      <td>1100.000000</td>\n      <td>1100.000000</td>\n      <td>1100.000000</td>\n      <td>1100.000000</td>\n      <td>1100.000000</td>\n      <td>1100.000000</td>\n      <td>1100.000000</td>\n      <td>1100.000000</td>\n      <td>1100.000000</td>\n      <td>1100.000000</td>\n      <td>...</td>\n      <td>1100.000000</td>\n      <td>1100.0</td>\n      <td>1100.000000</td>\n      <td>1100.000000</td>\n      <td>1100.000000</td>\n      <td>1100.000000</td>\n      <td>1100.000000</td>\n      <td>1100.000000</td>\n      <td>1100.000000</td>\n      <td>1100.000000</td>\n    </tr>\n    <tr>\n      <th>mean</th>\n      <td>0.161818</td>\n      <td>36.999091</td>\n      <td>9.427273</td>\n      <td>2.922727</td>\n      <td>1028.157273</td>\n      <td>2.725455</td>\n      <td>2.730909</td>\n      <td>2.054545</td>\n      <td>2.732727</td>\n      <td>6483.620909</td>\n      <td>...</td>\n      <td>2.696364</td>\n      <td>80.0</td>\n      <td>0.788182</td>\n      <td>11.221818</td>\n      <td>2.807273</td>\n      <td>2.746364</td>\n      <td>7.011818</td>\n      <td>4.207273</td>\n      <td>2.226364</td>\n      <td>4.123636</td>\n    </tr>\n    <tr>\n      <th>std</th>\n      <td>0.368451</td>\n      <td>9.037230</td>\n      <td>8.196694</td>\n      <td>1.022242</td>\n      <td>598.915204</td>\n      <td>1.098053</td>\n      <td>0.706366</td>\n      <td>1.107805</td>\n      <td>1.109731</td>\n      <td>4715.293419</td>\n      <td>...</td>\n      <td>1.095356</td>\n      <td>0.0</td>\n      <td>0.843347</td>\n      <td>7.825548</td>\n      <td>1.291514</td>\n      <td>0.701121</td>\n      <td>6.223093</td>\n      <td>3.618115</td>\n      <td>3.313830</td>\n      <td>3.597996</td>\n    </tr>\n    <tr>\n      <th>min</th>\n      <td>0.000000</td>\n      <td>18.000000</td>\n      <td>1.000000</td>\n      <td>1.000000</td>\n      <td>1.000000</td>\n      <td>1.000000</td>\n      <td>1.000000</td>\n      <td>1.000000</td>\n      <td>1.000000</td>\n      <td>1009.000000</td>\n      <td>...</td>\n      <td>1.000000</td>\n      <td>80.0</td>\n      <td>0.000000</td>\n      <td>0.000000</td>\n      <td>0.000000</td>\n      <td>1.000000</td>\n      <td>0.000000</td>\n      <td>0.000000</td>\n      <td>0.000000</td>\n      <td>0.000000</td>\n    </tr>\n    <tr>\n      <th>25%</th>\n      <td>0.000000</td>\n      <td>30.000000</td>\n      <td>2.000000</td>\n      <td>2.000000</td>\n      <td>504.250000</td>\n      <td>2.000000</td>\n      <td>2.000000</td>\n      <td>1.000000</td>\n      <td>2.000000</td>\n      <td>2924.500000</td>\n      <td>...</td>\n      <td>2.000000</td>\n      <td>80.0</td>\n      <td>0.000000</td>\n      <td>6.000000</td>\n      <td>2.000000</td>\n      <td>2.000000</td>\n      <td>3.000000</td>\n      <td>2.000000</td>\n      <td>0.000000</td>\n      <td>2.000000</td>\n    </tr>\n    <tr>\n      <th>50%</th>\n      <td>0.000000</td>\n      <td>36.000000</td>\n      <td>7.000000</td>\n      <td>3.000000</td>\n      <td>1026.500000</td>\n      <td>3.000000</td>\n      <td>3.000000</td>\n      <td>2.000000</td>\n      <td>3.000000</td>\n      <td>4857.000000</td>\n      <td>...</td>\n      <td>3.000000</td>\n      <td>80.0</td>\n      <td>1.000000</td>\n      <td>10.000000</td>\n      <td>3.000000</td>\n      <td>3.000000</td>\n      <td>5.000000</td>\n      <td>3.000000</td>\n      <td>1.000000</td>\n      <td>3.000000</td>\n    </tr>\n    <tr>\n      <th>75%</th>\n      <td>0.000000</td>\n      <td>43.000000</td>\n      <td>15.000000</td>\n      <td>4.000000</td>\n      <td>1556.500000</td>\n      <td>4.000000</td>\n      <td>3.000000</td>\n      <td>3.000000</td>\n      <td>4.000000</td>\n      <td>8354.500000</td>\n      <td>...</td>\n      <td>4.000000</td>\n      <td>80.0</td>\n      <td>1.000000</td>\n      <td>15.000000</td>\n      <td>3.000000</td>\n      <td>3.000000</td>\n      <td>9.000000</td>\n      <td>7.000000</td>\n      <td>3.000000</td>\n      <td>7.000000</td>\n    </tr>\n    <tr>\n      <th>max</th>\n      <td>1.000000</td>\n      <td>60.000000</td>\n      <td>29.000000</td>\n      <td>5.000000</td>\n      <td>2065.000000</td>\n      <td>4.000000</td>\n      <td>4.000000</td>\n      <td>5.000000</td>\n      <td>4.000000</td>\n      <td>19999.000000</td>\n      <td>...</td>\n      <td>4.000000</td>\n      <td>80.0</td>\n      <td>3.000000</td>\n      <td>40.000000</td>\n      <td>6.000000</td>\n      <td>4.000000</td>\n      <td>37.000000</td>\n      <td>18.000000</td>\n      <td>15.000000</td>\n      <td>17.000000</td>\n    </tr>\n  </tbody>\n</table>\n<p>8 rows × 23 columns</p>\n</div>"
     },
     "execution_count": 5,
     "metadata": {},
     "output_type": "execute_result"
    }
   ],
   "source": [
    "data.describe()"
   ],
   "metadata": {
    "collapsed": false,
    "ExecuteTime": {
     "end_time": "2025-01-13T03:50:14.257663400Z",
     "start_time": "2025-01-13T03:50:14.019504400Z"
    }
   },
   "id": "e2005f24bf8e052e"
  },
  {
   "cell_type": "code",
   "execution_count": 6,
   "outputs": [],
   "source": [
    "# 1.todo:数据探索性分析结果数据完整，无空值需要处理，有8个object类型，需要处理 "
   ],
   "metadata": {
    "collapsed": false,
    "ExecuteTime": {
     "end_time": "2025-01-13T03:50:14.258665400Z",
     "start_time": "2025-01-13T03:50:14.133478900Z"
    }
   },
   "id": "f63951a29e556cca"
  },
  {
   "cell_type": "code",
   "execution_count": 7,
   "outputs": [
    {
     "name": "stdout",
     "output_type": "stream",
     "text": [
      "<class 'pandas.core.frame.DataFrame'>\n",
      "RangeIndex: 1100 entries, 0 to 1099\n",
      "Data columns (total 31 columns):\n",
      " #   Column                    Non-Null Count  Dtype\n",
      "---  ------                    --------------  -----\n",
      " 0   Attrition                 1100 non-null   int64\n",
      " 1   Age                       1100 non-null   int64\n",
      " 2   BusinessTravel            1100 non-null   int32\n",
      " 3   Department                1100 non-null   int32\n",
      " 4   DistanceFromHome          1100 non-null   int64\n",
      " 5   Education                 1100 non-null   int64\n",
      " 6   EducationField            1100 non-null   int32\n",
      " 7   EmployeeNumber            1100 non-null   int64\n",
      " 8   EnvironmentSatisfaction   1100 non-null   int64\n",
      " 9   Gender                    1100 non-null   int32\n",
      " 10  JobInvolvement            1100 non-null   int64\n",
      " 11  JobLevel                  1100 non-null   int64\n",
      " 12  JobRole                   1100 non-null   int32\n",
      " 13  JobSatisfaction           1100 non-null   int64\n",
      " 14  MaritalStatus             1100 non-null   int32\n",
      " 15  MonthlyIncome             1100 non-null   int64\n",
      " 16  NumCompaniesWorked        1100 non-null   int64\n",
      " 17  Over18                    1100 non-null   int32\n",
      " 18  OverTime                  1100 non-null   int32\n",
      " 19  PercentSalaryHike         1100 non-null   int64\n",
      " 20  PerformanceRating         1100 non-null   int64\n",
      " 21  RelationshipSatisfaction  1100 non-null   int64\n",
      " 22  StandardHours             1100 non-null   int64\n",
      " 23  StockOptionLevel          1100 non-null   int64\n",
      " 24  TotalWorkingYears         1100 non-null   int64\n",
      " 25  TrainingTimesLastYear     1100 non-null   int64\n",
      " 26  WorkLifeBalance           1100 non-null   int64\n",
      " 27  YearsAtCompany            1100 non-null   int64\n",
      " 28  YearsInCurrentRole        1100 non-null   int64\n",
      " 29  YearsSinceLastPromotion   1100 non-null   int64\n",
      " 30  YearsWithCurrManager      1100 non-null   int64\n",
      "dtypes: int32(8), int64(23)\n",
      "memory usage: 232.2 KB\n"
     ]
    }
   ],
   "source": [
    "# 2. 对object类型数据进行处理，将object类型数据转换为数值型数据\n",
    "# 商务差旅频率,\t员工所在部门,\t员工所学习的专业领域,\tGender,\n",
    "# 工作角色,员工婚姻状况,年龄是否超过18岁,是否加班,\n",
    "from sklearn.preprocessing import LabelEncoder\n",
    "le = LabelEncoder()\n",
    "data['BusinessTravel'] = le.fit_transform(data['BusinessTravel'])\n",
    "data['Department'] = le.fit_transform(data['Department'])\n",
    "data['EducationField'] = le.fit_transform(data['EducationField'])\n",
    "data['Gender'] = le.fit_transform(data['Gender'])\n",
    "data['JobRole'] = le.fit_transform(data['JobRole'])\n",
    "data['MaritalStatus'] = le.fit_transform(data['MaritalStatus'])\n",
    "data['Over18'] = le.fit_transform(data['Over18'])\n",
    "data['OverTime'] = le.fit_transform(data['OverTime'])\n",
    "data.info()"
   ],
   "metadata": {
    "collapsed": false,
    "ExecuteTime": {
     "end_time": "2025-01-13T03:50:14.949541100Z",
     "start_time": "2025-01-13T03:50:14.145251700Z"
    }
   },
   "id": "cc73d376273b7de6"
  },
  {
   "cell_type": "code",
   "execution_count": 8,
   "outputs": [],
   "source": [
    "# todo 数据集划分\n",
    "from sklearn.model_selection import train_test_split\n",
    "x_train,x_test,y_train,y_test = train_test_split(data.drop('Attrition',axis=1),data['Attrition'],test_size=0.2,random_state=22)"
   ],
   "metadata": {
    "collapsed": false,
    "ExecuteTime": {
     "end_time": "2025-01-13T03:50:15.551238500Z",
     "start_time": "2025-01-13T03:50:14.952295Z"
    }
   },
   "id": "5065272c9f45c5b9"
  },
  {
   "cell_type": "code",
   "execution_count": 9,
   "outputs": [
    {
     "data": {
      "text/plain": "646     0\n1095    0\n1077    0\n487     0\n41      0\nName: Attrition, dtype: int64"
     },
     "execution_count": 9,
     "metadata": {},
     "output_type": "execute_result"
    }
   ],
   "source": [
    "y_train.head()"
   ],
   "metadata": {
    "collapsed": false,
    "ExecuteTime": {
     "end_time": "2025-01-13T03:50:15.601185200Z",
     "start_time": "2025-01-13T03:50:15.551978400Z"
    }
   },
   "id": "bad88e088b17ed60"
  },
  {
   "cell_type": "code",
   "execution_count": 10,
   "outputs": [
    {
     "name": "stdout",
     "output_type": "stream",
     "text": [
      "初始化 模型lr auc值: 0.7536842105263158\n"
     ]
    },
    {
     "name": "stderr",
     "output_type": "stream",
     "text": [
      "D:\\Install\\anaconda3\\Lib\\site-packages\\sklearn\\linear_model\\_logistic.py:469: ConvergenceWarning: lbfgs failed to converge (status=1):\n",
      "STOP: TOTAL NO. of ITERATIONS REACHED LIMIT.\n",
      "\n",
      "Increase the number of iterations (max_iter) or scale the data as shown in:\n",
      "    https://scikit-learn.org/stable/modules/preprocessing.html\n",
      "Please also refer to the documentation for alternative solver options:\n",
      "    https://scikit-learn.org/stable/modules/linear_model.html#logistic-regression\n",
      "  n_iter_i = _check_optimize_result(\n"
     ]
    }
   ],
   "source": [
    "# todo 模型训练:逻辑回归，决策树，随机森林\n",
    "# 1.baseline:初始模型训练 逻辑回归\n",
    "from sklearn.linear_model import LogisticRegression\n",
    "lr = LogisticRegression()\n",
    "lr.fit(x_train,y_train)\n",
    "# 2. 初始模型的AUC值\n",
    "from sklearn.metrics import roc_auc_score\n",
    "y_pred_lr = lr.predict_proba(x_test)[:,1]\n",
    "print('初始化 模型lr auc值:',roc_auc_score(y_test,y_pred_lr))"
   ],
   "metadata": {
    "collapsed": false,
    "ExecuteTime": {
     "end_time": "2025-01-13T03:50:16.719018Z",
     "start_time": "2025-01-13T03:50:15.575380800Z"
    }
   },
   "id": "f64c83fb44388bdd"
  },
  {
   "cell_type": "code",
   "execution_count": 11,
   "outputs": [
    {
     "name": "stdout",
     "output_type": "stream",
     "text": [
      "决策树模型auc值: 0.6228070175438596\n"
     ]
    }
   ],
   "source": [
    "# 2.决策树\n",
    "from sklearn.tree import DecisionTreeClassifier\n",
    "dt = DecisionTreeClassifier()\n",
    "dt.fit(x_train,y_train)\n",
    "# 决策树模型的AUC值\n",
    "y_pred_dt = dt.predict_proba(x_test)[:,1]\n",
    "print('决策树模型auc值:',roc_auc_score(y_test,y_pred_dt))"
   ],
   "metadata": {
    "collapsed": false,
    "ExecuteTime": {
     "end_time": "2025-01-13T03:50:17.307236200Z",
     "start_time": "2025-01-13T03:50:16.729792600Z"
    }
   },
   "id": "36d7fe7915a28370"
  },
  {
   "cell_type": "code",
   "execution_count": 12,
   "outputs": [
    {
     "name": "stdout",
     "output_type": "stream",
     "text": [
      "随机森林模型auc值: 0.8191228070175438\n"
     ]
    }
   ],
   "source": [
    "# 3.随机森林\n",
    "from sklearn.ensemble import RandomForestClassifier\n",
    "rf = RandomForestClassifier()\n",
    "rf.fit(x_train,y_train)\n",
    "# 随机森林模型的AUC值\n",
    "y_pred_rf = rf.predict_proba(x_test)[:,1]\n",
    "print('随机森林模型auc值:',roc_auc_score(y_test,y_pred_rf))"
   ],
   "metadata": {
    "collapsed": false,
    "ExecuteTime": {
     "end_time": "2025-01-13T03:50:18.187663700Z",
     "start_time": "2025-01-13T03:50:17.307553500Z"
    }
   },
   "id": "fe14ca424faa3c93"
  },
  {
   "cell_type": "code",
   "execution_count": 13,
   "outputs": [
    {
     "name": "stderr",
     "output_type": "stream",
     "text": [
      "D:\\Install\\anaconda3\\Lib\\site-packages\\sklearn\\ensemble\\_weight_boosting.py:519: FutureWarning: The SAMME.R algorithm (the default) is deprecated and will be removed in 1.6. Use the SAMME algorithm to circumvent this warning.\n",
      "  warnings.warn(\n"
     ]
    },
    {
     "name": "stdout",
     "output_type": "stream",
     "text": [
      "adaboost模型auc值: 0.8477192982456141\n"
     ]
    }
   ],
   "source": [
    "# 4.adaboost\n",
    "from sklearn.ensemble import AdaBoostClassifier\n",
    "mytree = DecisionTreeClassifier(criterion='entropy',max_depth=1,random_state=22)\n",
    "myada = AdaBoostClassifier(estimator=mytree,n_estimators=500,learning_rate=0.1,random_state=22)\n",
    "myada.fit(x_train,y_train)\n",
    "# 初始化决策树模型的AUC值\n",
    "y_pred_ada = myada.predict_proba(x_test)[:,1]\n",
    "print('adaboost模型auc值:',roc_auc_score(y_test,y_pred_ada))\n"
   ],
   "metadata": {
    "collapsed": false,
    "ExecuteTime": {
     "end_time": "2025-01-13T03:50:20.655556700Z",
     "start_time": "2025-01-13T03:50:18.216155900Z"
    }
   },
   "id": "2ba3bccd2d5b0ad1"
  },
  {
   "cell_type": "code",
   "execution_count": 14,
   "outputs": [
    {
     "name": "stdout",
     "output_type": "stream",
     "text": [
      "初始GBDT模型auc值: 0.8226315789473684\n"
     ]
    }
   ],
   "source": [
    "# 5.GBDT\n",
    "from sklearn.ensemble import GradientBoostingClassifier\n",
    "gbdt = GradientBoostingClassifier()\n",
    "gbdt.fit(x_train,y_train)\n",
    "# GBDT的AUC值\n",
    "y_pred_gbdt = gbdt.predict_proba(x_test)[:,1]\n",
    "print('初始GBDT模型auc值:',roc_auc_score(y_test,y_pred_gbdt))"
   ],
   "metadata": {
    "collapsed": false,
    "ExecuteTime": {
     "end_time": "2025-01-13T03:50:21.268054700Z",
     "start_time": "2025-01-13T03:50:20.661495400Z"
    }
   },
   "id": "efcb0b0e7925e851"
  },
  {
   "cell_type": "code",
   "execution_count": 15,
   "outputs": [
    {
     "name": "stdout",
     "output_type": "stream",
     "text": [
      "初始xgboost模型auc值: 0.8191228070175438\n"
     ]
    }
   ],
   "source": [
    "# 6.xgboost\n",
    "from xgboost import XGBClassifier\n",
    "xgb = XGBClassifier(n_estimators=100,learning_rate=0.1,random_state=22)\n",
    "xgb.fit(x_train,y_train)\n",
    "# xgboost的AUC值\n",
    "y_pred_xgb = xgb.predict_proba(x_test)[:,1]\n",
    "print('初始xgboost模型auc值:',roc_auc_score(y_test,y_pred_xgb))"
   ],
   "metadata": {
    "collapsed": false,
    "ExecuteTime": {
     "end_time": "2025-01-13T03:50:22.019558600Z",
     "start_time": "2025-01-13T03:50:21.268054700Z"
    }
   },
   "id": "17b2983041de2652"
  },
  {
   "cell_type": "code",
   "execution_count": 16,
   "outputs": [
    {
     "name": "stdout",
     "output_type": "stream",
     "text": [
      "[LightGBM] [Warning] min_data_in_leaf is set=6, min_child_samples=20 will be ignored. Current value: min_data_in_leaf=6\n",
      "[LightGBM] [Warning] feature_fraction is set=0.8, colsample_bytree=1.0 will be ignored. Current value: feature_fraction=0.8\n",
      "[LightGBM] [Warning] bagging_fraction is set=0.8, subsample=1.0 will be ignored. Current value: bagging_fraction=0.8\n",
      "[LightGBM] [Warning] bagging_freq is set=0, subsample_freq=0 will be ignored. Current value: bagging_freq=0\n",
      "[LightGBM] [Warning] min_data_in_leaf is set=6, min_child_samples=20 will be ignored. Current value: min_data_in_leaf=6\n",
      "[LightGBM] [Warning] feature_fraction is set=0.8, colsample_bytree=1.0 will be ignored. Current value: feature_fraction=0.8\n",
      "[LightGBM] [Warning] bagging_fraction is set=0.8, subsample=1.0 will be ignored. Current value: bagging_fraction=0.8\n",
      "[LightGBM] [Warning] bagging_freq is set=0, subsample_freq=0 will be ignored. Current value: bagging_freq=0\n",
      "[LightGBM] [Info] Number of positive: 148, number of negative: 732\n",
      "[LightGBM] [Info] Auto-choosing row-wise multi-threading, the overhead of testing was 0.000891 seconds.\n",
      "You can set `force_row_wise=true` to remove the overhead.\n",
      "And if memory is not enough, you can set `force_col_wise=true`.\n",
      "[LightGBM] [Info] Total Bins 806\n",
      "[LightGBM] [Info] Number of data points in the train set: 880, number of used features: 28\n",
      "[LightGBM] [Warning] min_data_in_leaf is set=6, min_child_samples=20 will be ignored. Current value: min_data_in_leaf=6\n",
      "[LightGBM] [Warning] feature_fraction is set=0.8, colsample_bytree=1.0 will be ignored. Current value: feature_fraction=0.8\n",
      "[LightGBM] [Warning] bagging_fraction is set=0.8, subsample=1.0 will be ignored. Current value: bagging_fraction=0.8\n",
      "[LightGBM] [Warning] bagging_freq is set=0, subsample_freq=0 will be ignored. Current value: bagging_freq=0\n",
      "[LightGBM] [Info] [binary:BoostFromScore]: pavg=0.168182 -> initscore=-1.598568\n",
      "[LightGBM] [Info] Start training from score -1.598568\n",
      "[LightGBM] [Warning] No further splits with positive gain, best gain: -inf\n",
      "[LightGBM] [Warning] No further splits with positive gain, best gain: -inf\n",
      "[LightGBM] [Warning] No further splits with positive gain, best gain: -inf\n",
      "[LightGBM] [Warning] No further splits with positive gain, best gain: -inf\n",
      "[LightGBM] [Warning] No further splits with positive gain, best gain: -inf\n",
      "[LightGBM] [Warning] No further splits with positive gain, best gain: -inf\n",
      "[LightGBM] [Warning] No further splits with positive gain, best gain: -inf\n",
      "[LightGBM] [Warning] No further splits with positive gain, best gain: -inf\n",
      "[LightGBM] [Warning] No further splits with positive gain, best gain: -inf\n",
      "[LightGBM] [Warning] No further splits with positive gain, best gain: -inf\n",
      "[LightGBM] [Warning] No further splits with positive gain, best gain: -inf\n",
      "[LightGBM] [Warning] No further splits with positive gain, best gain: -inf\n",
      "[LightGBM] [Warning] No further splits with positive gain, best gain: -inf\n",
      "[LightGBM] [Warning] No further splits with positive gain, best gain: -inf\n",
      "[LightGBM] [Warning] No further splits with positive gain, best gain: -inf\n",
      "[LightGBM] [Warning] No further splits with positive gain, best gain: -inf\n",
      "[LightGBM] [Warning] No further splits with positive gain, best gain: -inf\n",
      "[LightGBM] [Warning] No further splits with positive gain, best gain: -inf\n",
      "[LightGBM] [Warning] No further splits with positive gain, best gain: -inf\n",
      "[LightGBM] [Warning] No further splits with positive gain, best gain: -inf\n",
      "[LightGBM] [Warning] No further splits with positive gain, best gain: -inf\n",
      "[LightGBM] [Warning] No further splits with positive gain, best gain: -inf\n",
      "[LightGBM] [Warning] No further splits with positive gain, best gain: -inf\n",
      "[LightGBM] [Warning] No further splits with positive gain, best gain: -inf\n",
      "[LightGBM] [Warning] No further splits with positive gain, best gain: -inf\n",
      "[LightGBM] [Warning] No further splits with positive gain, best gain: -inf\n",
      "[LightGBM] [Warning] No further splits with positive gain, best gain: -inf\n",
      "[LightGBM] [Warning] No further splits with positive gain, best gain: -inf\n",
      "[LightGBM] [Warning] No further splits with positive gain, best gain: -inf\n",
      "[LightGBM] [Warning] No further splits with positive gain, best gain: -inf\n",
      "[LightGBM] [Warning] No further splits with positive gain, best gain: -inf\n",
      "[LightGBM] [Warning] No further splits with positive gain, best gain: -inf\n",
      "[LightGBM] [Warning] No further splits with positive gain, best gain: -inf\n",
      "[LightGBM] [Warning] No further splits with positive gain, best gain: -inf\n",
      "[LightGBM] [Warning] No further splits with positive gain, best gain: -inf\n",
      "[LightGBM] [Warning] No further splits with positive gain, best gain: -inf\n",
      "[LightGBM] [Warning] No further splits with positive gain, best gain: -inf\n",
      "[LightGBM] [Warning] No further splits with positive gain, best gain: -inf\n",
      "[LightGBM] [Warning] No further splits with positive gain, best gain: -inf\n",
      "[LightGBM] [Warning] No further splits with positive gain, best gain: -inf\n",
      "[LightGBM] [Warning] No further splits with positive gain, best gain: -inf\n",
      "[LightGBM] [Warning] No further splits with positive gain, best gain: -inf\n",
      "[LightGBM] [Warning] No further splits with positive gain, best gain: -inf\n",
      "[LightGBM] [Warning] No further splits with positive gain, best gain: -inf\n",
      "[LightGBM] [Warning] No further splits with positive gain, best gain: -inf\n",
      "[LightGBM] [Warning] No further splits with positive gain, best gain: -inf\n",
      "[LightGBM] [Warning] No further splits with positive gain, best gain: -inf\n",
      "[LightGBM] [Warning] No further splits with positive gain, best gain: -inf\n",
      "[LightGBM] [Warning] No further splits with positive gain, best gain: -inf\n",
      "[LightGBM] [Warning] No further splits with positive gain, best gain: -inf\n",
      "[LightGBM] [Warning] No further splits with positive gain, best gain: -inf\n",
      "[LightGBM] [Warning] No further splits with positive gain, best gain: -inf\n",
      "[LightGBM] [Warning] No further splits with positive gain, best gain: -inf\n",
      "[LightGBM] [Warning] No further splits with positive gain, best gain: -inf\n",
      "[LightGBM] [Warning] No further splits with positive gain, best gain: -inf\n",
      "[LightGBM] [Warning] No further splits with positive gain, best gain: -inf\n",
      "[LightGBM] [Warning] No further splits with positive gain, best gain: -inf\n",
      "[LightGBM] [Warning] No further splits with positive gain, best gain: -inf\n",
      "[LightGBM] [Warning] No further splits with positive gain, best gain: -inf\n",
      "[LightGBM] [Warning] No further splits with positive gain, best gain: -inf\n",
      "[LightGBM] [Warning] No further splits with positive gain, best gain: -inf\n",
      "[LightGBM] [Warning] No further splits with positive gain, best gain: -inf\n",
      "[LightGBM] [Warning] No further splits with positive gain, best gain: -inf\n",
      "[LightGBM] [Warning] No further splits with positive gain, best gain: -inf\n",
      "[LightGBM] [Warning] No further splits with positive gain, best gain: -inf\n",
      "[LightGBM] [Warning] No further splits with positive gain, best gain: -inf\n",
      "[LightGBM] [Warning] No further splits with positive gain, best gain: -inf\n",
      "[LightGBM] [Warning] No further splits with positive gain, best gain: -inf\n",
      "[LightGBM] [Warning] No further splits with positive gain, best gain: -inf\n",
      "[LightGBM] [Warning] No further splits with positive gain, best gain: -inf\n",
      "[LightGBM] [Warning] No further splits with positive gain, best gain: -inf\n",
      "[LightGBM] [Warning] No further splits with positive gain, best gain: -inf\n",
      "[LightGBM] [Warning] No further splits with positive gain, best gain: -inf\n",
      "[LightGBM] [Warning] No further splits with positive gain, best gain: -inf\n",
      "[LightGBM] [Warning] No further splits with positive gain, best gain: -inf\n",
      "[LightGBM] [Warning] No further splits with positive gain, best gain: -inf\n",
      "[LightGBM] [Warning] No further splits with positive gain, best gain: -inf\n",
      "[LightGBM] [Warning] No further splits with positive gain, best gain: -inf\n",
      "[LightGBM] [Warning] No further splits with positive gain, best gain: -inf\n",
      "[LightGBM] [Warning] No further splits with positive gain, best gain: -inf\n",
      "[LightGBM] [Warning] No further splits with positive gain, best gain: -inf\n",
      "[LightGBM] [Warning] No further splits with positive gain, best gain: -inf\n",
      "[LightGBM] [Warning] No further splits with positive gain, best gain: -inf\n",
      "[LightGBM] [Warning] No further splits with positive gain, best gain: -inf\n",
      "[LightGBM] [Warning] No further splits with positive gain, best gain: -inf\n",
      "[LightGBM] [Warning] No further splits with positive gain, best gain: -inf\n",
      "[LightGBM] [Warning] No further splits with positive gain, best gain: -inf\n",
      "[LightGBM] [Warning] No further splits with positive gain, best gain: -inf\n",
      "[LightGBM] [Warning] No further splits with positive gain, best gain: -inf\n",
      "[LightGBM] [Warning] No further splits with positive gain, best gain: -inf\n",
      "[LightGBM] [Warning] No further splits with positive gain, best gain: -inf\n",
      "[LightGBM] [Warning] No further splits with positive gain, best gain: -inf\n",
      "[LightGBM] [Warning] No further splits with positive gain, best gain: -inf\n",
      "[LightGBM] [Warning] No further splits with positive gain, best gain: -inf\n",
      "[LightGBM] [Warning] No further splits with positive gain, best gain: -inf\n",
      "[LightGBM] [Warning] No further splits with positive gain, best gain: -inf\n",
      "[LightGBM] [Warning] No further splits with positive gain, best gain: -inf\n",
      "[LightGBM] [Warning] No further splits with positive gain, best gain: -inf\n",
      "[LightGBM] [Warning] No further splits with positive gain, best gain: -inf\n",
      "[LightGBM] [Warning] No further splits with positive gain, best gain: -inf\n",
      "[LightGBM] [Warning] min_data_in_leaf is set=6, min_child_samples=20 will be ignored. Current value: min_data_in_leaf=6\n",
      "[LightGBM] [Warning] feature_fraction is set=0.8, colsample_bytree=1.0 will be ignored. Current value: feature_fraction=0.8\n",
      "[LightGBM] [Warning] bagging_fraction is set=0.8, subsample=1.0 will be ignored. Current value: bagging_fraction=0.8\n",
      "[LightGBM] [Warning] bagging_freq is set=0, subsample_freq=0 will be ignored. Current value: bagging_freq=0\n",
      "初始lightgbm模型auc值: 0.8333333333333333\n"
     ]
    }
   ],
   "source": [
    "# 7.lightgbm\n",
    "from lightgbm import LGBMClassifier\n",
    "lgbm = LGBMClassifier(boosting_type='gbdt',objective='binary',metric='auc',learning_rate=0.1,n_estimators=100,\n",
    "                     max_depth=3,num_leaves=20,max_bin=255,min_data_in_leaf=6,bagging_fraction=0.8,bagging_freq=0\n",
    "                     ,feature_fraction=0.8,random_state=22)\n",
    "# 使用这个对象来训练模型\n",
    "lgbm.fit(x_train,y_train,eval_set=[(x_train,y_train),(x_test,y_test)],eval_metric='auc')\n",
    "# lightgbm的AUC值\n",
    "y_pred_lgb = lgbm.predict_proba(x_test)[:,1]\n",
    "print('初始lightgbm模型auc值:',roc_auc_score(y_test,y_pred_lgb))"
   ],
   "metadata": {
    "collapsed": false,
    "ExecuteTime": {
     "end_time": "2025-01-13T03:50:26.346769100Z",
     "start_time": "2025-01-13T03:50:22.021562600Z"
    }
   },
   "id": "2b15204c5d3979a6"
  },
  {
   "cell_type": "code",
   "execution_count": 17,
   "outputs": [
    {
     "data": {
      "text/plain": "      Age  BusinessTravel  Department  DistanceFromHome  Education  \\\n1028   34               2           2                 2          3   \n293    23               2           1                 9          1   \n962    37               2           2                10          4   \n591    58               2           2                21          3   \n455    25               2           2                13          1   \n...   ...             ...         ...               ...        ...   \n394    40               2           1                 4          1   \n49     31               2           1                 1          4   \n1004   55               2           1                20          2   \n794    36               1           2                11          2   \n503    33               0           2                17          3   \n\n      EducationField  EmployeeNumber  EnvironmentSatisfaction  Gender  \\\n1028               4             786                        4       1   \n293                3             758                        2       1   \n962                1            1105                        4       0   \n591                1            1938                        4       0   \n455                3             645                        2       1   \n...              ...             ...                      ...     ...   \n394                3             253                        4       0   \n49                 3              95                        3       1   \n1004               5             389                        2       1   \n794                5             154                        2       0   \n503                1             992                        4       1   \n\n      JobInvolvement  ...  RelationshipSatisfaction  StandardHours  \\\n1028               3  ...                         3             80   \n293                3  ...                         4             80   \n962                2  ...                         3             80   \n591                3  ...                         3             80   \n455                3  ...                         3             80   \n...              ...  ...                       ...            ...   \n394                3  ...                         2             80   \n49                 3  ...                         2             80   \n1004               3  ...                         4             80   \n794                3  ...                         3             80   \n503                3  ...                         4             80   \n\n      StockOptionLevel  TotalWorkingYears  TrainingTimesLastYear  \\\n1028                 0                  6                      5   \n293                  1                  5                      2   \n962                  3                  8                      5   \n591                  1                 29                      2   \n455                  0                  7                      1   \n...                ...                ...                    ...   \n394                  1                 21                      2   \n49                   0                  1                      4   \n1004                 1                 12                      4   \n794                  1                 10                      6   \n503                  0                 10                      2   \n\n      WorkLifeBalance  YearsAtCompany  YearsInCurrentRole  \\\n1028                3               6                   5   \n293                 4               4                   3   \n962                 3               1                   0   \n591                 2               1                   0   \n455                 3               7                   4   \n...               ...             ...                 ...   \n394                 3              20                   8   \n49                  3               1                   1   \n1004                3              10                   7   \n794                 3               9                   7   \n503                 3              10                   8   \n\n      YearsSinceLastPromotion  YearsWithCurrManager  \n1028                        1                     4  \n293                         0                     2  \n962                         0                     0  \n591                         0                     0  \n455                         0                     6  \n...                       ...                   ...  \n394                         9                     9  \n49                          1                     0  \n1004                        0                     8  \n794                         2                     8  \n503                         6                     0  \n\n[220 rows x 30 columns]",
      "text/html": "<div>\n<style scoped>\n    .dataframe tbody tr th:only-of-type {\n        vertical-align: middle;\n    }\n\n    .dataframe tbody tr th {\n        vertical-align: top;\n    }\n\n    .dataframe thead th {\n        text-align: right;\n    }\n</style>\n<table border=\"1\" class=\"dataframe\">\n  <thead>\n    <tr style=\"text-align: right;\">\n      <th></th>\n      <th>Age</th>\n      <th>BusinessTravel</th>\n      <th>Department</th>\n      <th>DistanceFromHome</th>\n      <th>Education</th>\n      <th>EducationField</th>\n      <th>EmployeeNumber</th>\n      <th>EnvironmentSatisfaction</th>\n      <th>Gender</th>\n      <th>JobInvolvement</th>\n      <th>...</th>\n      <th>RelationshipSatisfaction</th>\n      <th>StandardHours</th>\n      <th>StockOptionLevel</th>\n      <th>TotalWorkingYears</th>\n      <th>TrainingTimesLastYear</th>\n      <th>WorkLifeBalance</th>\n      <th>YearsAtCompany</th>\n      <th>YearsInCurrentRole</th>\n      <th>YearsSinceLastPromotion</th>\n      <th>YearsWithCurrManager</th>\n    </tr>\n  </thead>\n  <tbody>\n    <tr>\n      <th>1028</th>\n      <td>34</td>\n      <td>2</td>\n      <td>2</td>\n      <td>2</td>\n      <td>3</td>\n      <td>4</td>\n      <td>786</td>\n      <td>4</td>\n      <td>1</td>\n      <td>3</td>\n      <td>...</td>\n      <td>3</td>\n      <td>80</td>\n      <td>0</td>\n      <td>6</td>\n      <td>5</td>\n      <td>3</td>\n      <td>6</td>\n      <td>5</td>\n      <td>1</td>\n      <td>4</td>\n    </tr>\n    <tr>\n      <th>293</th>\n      <td>23</td>\n      <td>2</td>\n      <td>1</td>\n      <td>9</td>\n      <td>1</td>\n      <td>3</td>\n      <td>758</td>\n      <td>2</td>\n      <td>1</td>\n      <td>3</td>\n      <td>...</td>\n      <td>4</td>\n      <td>80</td>\n      <td>1</td>\n      <td>5</td>\n      <td>2</td>\n      <td>4</td>\n      <td>4</td>\n      <td>3</td>\n      <td>0</td>\n      <td>2</td>\n    </tr>\n    <tr>\n      <th>962</th>\n      <td>37</td>\n      <td>2</td>\n      <td>2</td>\n      <td>10</td>\n      <td>4</td>\n      <td>1</td>\n      <td>1105</td>\n      <td>4</td>\n      <td>0</td>\n      <td>2</td>\n      <td>...</td>\n      <td>3</td>\n      <td>80</td>\n      <td>3</td>\n      <td>8</td>\n      <td>5</td>\n      <td>3</td>\n      <td>1</td>\n      <td>0</td>\n      <td>0</td>\n      <td>0</td>\n    </tr>\n    <tr>\n      <th>591</th>\n      <td>58</td>\n      <td>2</td>\n      <td>2</td>\n      <td>21</td>\n      <td>3</td>\n      <td>1</td>\n      <td>1938</td>\n      <td>4</td>\n      <td>0</td>\n      <td>3</td>\n      <td>...</td>\n      <td>3</td>\n      <td>80</td>\n      <td>1</td>\n      <td>29</td>\n      <td>2</td>\n      <td>2</td>\n      <td>1</td>\n      <td>0</td>\n      <td>0</td>\n      <td>0</td>\n    </tr>\n    <tr>\n      <th>455</th>\n      <td>25</td>\n      <td>2</td>\n      <td>2</td>\n      <td>13</td>\n      <td>1</td>\n      <td>3</td>\n      <td>645</td>\n      <td>2</td>\n      <td>1</td>\n      <td>3</td>\n      <td>...</td>\n      <td>3</td>\n      <td>80</td>\n      <td>0</td>\n      <td>7</td>\n      <td>1</td>\n      <td>3</td>\n      <td>7</td>\n      <td>4</td>\n      <td>0</td>\n      <td>6</td>\n    </tr>\n    <tr>\n      <th>...</th>\n      <td>...</td>\n      <td>...</td>\n      <td>...</td>\n      <td>...</td>\n      <td>...</td>\n      <td>...</td>\n      <td>...</td>\n      <td>...</td>\n      <td>...</td>\n      <td>...</td>\n      <td>...</td>\n      <td>...</td>\n      <td>...</td>\n      <td>...</td>\n      <td>...</td>\n      <td>...</td>\n      <td>...</td>\n      <td>...</td>\n      <td>...</td>\n      <td>...</td>\n      <td>...</td>\n    </tr>\n    <tr>\n      <th>394</th>\n      <td>40</td>\n      <td>2</td>\n      <td>1</td>\n      <td>4</td>\n      <td>1</td>\n      <td>3</td>\n      <td>253</td>\n      <td>4</td>\n      <td>0</td>\n      <td>3</td>\n      <td>...</td>\n      <td>2</td>\n      <td>80</td>\n      <td>1</td>\n      <td>21</td>\n      <td>2</td>\n      <td>3</td>\n      <td>20</td>\n      <td>8</td>\n      <td>9</td>\n      <td>9</td>\n    </tr>\n    <tr>\n      <th>49</th>\n      <td>31</td>\n      <td>2</td>\n      <td>1</td>\n      <td>1</td>\n      <td>4</td>\n      <td>3</td>\n      <td>95</td>\n      <td>3</td>\n      <td>1</td>\n      <td>3</td>\n      <td>...</td>\n      <td>2</td>\n      <td>80</td>\n      <td>0</td>\n      <td>1</td>\n      <td>4</td>\n      <td>3</td>\n      <td>1</td>\n      <td>1</td>\n      <td>1</td>\n      <td>0</td>\n    </tr>\n    <tr>\n      <th>1004</th>\n      <td>55</td>\n      <td>2</td>\n      <td>1</td>\n      <td>20</td>\n      <td>2</td>\n      <td>5</td>\n      <td>389</td>\n      <td>2</td>\n      <td>1</td>\n      <td>3</td>\n      <td>...</td>\n      <td>4</td>\n      <td>80</td>\n      <td>1</td>\n      <td>12</td>\n      <td>4</td>\n      <td>3</td>\n      <td>10</td>\n      <td>7</td>\n      <td>0</td>\n      <td>8</td>\n    </tr>\n    <tr>\n      <th>794</th>\n      <td>36</td>\n      <td>1</td>\n      <td>2</td>\n      <td>11</td>\n      <td>2</td>\n      <td>5</td>\n      <td>154</td>\n      <td>2</td>\n      <td>0</td>\n      <td>3</td>\n      <td>...</td>\n      <td>3</td>\n      <td>80</td>\n      <td>1</td>\n      <td>10</td>\n      <td>6</td>\n      <td>3</td>\n      <td>9</td>\n      <td>7</td>\n      <td>2</td>\n      <td>8</td>\n    </tr>\n    <tr>\n      <th>503</th>\n      <td>33</td>\n      <td>0</td>\n      <td>2</td>\n      <td>17</td>\n      <td>3</td>\n      <td>1</td>\n      <td>992</td>\n      <td>4</td>\n      <td>1</td>\n      <td>3</td>\n      <td>...</td>\n      <td>4</td>\n      <td>80</td>\n      <td>0</td>\n      <td>10</td>\n      <td>2</td>\n      <td>3</td>\n      <td>10</td>\n      <td>8</td>\n      <td>6</td>\n      <td>0</td>\n    </tr>\n  </tbody>\n</table>\n<p>220 rows × 30 columns</p>\n</div>"
     },
     "execution_count": 17,
     "metadata": {},
     "output_type": "execute_result"
    }
   ],
   "source": [
    "x_test"
   ],
   "metadata": {
    "collapsed": false,
    "ExecuteTime": {
     "end_time": "2025-01-13T03:50:26.462779800Z",
     "start_time": "2025-01-13T03:50:26.350397100Z"
    }
   },
   "id": "a1492a80d4bf9a0"
  },
  {
   "cell_type": "code",
   "execution_count": 18,
   "outputs": [],
   "source": [
    "# 初始化 模型lr auc值:    0.7536842105263158\n",
    "# 决策树模型auc值:        0.6394736842105262\n",
    "# 随机森林模型auc值:      0.796578947368421\n",
    "# adaboost模型auc值:     0.8477192982456141\n",
    "# 初始GBDT模型auc值:     0.8229824561403509\n",
    "# 初始xgboost模型auc值:  0.8191228070175438\n",
    "# 初始lightgbm模型auc值: 0.8333333333333333"
   ],
   "metadata": {
    "collapsed": false,
    "ExecuteTime": {
     "end_time": "2025-01-13T03:50:26.465830600Z",
     "start_time": "2025-01-13T03:50:26.380165500Z"
    }
   },
   "id": "31d122be4d3744a3"
  },
  {
   "cell_type": "code",
   "execution_count": 19,
   "outputs": [
    {
     "name": "stdout",
     "output_type": "stream",
     "text": [
      "随机森林网格搜索后的准确率: 0.8818181818181818\n",
      "最佳参数: {'max_depth': 9, 'n_estimators': 400, 'random_state': 22}\n"
     ]
    }
   ],
   "source": [
    "# todo 二 模型优化\n",
    "# 1.尝试对随机森林模型进行参数调优，进行交叉验证+网格搜索，寻找最优参数\n",
    "from sklearn.model_selection import GridSearchCV\n",
    "estimator = RandomForestClassifier()\n",
    "param_grid = {\n",
    "    'n_estimators':[100,200,300,400,500],\n",
    "    'max_depth':[3,5,7,9,11],\n",
    "    'random_state':[22]\n",
    "    # 'min_samples_leaf':[1,2,3,4,5],\n",
    "    # 'min_samples_split':[2,4,6,8,10]\n",
    "}\n",
    "grid_search = GridSearchCV(estimator=estimator,param_grid=param_grid,cv=5)\n",
    "grid_search.fit(x_train,y_train)\n",
    "accuracy = grid_search.score(x_test,y_test)\n",
    "print('随机森林网格搜索后的准确率:',accuracy)\n",
    "print('最佳参数:',grid_search.best_params_)\n",
    "# 随机森林网格搜索后的准确率: 0.8818181818181818\n",
    "# 最佳参数: {'max_depth': 9, 'n_estimators': 400, 'random_state': 22}\n",
    "# TODO 进过调优后，模型性能有提升，可以采用"
   ],
   "metadata": {
    "collapsed": false,
    "ExecuteTime": {
     "end_time": "2025-01-13T03:52:19.609960400Z",
     "start_time": "2025-01-13T03:50:26.388133100Z"
    }
   },
   "id": "a156d38ad44b3cbf"
  },
  {
   "cell_type": "code",
   "execution_count": 20,
   "outputs": [
    {
     "name": "stdout",
     "output_type": "stream",
     "text": [
      "<class 'pandas.core.frame.DataFrame'>\n",
      "RangeIndex: 350 entries, 0 to 349\n",
      "Data columns (total 31 columns):\n",
      " #   Column                    Non-Null Count  Dtype \n",
      "---  ------                    --------------  ----- \n",
      " 0   Age                       350 non-null    int64 \n",
      " 1   BusinessTravel            350 non-null    object\n",
      " 2   Department                350 non-null    object\n",
      " 3   DistanceFromHome          350 non-null    int64 \n",
      " 4   Education                 350 non-null    int64 \n",
      " 5   EducationField            350 non-null    object\n",
      " 6   EmployeeNumber            350 non-null    int64 \n",
      " 7   EnvironmentSatisfaction   350 non-null    int64 \n",
      " 8   Gender                    350 non-null    object\n",
      " 9   JobInvolvement            350 non-null    int64 \n",
      " 10  JobLevel                  350 non-null    int64 \n",
      " 11  JobRole                   350 non-null    object\n",
      " 12  JobSatisfaction           350 non-null    int64 \n",
      " 13  MaritalStatus             350 non-null    object\n",
      " 14  MonthlyIncome             350 non-null    int64 \n",
      " 15  NumCompaniesWorked        350 non-null    int64 \n",
      " 16  Over18                    350 non-null    object\n",
      " 17  OverTime                  350 non-null    object\n",
      " 18  PercentSalaryHike         350 non-null    int64 \n",
      " 19  PerformanceRating         350 non-null    int64 \n",
      " 20  RelationshipSatisfaction  350 non-null    int64 \n",
      " 21  StandardHours             350 non-null    int64 \n",
      " 22  StockOptionLevel          350 non-null    int64 \n",
      " 23  TotalWorkingYears         350 non-null    int64 \n",
      " 24  TrainingTimesLastYear     350 non-null    int64 \n",
      " 25  WorkLifeBalance           350 non-null    int64 \n",
      " 26  YearsAtCompany            350 non-null    int64 \n",
      " 27  YearsInCurrentRole        350 non-null    int64 \n",
      " 28  YearsSinceLastPromotion   350 non-null    int64 \n",
      " 29  YearsWithCurrManager      350 non-null    int64 \n",
      " 30  Attrition                 350 non-null    int64 \n",
      "dtypes: int64(23), object(8)\n",
      "memory usage: 84.9+ KB\n"
     ]
    }
   ],
   "source": [
    "# todo 使用验证数据集\n",
    "# 利用数据集test2.csv来验证模型性能\n",
    "# 1.加载测试集数据\n",
    "test = pd.read_csv('./data/test2.csv')\n",
    "test.info()\n",
    "from sklearn.metrics import accuracy_score,precision_score,recall_score,f1_score,roc_auc_score\n",
    "# y_pred_rf = rf.predict_proba(test)[:,1]"
   ],
   "metadata": {
    "collapsed": false,
    "ExecuteTime": {
     "end_time": "2025-01-13T03:52:19.746851600Z",
     "start_time": "2025-01-13T03:52:19.610899700Z"
    }
   },
   "id": "e99893b0a98a9050"
  },
  {
   "cell_type": "code",
   "execution_count": 21,
   "outputs": [
    {
     "data": {
      "text/plain": "   Age     BusinessTravel              Department  DistanceFromHome  \\\n0   40         Non-Travel  Research & Development                 9   \n1   53      Travel_Rarely  Research & Development                 7   \n2   42      Travel_Rarely  Research & Development                 2   \n3   34  Travel_Frequently         Human Resources                11   \n4   32      Travel_Rarely  Research & Development                 1   \n\n   Education EducationField  EmployeeNumber  EnvironmentSatisfaction  Gender  \\\n0          4          Other            1449                        3    Male   \n1          2        Medical            1201                        4  Female   \n2          4          Other             477                        1    Male   \n3          3  Life Sciences            1289                        3    Male   \n4          1  Life Sciences             134                        4    Male   \n\n   JobInvolvement  ...  StandardHours StockOptionLevel  TotalWorkingYears  \\\n0               3  ...             80                2                 11   \n1               3  ...             80                1                 26   \n2               2  ...             80                0                 14   \n3               2  ...             80                2                 14   \n4               3  ...             80                0                  1   \n\n  TrainingTimesLastYear  WorkLifeBalance  YearsAtCompany YearsInCurrentRole  \\\n0                     2                4               8                  7   \n1                     6                3               7                  7   \n2                     6                3               1                  0   \n3                     5                4              10                  9   \n4                     2                3               1                  0   \n\n  YearsSinceLastPromotion  YearsWithCurrManager  Attrition  \n0                       0                     7          0  \n1                       4                     7          0  \n2                       0                     0          0  \n3                       1                     8          0  \n4                       0                     0          0  \n\n[5 rows x 31 columns]",
      "text/html": "<div>\n<style scoped>\n    .dataframe tbody tr th:only-of-type {\n        vertical-align: middle;\n    }\n\n    .dataframe tbody tr th {\n        vertical-align: top;\n    }\n\n    .dataframe thead th {\n        text-align: right;\n    }\n</style>\n<table border=\"1\" class=\"dataframe\">\n  <thead>\n    <tr style=\"text-align: right;\">\n      <th></th>\n      <th>Age</th>\n      <th>BusinessTravel</th>\n      <th>Department</th>\n      <th>DistanceFromHome</th>\n      <th>Education</th>\n      <th>EducationField</th>\n      <th>EmployeeNumber</th>\n      <th>EnvironmentSatisfaction</th>\n      <th>Gender</th>\n      <th>JobInvolvement</th>\n      <th>...</th>\n      <th>StandardHours</th>\n      <th>StockOptionLevel</th>\n      <th>TotalWorkingYears</th>\n      <th>TrainingTimesLastYear</th>\n      <th>WorkLifeBalance</th>\n      <th>YearsAtCompany</th>\n      <th>YearsInCurrentRole</th>\n      <th>YearsSinceLastPromotion</th>\n      <th>YearsWithCurrManager</th>\n      <th>Attrition</th>\n    </tr>\n  </thead>\n  <tbody>\n    <tr>\n      <th>0</th>\n      <td>40</td>\n      <td>Non-Travel</td>\n      <td>Research &amp; Development</td>\n      <td>9</td>\n      <td>4</td>\n      <td>Other</td>\n      <td>1449</td>\n      <td>3</td>\n      <td>Male</td>\n      <td>3</td>\n      <td>...</td>\n      <td>80</td>\n      <td>2</td>\n      <td>11</td>\n      <td>2</td>\n      <td>4</td>\n      <td>8</td>\n      <td>7</td>\n      <td>0</td>\n      <td>7</td>\n      <td>0</td>\n    </tr>\n    <tr>\n      <th>1</th>\n      <td>53</td>\n      <td>Travel_Rarely</td>\n      <td>Research &amp; Development</td>\n      <td>7</td>\n      <td>2</td>\n      <td>Medical</td>\n      <td>1201</td>\n      <td>4</td>\n      <td>Female</td>\n      <td>3</td>\n      <td>...</td>\n      <td>80</td>\n      <td>1</td>\n      <td>26</td>\n      <td>6</td>\n      <td>3</td>\n      <td>7</td>\n      <td>7</td>\n      <td>4</td>\n      <td>7</td>\n      <td>0</td>\n    </tr>\n    <tr>\n      <th>2</th>\n      <td>42</td>\n      <td>Travel_Rarely</td>\n      <td>Research &amp; Development</td>\n      <td>2</td>\n      <td>4</td>\n      <td>Other</td>\n      <td>477</td>\n      <td>1</td>\n      <td>Male</td>\n      <td>2</td>\n      <td>...</td>\n      <td>80</td>\n      <td>0</td>\n      <td>14</td>\n      <td>6</td>\n      <td>3</td>\n      <td>1</td>\n      <td>0</td>\n      <td>0</td>\n      <td>0</td>\n      <td>0</td>\n    </tr>\n    <tr>\n      <th>3</th>\n      <td>34</td>\n      <td>Travel_Frequently</td>\n      <td>Human Resources</td>\n      <td>11</td>\n      <td>3</td>\n      <td>Life Sciences</td>\n      <td>1289</td>\n      <td>3</td>\n      <td>Male</td>\n      <td>2</td>\n      <td>...</td>\n      <td>80</td>\n      <td>2</td>\n      <td>14</td>\n      <td>5</td>\n      <td>4</td>\n      <td>10</td>\n      <td>9</td>\n      <td>1</td>\n      <td>8</td>\n      <td>0</td>\n    </tr>\n    <tr>\n      <th>4</th>\n      <td>32</td>\n      <td>Travel_Rarely</td>\n      <td>Research &amp; Development</td>\n      <td>1</td>\n      <td>1</td>\n      <td>Life Sciences</td>\n      <td>134</td>\n      <td>4</td>\n      <td>Male</td>\n      <td>3</td>\n      <td>...</td>\n      <td>80</td>\n      <td>0</td>\n      <td>1</td>\n      <td>2</td>\n      <td>3</td>\n      <td>1</td>\n      <td>0</td>\n      <td>0</td>\n      <td>0</td>\n      <td>0</td>\n    </tr>\n  </tbody>\n</table>\n<p>5 rows × 31 columns</p>\n</div>"
     },
     "execution_count": 21,
     "metadata": {},
     "output_type": "execute_result"
    }
   ],
   "source": [
    "test.head()"
   ],
   "metadata": {
    "collapsed": false,
    "ExecuteTime": {
     "end_time": "2025-01-13T03:52:19.749534Z",
     "start_time": "2025-01-13T03:52:19.644226900Z"
    }
   },
   "id": "c1d01919ce792b40"
  },
  {
   "cell_type": "code",
   "execution_count": 22,
   "outputs": [
    {
     "name": "stdout",
     "output_type": "stream",
     "text": [
      "<class 'pandas.core.frame.DataFrame'>\n",
      "RangeIndex: 350 entries, 0 to 349\n",
      "Data columns (total 31 columns):\n",
      " #   Column                    Non-Null Count  Dtype\n",
      "---  ------                    --------------  -----\n",
      " 0   Age                       350 non-null    int64\n",
      " 1   BusinessTravel            350 non-null    int32\n",
      " 2   Department                350 non-null    int32\n",
      " 3   DistanceFromHome          350 non-null    int64\n",
      " 4   Education                 350 non-null    int64\n",
      " 5   EducationField            350 non-null    int32\n",
      " 6   EmployeeNumber            350 non-null    int64\n",
      " 7   EnvironmentSatisfaction   350 non-null    int64\n",
      " 8   Gender                    350 non-null    int32\n",
      " 9   JobInvolvement            350 non-null    int64\n",
      " 10  JobLevel                  350 non-null    int64\n",
      " 11  JobRole                   350 non-null    int32\n",
      " 12  JobSatisfaction           350 non-null    int64\n",
      " 13  MaritalStatus             350 non-null    int32\n",
      " 14  MonthlyIncome             350 non-null    int64\n",
      " 15  NumCompaniesWorked        350 non-null    int64\n",
      " 16  Over18                    350 non-null    int32\n",
      " 17  OverTime                  350 non-null    int32\n",
      " 18  PercentSalaryHike         350 non-null    int64\n",
      " 19  PerformanceRating         350 non-null    int64\n",
      " 20  RelationshipSatisfaction  350 non-null    int64\n",
      " 21  StandardHours             350 non-null    int64\n",
      " 22  StockOptionLevel          350 non-null    int64\n",
      " 23  TotalWorkingYears         350 non-null    int64\n",
      " 24  TrainingTimesLastYear     350 non-null    int64\n",
      " 25  WorkLifeBalance           350 non-null    int64\n",
      " 26  YearsAtCompany            350 non-null    int64\n",
      " 27  YearsInCurrentRole        350 non-null    int64\n",
      " 28  YearsSinceLastPromotion   350 non-null    int64\n",
      " 29  YearsWithCurrManager      350 non-null    int64\n",
      " 30  Attrition                 350 non-null    int64\n",
      "dtypes: int32(8), int64(23)\n",
      "memory usage: 74.0 KB\n"
     ]
    }
   ],
   "source": [
    "# 商务差旅频率,\t员工所在部门,\t员工所学习的专业领域,\tGender,\n",
    "# 工作角色,员工婚姻状况,年龄是否超过18岁,是否加班,\n",
    "test['BusinessTravel'] = le.fit_transform(test['BusinessTravel'])\n",
    "test['Department'] = le.fit_transform(test['Department'])\n",
    "test['EducationField'] = le.fit_transform(test['EducationField'])\n",
    "test['Gender'] = le.fit_transform(test['Gender'])\n",
    "test['JobRole'] = le.fit_transform(test['JobRole'])\n",
    "test['MaritalStatus'] = le.fit_transform(test['MaritalStatus'])\n",
    "test['Over18'] = le.fit_transform(test['Over18'])\n",
    "test['OverTime'] = le.fit_transform(test['OverTime'])\n",
    "test.info()"
   ],
   "metadata": {
    "collapsed": false,
    "ExecuteTime": {
     "end_time": "2025-01-13T03:52:19.749534Z",
     "start_time": "2025-01-13T03:52:19.690773700Z"
    }
   },
   "id": "f7612e887ae4b780"
  },
  {
   "cell_type": "code",
   "execution_count": 23,
   "outputs": [
    {
     "name": "stdout",
     "output_type": "stream",
     "text": [
      "模型的准确率: 0.8628571428571429\n",
      "随机森林模型auc值: 0.8172288927005908\n",
      "模型的精确率: 0.6470588235294118\n",
      "模型的F1值: 0.3142857142857143\n",
      "模型的召回率: 0.20754716981132076\n"
     ]
    }
   ],
   "source": [
    "y_pred_rf = rf.predict_proba(test.drop('Attrition',axis=1))[:,1]\n",
    "# 模型准确率，ROC曲线\n",
    "print('模型的准确率:',rf.score(test.drop('Attrition',axis=1),test['Attrition']))\n",
    "print('随机森林模型auc值:',roc_auc_score(test['Attrition'],y_pred_rf))\n",
    "# print('模型的精确率:',precision_score(test['Attrition'],y_pred_rf))\n",
    "y_predict = rf.predict(test.drop('Attrition',axis=1))\n",
    "# 计算 召回率，F1值\n",
    "print('模型的精确率:',precision_score(test['Attrition'],y_predict))\n",
    "print('模型的F1值:',f1_score(test['Attrition'],y_predict))\n",
    "print('模型的召回率:',recall_score(test['Attrition'],y_predict))"
   ],
   "metadata": {
    "collapsed": false,
    "ExecuteTime": {
     "end_time": "2025-01-13T03:52:20.169296400Z",
     "start_time": "2025-01-13T03:52:19.729402300Z"
    }
   },
   "id": "e3fcf51433286332"
  },
  {
   "cell_type": "code",
   "execution_count": 24,
   "outputs": [
    {
     "name": "stdout",
     "output_type": "stream",
     "text": [
      "随机森林模型评估报告:\n",
      "               precision    recall  f1-score   support\n",
      "\n",
      "           0       0.87      0.98      0.92       297\n",
      "           1       0.65      0.21      0.31        53\n",
      "\n",
      "    accuracy                           0.86       350\n",
      "   macro avg       0.76      0.59      0.62       350\n",
      "weighted avg       0.84      0.86      0.83       350\n"
     ]
    }
   ],
   "source": [
    "# 分类评估报告\n",
    "from sklearn.metrics import classification_report\n",
    "print('随机森林模型评估报告:\\n',classification_report(test['Attrition'],y_predict))"
   ],
   "metadata": {
    "collapsed": false,
    "ExecuteTime": {
     "end_time": "2025-01-13T03:52:20.171570200Z",
     "start_time": "2025-01-13T03:52:19.820459200Z"
    }
   },
   "id": "6d83b866fd58f663"
  },
  {
   "cell_type": "code",
   "execution_count": 25,
   "outputs": [
    {
     "name": "stdout",
     "output_type": "stream",
     "text": [
      "GBDT模型的准确率: 0.86\n",
      "GBDT模型auc值: 0.8335556826122864\n"
     ]
    }
   ],
   "source": [
    "# 2.GBDT\n",
    "y_pred_gbdt = gbdt.predict_proba(test.drop('Attrition',axis=1))[:,1]\n",
    "# 模型准确率，ROC曲线\n",
    "print('GBDT模型的准确率:',gbdt.score(test.drop('Attrition',axis=1),test['Attrition']))\n",
    "print('GBDT模型auc值:',roc_auc_score(test['Attrition'],y_pred_gbdt))"
   ],
   "metadata": {
    "collapsed": false,
    "ExecuteTime": {
     "end_time": "2025-01-13T03:52:20.172564800Z",
     "start_time": "2025-01-13T03:52:19.843366700Z"
    }
   },
   "id": "12bd86d4a389fdfa"
  },
  {
   "cell_type": "code",
   "execution_count": 26,
   "outputs": [
    {
     "name": "stdout",
     "output_type": "stream",
     "text": [
      "GBDT模型评估报告:\n",
      "               precision    recall  f1-score   support\n",
      "\n",
      "           0       0.89      0.95      0.92       297\n",
      "           1       0.56      0.36      0.44        53\n",
      "\n",
      "    accuracy                           0.86       350\n",
      "   macro avg       0.73      0.65      0.68       350\n",
      "weighted avg       0.84      0.86      0.85       350\n"
     ]
    }
   ],
   "source": [
    "# 评估报告\n",
    "y_predict = gbdt.predict(test.drop('Attrition',axis=1))\n",
    "print('GBDT模型评估报告:\\n',classification_report(test['Attrition'],y_predict))"
   ],
   "metadata": {
    "collapsed": false,
    "ExecuteTime": {
     "end_time": "2025-01-13T03:52:20.173564400Z",
     "start_time": "2025-01-13T03:52:19.874543400Z"
    }
   },
   "id": "a35a7735571ff366"
  },
  {
   "cell_type": "code",
   "execution_count": 27,
   "outputs": [
    {
     "name": "stdout",
     "output_type": "stream",
     "text": [
      "xgboost模型的准确率: 0.8542857142857143\n",
      "xgboost模型auc值: 0.8306333778031891\n"
     ]
    }
   ],
   "source": [
    "# 3.xgboost\n",
    "y_pred_xgb = xgb.predict_proba(test.drop('Attrition',axis=1))[:,1]\n",
    "# 模型准确率，ROC曲线\n",
    "print('xgboost模型的准确率:',xgb.score(test.drop('Attrition',axis=1),test['Attrition']))\n",
    "print('xgboost模型auc值:',roc_auc_score(test['Attrition'],y_pred_xgb))"
   ],
   "metadata": {
    "collapsed": false,
    "ExecuteTime": {
     "end_time": "2025-01-13T03:52:20.206148700Z",
     "start_time": "2025-01-13T03:52:19.895747100Z"
    }
   },
   "id": "bf17ecc6ac71733"
  },
  {
   "cell_type": "code",
   "execution_count": 28,
   "outputs": [
    {
     "name": "stdout",
     "output_type": "stream",
     "text": [
      "xgboost模型评估报告:\n",
      "               precision    recall  f1-score   support\n",
      "\n",
      "           0       0.88      0.95      0.92       297\n",
      "           1       0.53      0.30      0.39        53\n",
      "\n",
      "    accuracy                           0.85       350\n",
      "   macro avg       0.71      0.63      0.65       350\n",
      "weighted avg       0.83      0.85      0.84       350\n"
     ]
    }
   ],
   "source": [
    "# 评估报告\n",
    "y_predict = xgb.predict(test.drop('Attrition',axis=1))\n",
    "print('xgboost模型评估报告:\\n',classification_report(test['Attrition'],y_predict))"
   ],
   "metadata": {
    "collapsed": false,
    "ExecuteTime": {
     "end_time": "2025-01-13T03:52:20.229970600Z",
     "start_time": "2025-01-13T03:52:19.980112500Z"
    }
   },
   "id": "891351af13ccf48a"
  },
  {
   "cell_type": "code",
   "execution_count": 29,
   "outputs": [
    {
     "name": "stdout",
     "output_type": "stream",
     "text": [
      "[LightGBM] [Warning] min_data_in_leaf is set=6, min_child_samples=20 will be ignored. Current value: min_data_in_leaf=6\n",
      "[LightGBM] [Warning] feature_fraction is set=0.8, colsample_bytree=1.0 will be ignored. Current value: feature_fraction=0.8\n",
      "[LightGBM] [Warning] bagging_fraction is set=0.8, subsample=1.0 will be ignored. Current value: bagging_fraction=0.8\n",
      "[LightGBM] [Warning] bagging_freq is set=0, subsample_freq=0 will be ignored. Current value: bagging_freq=0\n",
      "[LightGBM] [Warning] min_data_in_leaf is set=6, min_child_samples=20 will be ignored. Current value: min_data_in_leaf=6\n",
      "[LightGBM] [Warning] feature_fraction is set=0.8, colsample_bytree=1.0 will be ignored. Current value: feature_fraction=0.8\n",
      "[LightGBM] [Warning] bagging_fraction is set=0.8, subsample=1.0 will be ignored. Current value: bagging_fraction=0.8\n",
      "[LightGBM] [Warning] bagging_freq is set=0, subsample_freq=0 will be ignored. Current value: bagging_freq=0\n",
      "lightgbm模型的准确率: 0.8685714285714285\n",
      "lightgbm模型auc值: 0.8477225080998665\n"
     ]
    }
   ],
   "source": [
    "# 4.lightgbm\n",
    "y_pred_lgb = lgbm.predict_proba(test.drop('Attrition',axis=1))[:,1]\n",
    "# 模型准确率，ROC曲线\n",
    "print('lightgbm模型的准确率:',lgbm.score(test.drop('Attrition',axis=1),test['Attrition']))\n",
    "print('lightgbm模型auc值:',roc_auc_score(test['Attrition'],y_pred_lgb))"
   ],
   "metadata": {
    "collapsed": false,
    "ExecuteTime": {
     "end_time": "2025-01-13T03:52:20.261743300Z",
     "start_time": "2025-01-13T03:52:20.025836Z"
    }
   },
   "id": "87b2f21a6b438d6c"
  },
  {
   "cell_type": "code",
   "execution_count": 30,
   "outputs": [
    {
     "name": "stdout",
     "output_type": "stream",
     "text": [
      "[LightGBM] [Warning] min_data_in_leaf is set=6, min_child_samples=20 will be ignored. Current value: min_data_in_leaf=6\n",
      "[LightGBM] [Warning] feature_fraction is set=0.8, colsample_bytree=1.0 will be ignored. Current value: feature_fraction=0.8\n",
      "[LightGBM] [Warning] bagging_fraction is set=0.8, subsample=1.0 will be ignored. Current value: bagging_fraction=0.8\n",
      "[LightGBM] [Warning] bagging_freq is set=0, subsample_freq=0 will be ignored. Current value: bagging_freq=0\n",
      "lightgbm模型评估报告:\n",
      "               precision    recall  f1-score   support\n",
      "\n",
      "           0       0.89      0.97      0.93       297\n",
      "           1       0.64      0.30      0.41        53\n",
      "\n",
      "    accuracy                           0.87       350\n",
      "   macro avg       0.76      0.64      0.67       350\n",
      "weighted avg       0.85      0.87      0.85       350\n"
     ]
    }
   ],
   "source": [
    "# 评估报告\n",
    "y_predict = lgbm.predict(test.drop('Attrition',axis=1))\n",
    "print('lightgbm模型评估报告:\\n',classification_report(test['Attrition'],y_predict))"
   ],
   "metadata": {
    "collapsed": false,
    "ExecuteTime": {
     "end_time": "2025-01-13T03:52:20.271487300Z",
     "start_time": "2025-01-13T03:52:20.056995900Z"
    }
   },
   "id": "4cda00c768b21d18"
  },
  {
   "cell_type": "code",
   "execution_count": 31,
   "outputs": [
    {
     "name": "stdout",
     "output_type": "stream",
     "text": [
      "模型随机AUC值：\n",
      " 0.8117654532748872\n"
     ]
    }
   ],
   "source": [
    "# todo 用代价敏感class_weight = 'balanced'调整样本系数重新训练随机森林模型\n",
    "# 训练集x_train y_train 1100个样本\n",
    "# 测试集x_test y_test 350个样本\n",
    "# 参数 class_weight='balanced',用于处理数据不平衡的问题，默认为None\n",
    "rf = RandomForestClassifier(class_weight='balanced')\n",
    "rf.fit(x_train,y_train)\n",
    "# 模型决策树AUC值\n",
    "y_pred_rf = rf.predict_proba(test.drop('Attrition',axis=1))[:,1]\n",
    "print('模型随机AUC值：\\n',roc_auc_score(test['Attrition'],y_pred_rf))"
   ],
   "metadata": {
    "collapsed": false,
    "ExecuteTime": {
     "end_time": "2025-01-13T03:52:20.920271200Z",
     "start_time": "2025-01-13T03:52:20.084468500Z"
    }
   },
   "id": "dbd0c5fff5aad7ba"
  },
  {
   "cell_type": "code",
   "execution_count": 44,
   "outputs": [],
   "source": [
    "# 过采样后再次训练模型\n",
    "# 1.用lightGBM 拟合计算特征的重要性\n",
    "def lgb_test(x_train,y_train,x_test,y_test):\n",
    "    # 创建lgb对象\n",
    "    lgbm = LGBMClassifier(boosting_type='gbdt',\n",
    "                          objective='binary',\n",
    "                          metric='auc',\n",
    "                           learning_rate=0.05,\n",
    "                           n_estimators=20,\n",
    "                           max_depth=3,\n",
    "                           num_leaves=20,\n",
    "                          max_bin=45, # 允许的最大特征数\n",
    "                          min_data_in_leaf=5,\n",
    "                          bagging_fraction=0.6,\n",
    "                           bagging_freq=0\n",
    "    )\n",
    "    # 使用这个对象训练模型\n",
    "    lgbm.fit(x_train,y_train,eval_set=[(x_train,y_train),(x_test,y_test)],eval_metric='auc')\n",
    "    return lgbm,lgbm.best_score_['valid_1']['auc']"
   ],
   "metadata": {
    "collapsed": false,
    "ExecuteTime": {
     "end_time": "2025-01-13T07:49:44.900437700Z",
     "start_time": "2025-01-13T07:49:44.878279800Z"
    }
   },
   "id": "1d94188f84feb40d"
  },
  {
   "cell_type": "code",
   "execution_count": 45,
   "outputs": [
    {
     "name": "stdout",
     "output_type": "stream",
     "text": [
      "[LightGBM] [Warning] min_data_in_leaf is set=5, min_child_samples=20 will be ignored. Current value: min_data_in_leaf=5\n",
      "[LightGBM] [Warning] bagging_fraction is set=0.6, subsample=1.0 will be ignored. Current value: bagging_fraction=0.6\n",
      "[LightGBM] [Warning] bagging_freq is set=0, subsample_freq=0 will be ignored. Current value: bagging_freq=0\n",
      "[LightGBM] [Warning] min_data_in_leaf is set=5, min_child_samples=20 will be ignored. Current value: min_data_in_leaf=5\n",
      "[LightGBM] [Warning] bagging_fraction is set=0.6, subsample=1.0 will be ignored. Current value: bagging_fraction=0.6\n",
      "[LightGBM] [Warning] bagging_freq is set=0, subsample_freq=0 will be ignored. Current value: bagging_freq=0\n",
      "[LightGBM] [Info] Number of positive: 148, number of negative: 732\n",
      "[LightGBM] [Info] Auto-choosing col-wise multi-threading, the overhead of testing was 0.000607 seconds.\n",
      "You can set `force_col_wise=true` to remove the overhead.\n",
      "[LightGBM] [Info] Total Bins 369\n",
      "[LightGBM] [Info] Number of data points in the train set: 880, number of used features: 24\n",
      "[LightGBM] [Warning] min_data_in_leaf is set=5, min_child_samples=20 will be ignored. Current value: min_data_in_leaf=5\n",
      "[LightGBM] [Warning] bagging_fraction is set=0.6, subsample=1.0 will be ignored. Current value: bagging_fraction=0.6\n",
      "[LightGBM] [Warning] bagging_freq is set=0, subsample_freq=0 will be ignored. Current value: bagging_freq=0\n",
      "[LightGBM] [Info] [binary:BoostFromScore]: pavg=0.168182 -> initscore=-1.598568\n",
      "[LightGBM] [Info] Start training from score -1.598568\n",
      "[LightGBM] [Warning] No further splits with positive gain, best gain: -inf\n",
      "[LightGBM] [Warning] No further splits with positive gain, best gain: -inf\n",
      "[LightGBM] [Warning] No further splits with positive gain, best gain: -inf\n",
      "[LightGBM] [Warning] No further splits with positive gain, best gain: -inf\n",
      "[LightGBM] [Warning] No further splits with positive gain, best gain: -inf\n",
      "[LightGBM] [Warning] No further splits with positive gain, best gain: -inf\n",
      "[LightGBM] [Warning] No further splits with positive gain, best gain: -inf\n",
      "[LightGBM] [Warning] No further splits with positive gain, best gain: -inf\n",
      "[LightGBM] [Warning] No further splits with positive gain, best gain: -inf\n",
      "[LightGBM] [Warning] No further splits with positive gain, best gain: -inf\n",
      "[LightGBM] [Warning] No further splits with positive gain, best gain: -inf\n",
      "[LightGBM] [Warning] No further splits with positive gain, best gain: -inf\n",
      "[LightGBM] [Warning] No further splits with positive gain, best gain: -inf\n",
      "[LightGBM] [Warning] No further splits with positive gain, best gain: -inf\n",
      "[LightGBM] [Warning] No further splits with positive gain, best gain: -inf\n",
      "[LightGBM] [Warning] No further splits with positive gain, best gain: -inf\n",
      "[LightGBM] [Warning] No further splits with positive gain, best gain: -inf\n",
      "[LightGBM] [Warning] No further splits with positive gain, best gain: -inf\n",
      "[LightGBM] [Warning] No further splits with positive gain, best gain: -inf\n",
      "[LightGBM] [Warning] No further splits with positive gain, best gain: -inf\n"
     ]
    },
    {
     "data": {
      "text/plain": "                          importance\nname                                \nOverTime                          18\nStockOptionLevel                  14\nAge                               12\nYearsWithCurrManager              11\nMonthlyIncome                     11\nEnvironmentSatisfaction           10\nJobSatisfaction                    9\nDistanceFromHome                   9\nJobInvolvement                     8\nNumCompaniesWorked                 8\nJobRole                            6\nTotalWorkingYears                  6\nEmployeeNumber                     5\nEducationField                     4\nYearsAtCompany                     3\nYearsInCurrentRole                 2\nPercentSalaryHike                  2\nRelationshipSatisfaction           1\nTrainingTimesLastYear              1\nPerformanceRating                  0\nBusinessTravel                     0\nMaritalStatus                      0\nWorkLifeBalance                    0\nYearsSinceLastPromotion            0",
      "text/html": "<div>\n<style scoped>\n    .dataframe tbody tr th:only-of-type {\n        vertical-align: middle;\n    }\n\n    .dataframe tbody tr th {\n        vertical-align: top;\n    }\n\n    .dataframe thead th {\n        text-align: right;\n    }\n</style>\n<table border=\"1\" class=\"dataframe\">\n  <thead>\n    <tr style=\"text-align: right;\">\n      <th></th>\n      <th>importance</th>\n    </tr>\n    <tr>\n      <th>name</th>\n      <th></th>\n    </tr>\n  </thead>\n  <tbody>\n    <tr>\n      <th>OverTime</th>\n      <td>18</td>\n    </tr>\n    <tr>\n      <th>StockOptionLevel</th>\n      <td>14</td>\n    </tr>\n    <tr>\n      <th>Age</th>\n      <td>12</td>\n    </tr>\n    <tr>\n      <th>YearsWithCurrManager</th>\n      <td>11</td>\n    </tr>\n    <tr>\n      <th>MonthlyIncome</th>\n      <td>11</td>\n    </tr>\n    <tr>\n      <th>EnvironmentSatisfaction</th>\n      <td>10</td>\n    </tr>\n    <tr>\n      <th>JobSatisfaction</th>\n      <td>9</td>\n    </tr>\n    <tr>\n      <th>DistanceFromHome</th>\n      <td>9</td>\n    </tr>\n    <tr>\n      <th>JobInvolvement</th>\n      <td>8</td>\n    </tr>\n    <tr>\n      <th>NumCompaniesWorked</th>\n      <td>8</td>\n    </tr>\n    <tr>\n      <th>JobRole</th>\n      <td>6</td>\n    </tr>\n    <tr>\n      <th>TotalWorkingYears</th>\n      <td>6</td>\n    </tr>\n    <tr>\n      <th>EmployeeNumber</th>\n      <td>5</td>\n    </tr>\n    <tr>\n      <th>EducationField</th>\n      <td>4</td>\n    </tr>\n    <tr>\n      <th>YearsAtCompany</th>\n      <td>3</td>\n    </tr>\n    <tr>\n      <th>YearsInCurrentRole</th>\n      <td>2</td>\n    </tr>\n    <tr>\n      <th>PercentSalaryHike</th>\n      <td>2</td>\n    </tr>\n    <tr>\n      <th>RelationshipSatisfaction</th>\n      <td>1</td>\n    </tr>\n    <tr>\n      <th>TrainingTimesLastYear</th>\n      <td>1</td>\n    </tr>\n    <tr>\n      <th>PerformanceRating</th>\n      <td>0</td>\n    </tr>\n    <tr>\n      <th>BusinessTravel</th>\n      <td>0</td>\n    </tr>\n    <tr>\n      <th>MaritalStatus</th>\n      <td>0</td>\n    </tr>\n    <tr>\n      <th>WorkLifeBalance</th>\n      <td>0</td>\n    </tr>\n    <tr>\n      <th>YearsSinceLastPromotion</th>\n      <td>0</td>\n    </tr>\n  </tbody>\n</table>\n</div>"
     },
     "execution_count": 45,
     "metadata": {},
     "output_type": "execute_result"
    }
   ],
   "source": [
    "model,auc = lgb_test(x_train,y_train,test.drop('Attrition',axis=1),test['Attrition'])\n",
    "# 提取特征名称和特征重要性\n",
    "# 参数：feature_name() 返回模型的特征名称，feature_importance() 返回特征的重要性\n",
    "feature_importance_df = pd.DataFrame({'name': model.booster_.feature_name(),'importance': model.feature_importances_ }).set_index('name').sort_values('importance',ascending=False)\n",
    "feature_importance_df"
   ],
   "metadata": {
    "collapsed": false,
    "ExecuteTime": {
     "end_time": "2025-01-13T07:49:46.122471200Z",
     "start_time": "2025-01-13T07:49:46.070991Z"
    }
   },
   "id": "c41b69919a93b0db"
  },
  {
   "cell_type": "code",
   "execution_count": 46,
   "outputs": [
    {
     "ename": "KeyError",
     "evalue": "\"['Education', 'Gender', 'Department', 'JobLevel', 'Gender', 'Over18', 'StandardHours'] not found in axis\"",
     "output_type": "error",
     "traceback": [
      "\u001B[1;31m---------------------------------------------------------------------------\u001B[0m",
      "\u001B[1;31mKeyError\u001B[0m                                  Traceback (most recent call last)",
      "Cell \u001B[1;32mIn[46], line 3\u001B[0m\n\u001B[0;32m      1\u001B[0m \u001B[38;5;66;03m# 根据特征的重要性进行选取删除重要性特征值<10\u001B[39;00m\n\u001B[0;32m      2\u001B[0m drop_columns \u001B[38;5;241m=\u001B[39m [\u001B[38;5;124m'\u001B[39m\u001B[38;5;124mEducation\u001B[39m\u001B[38;5;124m'\u001B[39m,\u001B[38;5;124m'\u001B[39m\u001B[38;5;124mGender\u001B[39m\u001B[38;5;124m'\u001B[39m,\u001B[38;5;124m'\u001B[39m\u001B[38;5;124mDepartment\u001B[39m\u001B[38;5;124m'\u001B[39m,\u001B[38;5;124m'\u001B[39m\u001B[38;5;124mJobLevel\u001B[39m\u001B[38;5;124m'\u001B[39m,\u001B[38;5;124m'\u001B[39m\u001B[38;5;124mGender\u001B[39m\u001B[38;5;124m'\u001B[39m,\u001B[38;5;124m'\u001B[39m\u001B[38;5;124mOver18\u001B[39m\u001B[38;5;124m'\u001B[39m,\u001B[38;5;124m'\u001B[39m\u001B[38;5;124mStandardHours\u001B[39m\u001B[38;5;124m'\u001B[39m]\n\u001B[1;32m----> 3\u001B[0m x_train \u001B[38;5;241m=\u001B[39m x_train\u001B[38;5;241m.\u001B[39mdrop(columns \u001B[38;5;241m=\u001B[39m drop_columns,axis \u001B[38;5;241m=\u001B[39m \u001B[38;5;241m1\u001B[39m)\n\u001B[0;32m      4\u001B[0m test \u001B[38;5;241m=\u001B[39m test\u001B[38;5;241m.\u001B[39mdrop(columns \u001B[38;5;241m=\u001B[39m drop_columns,axis \u001B[38;5;241m=\u001B[39m \u001B[38;5;241m1\u001B[39m)\n",
      "File \u001B[1;32mD:\\Install\\anaconda3\\Lib\\site-packages\\pandas\\core\\frame.py:5581\u001B[0m, in \u001B[0;36mDataFrame.drop\u001B[1;34m(self, labels, axis, index, columns, level, inplace, errors)\u001B[0m\n\u001B[0;32m   5433\u001B[0m \u001B[38;5;28;01mdef\u001B[39;00m \u001B[38;5;21mdrop\u001B[39m(\n\u001B[0;32m   5434\u001B[0m     \u001B[38;5;28mself\u001B[39m,\n\u001B[0;32m   5435\u001B[0m     labels: IndexLabel \u001B[38;5;241m|\u001B[39m \u001B[38;5;28;01mNone\u001B[39;00m \u001B[38;5;241m=\u001B[39m \u001B[38;5;28;01mNone\u001B[39;00m,\n\u001B[1;32m   (...)\u001B[0m\n\u001B[0;32m   5442\u001B[0m     errors: IgnoreRaise \u001B[38;5;241m=\u001B[39m \u001B[38;5;124m\"\u001B[39m\u001B[38;5;124mraise\u001B[39m\u001B[38;5;124m\"\u001B[39m,\n\u001B[0;32m   5443\u001B[0m ) \u001B[38;5;241m-\u001B[39m\u001B[38;5;241m>\u001B[39m DataFrame \u001B[38;5;241m|\u001B[39m \u001B[38;5;28;01mNone\u001B[39;00m:\n\u001B[0;32m   5444\u001B[0m \u001B[38;5;250m    \u001B[39m\u001B[38;5;124;03m\"\"\"\u001B[39;00m\n\u001B[0;32m   5445\u001B[0m \u001B[38;5;124;03m    Drop specified labels from rows or columns.\u001B[39;00m\n\u001B[0;32m   5446\u001B[0m \n\u001B[1;32m   (...)\u001B[0m\n\u001B[0;32m   5579\u001B[0m \u001B[38;5;124;03m            weight  1.0     0.8\u001B[39;00m\n\u001B[0;32m   5580\u001B[0m \u001B[38;5;124;03m    \"\"\"\u001B[39;00m\n\u001B[1;32m-> 5581\u001B[0m     \u001B[38;5;28;01mreturn\u001B[39;00m \u001B[38;5;28msuper\u001B[39m()\u001B[38;5;241m.\u001B[39mdrop(\n\u001B[0;32m   5582\u001B[0m         labels\u001B[38;5;241m=\u001B[39mlabels,\n\u001B[0;32m   5583\u001B[0m         axis\u001B[38;5;241m=\u001B[39maxis,\n\u001B[0;32m   5584\u001B[0m         index\u001B[38;5;241m=\u001B[39mindex,\n\u001B[0;32m   5585\u001B[0m         columns\u001B[38;5;241m=\u001B[39mcolumns,\n\u001B[0;32m   5586\u001B[0m         level\u001B[38;5;241m=\u001B[39mlevel,\n\u001B[0;32m   5587\u001B[0m         inplace\u001B[38;5;241m=\u001B[39minplace,\n\u001B[0;32m   5588\u001B[0m         errors\u001B[38;5;241m=\u001B[39merrors,\n\u001B[0;32m   5589\u001B[0m     )\n",
      "File \u001B[1;32mD:\\Install\\anaconda3\\Lib\\site-packages\\pandas\\core\\generic.py:4788\u001B[0m, in \u001B[0;36mNDFrame.drop\u001B[1;34m(self, labels, axis, index, columns, level, inplace, errors)\u001B[0m\n\u001B[0;32m   4786\u001B[0m \u001B[38;5;28;01mfor\u001B[39;00m axis, labels \u001B[38;5;129;01min\u001B[39;00m axes\u001B[38;5;241m.\u001B[39mitems():\n\u001B[0;32m   4787\u001B[0m     \u001B[38;5;28;01mif\u001B[39;00m labels \u001B[38;5;129;01mis\u001B[39;00m \u001B[38;5;129;01mnot\u001B[39;00m \u001B[38;5;28;01mNone\u001B[39;00m:\n\u001B[1;32m-> 4788\u001B[0m         obj \u001B[38;5;241m=\u001B[39m obj\u001B[38;5;241m.\u001B[39m_drop_axis(labels, axis, level\u001B[38;5;241m=\u001B[39mlevel, errors\u001B[38;5;241m=\u001B[39merrors)\n\u001B[0;32m   4790\u001B[0m \u001B[38;5;28;01mif\u001B[39;00m inplace:\n\u001B[0;32m   4791\u001B[0m     \u001B[38;5;28mself\u001B[39m\u001B[38;5;241m.\u001B[39m_update_inplace(obj)\n",
      "File \u001B[1;32mD:\\Install\\anaconda3\\Lib\\site-packages\\pandas\\core\\generic.py:4830\u001B[0m, in \u001B[0;36mNDFrame._drop_axis\u001B[1;34m(self, labels, axis, level, errors, only_slice)\u001B[0m\n\u001B[0;32m   4828\u001B[0m         new_axis \u001B[38;5;241m=\u001B[39m axis\u001B[38;5;241m.\u001B[39mdrop(labels, level\u001B[38;5;241m=\u001B[39mlevel, errors\u001B[38;5;241m=\u001B[39merrors)\n\u001B[0;32m   4829\u001B[0m     \u001B[38;5;28;01melse\u001B[39;00m:\n\u001B[1;32m-> 4830\u001B[0m         new_axis \u001B[38;5;241m=\u001B[39m axis\u001B[38;5;241m.\u001B[39mdrop(labels, errors\u001B[38;5;241m=\u001B[39merrors)\n\u001B[0;32m   4831\u001B[0m     indexer \u001B[38;5;241m=\u001B[39m axis\u001B[38;5;241m.\u001B[39mget_indexer(new_axis)\n\u001B[0;32m   4833\u001B[0m \u001B[38;5;66;03m# Case for non-unique axis\u001B[39;00m\n\u001B[0;32m   4834\u001B[0m \u001B[38;5;28;01melse\u001B[39;00m:\n",
      "File \u001B[1;32mD:\\Install\\anaconda3\\Lib\\site-packages\\pandas\\core\\indexes\\base.py:7070\u001B[0m, in \u001B[0;36mIndex.drop\u001B[1;34m(self, labels, errors)\u001B[0m\n\u001B[0;32m   7068\u001B[0m \u001B[38;5;28;01mif\u001B[39;00m mask\u001B[38;5;241m.\u001B[39many():\n\u001B[0;32m   7069\u001B[0m     \u001B[38;5;28;01mif\u001B[39;00m errors \u001B[38;5;241m!=\u001B[39m \u001B[38;5;124m\"\u001B[39m\u001B[38;5;124mignore\u001B[39m\u001B[38;5;124m\"\u001B[39m:\n\u001B[1;32m-> 7070\u001B[0m         \u001B[38;5;28;01mraise\u001B[39;00m \u001B[38;5;167;01mKeyError\u001B[39;00m(\u001B[38;5;124mf\u001B[39m\u001B[38;5;124m\"\u001B[39m\u001B[38;5;132;01m{\u001B[39;00mlabels[mask]\u001B[38;5;241m.\u001B[39mtolist()\u001B[38;5;132;01m}\u001B[39;00m\u001B[38;5;124m not found in axis\u001B[39m\u001B[38;5;124m\"\u001B[39m)\n\u001B[0;32m   7071\u001B[0m     indexer \u001B[38;5;241m=\u001B[39m indexer[\u001B[38;5;241m~\u001B[39mmask]\n\u001B[0;32m   7072\u001B[0m \u001B[38;5;28;01mreturn\u001B[39;00m \u001B[38;5;28mself\u001B[39m\u001B[38;5;241m.\u001B[39mdelete(indexer)\n",
      "\u001B[1;31mKeyError\u001B[0m: \"['Education', 'Gender', 'Department', 'JobLevel', 'Gender', 'Over18', 'StandardHours'] not found in axis\""
     ]
    }
   ],
   "source": [
    "# 根据特征的重要性进行选取删除重要性特征值<10\n",
    "drop_columns = ['Education','Gender','Department','JobLevel','Gender','Over18','StandardHours']\n",
    "x_train = x_train.drop(columns = drop_columns,axis = 1)\n",
    "test = test.drop(columns = drop_columns,axis = 1)\n"
   ],
   "metadata": {
    "collapsed": false,
    "ExecuteTime": {
     "end_time": "2025-01-13T07:49:58.506378400Z",
     "start_time": "2025-01-13T07:49:56.277575900Z"
    }
   },
   "id": "aad017ef1c40e804"
  },
  {
   "cell_type": "code",
   "execution_count": 47,
   "outputs": [
    {
     "name": "stdout",
     "output_type": "stream",
     "text": [
      "删除不重要特征后，模型随机AUC值：\n",
      " 0.7392160599707769\n"
     ]
    },
    {
     "name": "stderr",
     "output_type": "stream",
     "text": [
      "D:\\Install\\anaconda3\\Lib\\site-packages\\sklearn\\linear_model\\_logistic.py:469: ConvergenceWarning: lbfgs failed to converge (status=1):\n",
      "STOP: TOTAL NO. of ITERATIONS REACHED LIMIT.\n",
      "\n",
      "Increase the number of iterations (max_iter) or scale the data as shown in:\n",
      "    https://scikit-learn.org/stable/modules/preprocessing.html\n",
      "Please also refer to the documentation for alternative solver options:\n",
      "    https://scikit-learn.org/stable/modules/linear_model.html#logistic-regression\n",
      "  n_iter_i = _check_optimize_result(\n"
     ]
    }
   ],
   "source": [
    "# 删除7个不重要特征后训练模型\n",
    "# 随机森林模型\n",
    "lr = LogisticRegression(C=0.1,class_weight='balanced')\n",
    "lr.fit(x_train,y_train)\n",
    "# 模型决策树AUC值\n",
    "y_pred_lr = lr.predict_proba(test.drop('Attrition',axis=1))[:,1]\n",
    "print('删除不重要特征后，模型随机AUC值：\\n',roc_auc_score(test['Attrition'],y_pred_lr))"
   ],
   "metadata": {
    "collapsed": false,
    "ExecuteTime": {
     "end_time": "2025-01-13T07:50:09.854796400Z",
     "start_time": "2025-01-13T07:50:09.772847500Z"
    }
   },
   "id": "a3516892831fe70f"
  },
  {
   "cell_type": "code",
   "execution_count": 36,
   "outputs": [
    {
     "name": "stdout",
     "output_type": "stream",
     "text": [
      "[LightGBM] [Warning] min_data_in_leaf is set=6, min_child_samples=20 will be ignored. Current value: min_data_in_leaf=6\n",
      "[LightGBM] [Warning] feature_fraction is set=0.8, colsample_bytree=1.0 will be ignored. Current value: feature_fraction=0.8\n",
      "[LightGBM] [Warning] bagging_fraction is set=0.6, subsample=1.0 will be ignored. Current value: bagging_fraction=0.6\n",
      "[LightGBM] [Warning] bagging_freq is set=0, subsample_freq=0 will be ignored. Current value: bagging_freq=0\n",
      "[LightGBM] [Warning] min_data_in_leaf is set=6, min_child_samples=20 will be ignored. Current value: min_data_in_leaf=6\n",
      "[LightGBM] [Warning] feature_fraction is set=0.8, colsample_bytree=1.0 will be ignored. Current value: feature_fraction=0.8\n",
      "[LightGBM] [Warning] bagging_fraction is set=0.6, subsample=1.0 will be ignored. Current value: bagging_fraction=0.6\n",
      "[LightGBM] [Warning] bagging_freq is set=0, subsample_freq=0 will be ignored. Current value: bagging_freq=0\n",
      "[LightGBM] [Info] Number of positive: 148, number of negative: 732\n",
      "[LightGBM] [Info] Auto-choosing row-wise multi-threading, the overhead of testing was 0.000732 seconds.\n",
      "You can set `force_row_wise=true` to remove the overhead.\n",
      "And if memory is not enough, you can set `force_col_wise=true`.\n",
      "[LightGBM] [Info] Total Bins 369\n",
      "[LightGBM] [Info] Number of data points in the train set: 880, number of used features: 24\n",
      "[LightGBM] [Info] [binary:BoostFromScore]: pavg=0.168182 -> initscore=-1.598568\n",
      "[LightGBM] [Info] Start training from score -1.598568\n",
      "[LightGBM] [Warning] No further splits with positive gain, best gain: -inf\n",
      "[LightGBM] [Warning] No further splits with positive gain, best gain: -inf\n",
      "[LightGBM] [Warning] No further splits with positive gain, best gain: -inf\n",
      "[LightGBM] [Warning] No further splits with positive gain, best gain: -inf\n",
      "[LightGBM] [Warning] No further splits with positive gain, best gain: -inf\n",
      "[LightGBM] [Warning] No further splits with positive gain, best gain: -inf\n",
      "[LightGBM] [Warning] No further splits with positive gain, best gain: -inf\n",
      "[LightGBM] [Warning] No further splits with positive gain, best gain: -inf\n",
      "[LightGBM] [Warning] No further splits with positive gain, best gain: -inf\n",
      "[LightGBM] [Warning] No further splits with positive gain, best gain: -inf\n",
      "[LightGBM] [Warning] No further splits with positive gain, best gain: -inf\n",
      "[LightGBM] [Warning] No further splits with positive gain, best gain: -inf\n",
      "[LightGBM] [Warning] No further splits with positive gain, best gain: -inf\n",
      "[LightGBM] [Warning] No further splits with positive gain, best gain: -inf\n",
      "[LightGBM] [Warning] No further splits with positive gain, best gain: -inf\n",
      "[LightGBM] [Warning] No further splits with positive gain, best gain: -inf\n",
      "[LightGBM] [Warning] No further splits with positive gain, best gain: -inf\n",
      "[LightGBM] [Warning] No further splits with positive gain, best gain: -inf\n",
      "[LightGBM] [Warning] No further splits with positive gain, best gain: -inf\n",
      "[LightGBM] [Warning] No further splits with positive gain, best gain: -inf\n",
      "[LightGBM] [Warning] No further splits with positive gain, best gain: -inf\n",
      "[LightGBM] [Warning] No further splits with positive gain, best gain: -inf\n",
      "[LightGBM] [Warning] No further splits with positive gain, best gain: -inf\n",
      "[LightGBM] [Warning] No further splits with positive gain, best gain: -inf\n",
      "[LightGBM] [Warning] No further splits with positive gain, best gain: -inf\n",
      "[LightGBM] [Warning] No further splits with positive gain, best gain: -inf\n",
      "[LightGBM] [Warning] No further splits with positive gain, best gain: -inf\n",
      "[LightGBM] [Warning] No further splits with positive gain, best gain: -inf\n",
      "[LightGBM] [Warning] No further splits with positive gain, best gain: -inf\n",
      "[LightGBM] [Warning] No further splits with positive gain, best gain: -inf\n",
      "[LightGBM] [Warning] No further splits with positive gain, best gain: -inf\n",
      "[LightGBM] [Warning] No further splits with positive gain, best gain: -inf\n",
      "[LightGBM] [Warning] No further splits with positive gain, best gain: -inf\n",
      "[LightGBM] [Warning] No further splits with positive gain, best gain: -inf\n",
      "[LightGBM] [Warning] No further splits with positive gain, best gain: -inf\n",
      "[LightGBM] [Warning] No further splits with positive gain, best gain: -inf\n",
      "[LightGBM] [Warning] No further splits with positive gain, best gain: -inf\n",
      "[LightGBM] [Warning] No further splits with positive gain, best gain: -inf\n",
      "[LightGBM] [Warning] No further splits with positive gain, best gain: -inf\n",
      "[LightGBM] [Warning] No further splits with positive gain, best gain: -inf\n",
      "[LightGBM] [Warning] No further splits with positive gain, best gain: -inf\n",
      "[LightGBM] [Warning] No further splits with positive gain, best gain: -inf\n",
      "[LightGBM] [Warning] No further splits with positive gain, best gain: -inf\n",
      "[LightGBM] [Warning] No further splits with positive gain, best gain: -inf\n",
      "[LightGBM] [Warning] No further splits with positive gain, best gain: -inf\n",
      "[LightGBM] [Warning] No further splits with positive gain, best gain: -inf\n",
      "[LightGBM] [Warning] No further splits with positive gain, best gain: -inf\n",
      "[LightGBM] [Warning] No further splits with positive gain, best gain: -inf\n",
      "[LightGBM] [Warning] No further splits with positive gain, best gain: -inf\n",
      "[LightGBM] [Warning] No further splits with positive gain, best gain: -inf\n",
      "[LightGBM] [Warning] No further splits with positive gain, best gain: -inf\n",
      "[LightGBM] [Warning] No further splits with positive gain, best gain: -inf\n",
      "[LightGBM] [Warning] No further splits with positive gain, best gain: -inf\n",
      "[LightGBM] [Warning] No further splits with positive gain, best gain: -inf\n",
      "[LightGBM] [Warning] No further splits with positive gain, best gain: -inf\n",
      "[LightGBM] [Warning] No further splits with positive gain, best gain: -inf\n",
      "[LightGBM] [Warning] No further splits with positive gain, best gain: -inf\n",
      "[LightGBM] [Warning] No further splits with positive gain, best gain: -inf\n",
      "[LightGBM] [Warning] No further splits with positive gain, best gain: -inf\n",
      "[LightGBM] [Warning] No further splits with positive gain, best gain: -inf\n",
      "[LightGBM] [Warning] No further splits with positive gain, best gain: -inf\n",
      "[LightGBM] [Warning] No further splits with positive gain, best gain: -inf\n",
      "[LightGBM] [Warning] No further splits with positive gain, best gain: -inf\n",
      "[LightGBM] [Warning] No further splits with positive gain, best gain: -inf\n",
      "[LightGBM] [Warning] No further splits with positive gain, best gain: -inf\n",
      "[LightGBM] [Warning] No further splits with positive gain, best gain: -inf\n",
      "[LightGBM] [Warning] No further splits with positive gain, best gain: -inf\n",
      "[LightGBM] [Warning] No further splits with positive gain, best gain: -inf\n",
      "[LightGBM] [Warning] No further splits with positive gain, best gain: -inf\n",
      "[LightGBM] [Warning] No further splits with positive gain, best gain: -inf\n",
      "[LightGBM] [Warning] No further splits with positive gain, best gain: -inf\n",
      "[LightGBM] [Warning] No further splits with positive gain, best gain: -inf\n",
      "[LightGBM] [Warning] No further splits with positive gain, best gain: -inf\n",
      "[LightGBM] [Warning] No further splits with positive gain, best gain: -inf\n",
      "[LightGBM] [Warning] No further splits with positive gain, best gain: -inf\n",
      "[LightGBM] [Warning] No further splits with positive gain, best gain: -inf\n",
      "[LightGBM] [Warning] No further splits with positive gain, best gain: -inf\n",
      "[LightGBM] [Warning] No further splits with positive gain, best gain: -inf\n",
      "[LightGBM] [Warning] No further splits with positive gain, best gain: -inf\n",
      "[LightGBM] [Warning] No further splits with positive gain, best gain: -inf\n",
      "[LightGBM] [Warning] No further splits with positive gain, best gain: -inf\n",
      "[LightGBM] [Warning] No further splits with positive gain, best gain: -inf\n",
      "[LightGBM] [Warning] No further splits with positive gain, best gain: -inf\n",
      "[LightGBM] [Warning] No further splits with positive gain, best gain: -inf\n",
      "[LightGBM] [Warning] No further splits with positive gain, best gain: -inf\n",
      "[LightGBM] [Warning] No further splits with positive gain, best gain: -inf\n",
      "[LightGBM] [Warning] No further splits with positive gain, best gain: -inf\n",
      "[LightGBM] [Warning] No further splits with positive gain, best gain: -inf\n",
      "[LightGBM] [Warning] No further splits with positive gain, best gain: -inf\n",
      "[LightGBM] [Warning] No further splits with positive gain, best gain: -inf\n",
      "[LightGBM] [Warning] No further splits with positive gain, best gain: -inf\n",
      "[LightGBM] [Warning] No further splits with positive gain, best gain: -inf\n",
      "[LightGBM] [Warning] No further splits with positive gain, best gain: -inf\n",
      "[LightGBM] [Warning] No further splits with positive gain, best gain: -inf\n",
      "[LightGBM] [Warning] No further splits with positive gain, best gain: -inf\n",
      "[LightGBM] [Warning] No further splits with positive gain, best gain: -inf\n",
      "[LightGBM] [Warning] No further splits with positive gain, best gain: -inf\n",
      "[LightGBM] [Warning] No further splits with positive gain, best gain: -inf\n",
      "[LightGBM] [Warning] No further splits with positive gain, best gain: -inf\n",
      "[LightGBM] [Warning] No further splits with positive gain, best gain: -inf\n",
      "[LightGBM] [Warning] min_data_in_leaf is set=6, min_child_samples=20 will be ignored. Current value: min_data_in_leaf=6\n",
      "[LightGBM] [Warning] feature_fraction is set=0.8, colsample_bytree=1.0 will be ignored. Current value: feature_fraction=0.8\n",
      "[LightGBM] [Warning] bagging_fraction is set=0.6, subsample=1.0 will be ignored. Current value: bagging_fraction=0.6\n",
      "[LightGBM] [Warning] bagging_freq is set=0, subsample_freq=0 will be ignored. Current value: bagging_freq=0\n",
      "删除不重要特征后，模型lightGBM AUC值：\n",
      " 0.8341909662664381\n"
     ]
    }
   ],
   "source": [
    "# lightGBM\n",
    "lgbm = LGBMClassifier(boosting_type = 'gbdt',objective = 'binary',metric = 'auc',\n",
    "\t\tlearning_rate = 0.3,n_estimators = 100,max_depth = 3,num_leaves = 20,\n",
    "\t\tmax_bin = 45,min_data_in_leaf = 6,bagging_fraction = 0.6,bagging_freq = 0,\n",
    "\t\tfeature_fraction = 0.8\n",
    ")\n",
    "lgbm.fit(x_train,y_train)\n",
    "# 模型决策树AUC值\n",
    "y_pred_lgbm = lgbm.predict_proba(test.drop('Attrition',axis=1))[:,1]\n",
    "print('删除不重要特征后，模型lightGBM AUC值：\\n',roc_auc_score(test['Attrition'],y_pred_lgbm))\n",
    "# todo 提升了一点点"
   ],
   "metadata": {
    "collapsed": false,
    "ExecuteTime": {
     "end_time": "2025-01-13T03:52:20.934998700Z",
     "start_time": "2025-01-13T03:52:20.745035400Z"
    }
   },
   "id": "a6f2c98856ac8726"
  },
  {
   "cell_type": "code",
   "execution_count": 37,
   "outputs": [
    {
     "name": "stdout",
     "output_type": "stream",
     "text": [
      "删除不重要特征后，模型GBDT AUC值：\n",
      " 0.8360968172288927\n"
     ]
    }
   ],
   "source": [
    "# GBDT\n",
    "gbdt = GradientBoostingClassifier()\n",
    "gbdt.fit(x_train,y_train)\n",
    "# 模型决策树AUC值\n",
    "y_pred_gbdt = gbdt.predict_proba(test.drop('Attrition',axis=1))[:,1]\n",
    "print('删除不重要特征后，模型GBDT AUC值：\\n',roc_auc_score(test['Attrition'],y_pred_gbdt))\n",
    "# todo 提升了一点点"
   ],
   "metadata": {
    "collapsed": false,
    "ExecuteTime": {
     "end_time": "2025-01-13T03:52:21.581448400Z",
     "start_time": "2025-01-13T03:52:20.905423900Z"
    }
   },
   "id": "4945cc77d83f50b2"
  },
  {
   "cell_type": "code",
   "execution_count": 38,
   "outputs": [
    {
     "name": "stdout",
     "output_type": "stream",
     "text": [
      "删除不重要特征后，模型xgBoost AUC值：\n",
      " 0.8287910552061496\n"
     ]
    }
   ],
   "source": [
    "# xgBoost\n",
    "xgb = XGBClassifier(n_estimators=100,eta = 0.1,random_state=21)\n",
    "xgb.fit(x_train,y_train)\n",
    "# 模型决策树AUC值\n",
    "y_pred_xgb = xgb.predict_proba(test.drop('Attrition',axis=1))[:,1]\n",
    "print('删除不重要特征后，模型xgBoost AUC值：\\n',roc_auc_score(test['Attrition'],y_pred_xgb))"
   ],
   "metadata": {
    "collapsed": false,
    "ExecuteTime": {
     "end_time": "2025-01-13T03:52:21.868144200Z",
     "start_time": "2025-01-13T03:52:21.536797400Z"
    }
   },
   "id": "8b597feff0b3f288"
  },
  {
   "cell_type": "code",
   "execution_count": 39,
   "outputs": [
    {
     "data": {
      "text/plain": "Attrition\n0    732\n1    148\nName: count, dtype: int64"
     },
     "execution_count": 39,
     "metadata": {},
     "output_type": "execute_result"
    }
   ],
   "source": [
    "# todo 过采样后 模型验证\n",
    "# 查看样本平衡情况\n",
    "y_train.value_counts()\n",
    "# todo 通过结论可知，需要做平衡处理\n"
   ],
   "metadata": {
    "collapsed": false,
    "ExecuteTime": {
     "end_time": "2025-01-13T03:52:21.872740900Z",
     "start_time": "2025-01-13T03:52:21.859583100Z"
    }
   },
   "id": "1cd9fb3f5e201672"
  },
  {
   "cell_type": "code",
   "execution_count": 40,
   "outputs": [
    {
     "data": {
      "text/plain": "Attrition\n0    297\n1     53\nName: count, dtype: int64"
     },
     "execution_count": 40,
     "metadata": {},
     "output_type": "execute_result"
    }
   ],
   "source": [
    "test['Attrition'].value_counts()"
   ],
   "metadata": {
    "collapsed": false,
    "ExecuteTime": {
     "end_time": "2025-01-13T03:52:21.914858500Z",
     "start_time": "2025-01-13T03:52:21.872740900Z"
    }
   },
   "id": "b5b1e69d2aa6f8d6"
  },
  {
   "cell_type": "code",
   "execution_count": 41,
   "outputs": [
    {
     "name": "stdout",
     "output_type": "stream",
     "text": [
      "[LightGBM] [Warning] min_data_in_leaf is set=5, min_child_samples=20 will be ignored. Current value: min_data_in_leaf=5\n",
      "[LightGBM] [Warning] bagging_fraction is set=0.6, subsample=1.0 will be ignored. Current value: bagging_fraction=0.6\n",
      "[LightGBM] [Warning] bagging_freq is set=0, subsample_freq=0 will be ignored. Current value: bagging_freq=0\n",
      "[LightGBM] [Warning] min_data_in_leaf is set=5, min_child_samples=20 will be ignored. Current value: min_data_in_leaf=5\n",
      "[LightGBM] [Warning] bagging_fraction is set=0.6, subsample=1.0 will be ignored. Current value: bagging_fraction=0.6\n",
      "[LightGBM] [Warning] bagging_freq is set=0, subsample_freq=0 will be ignored. Current value: bagging_freq=0\n",
      "[LightGBM] [Info] Number of positive: 148, number of negative: 732\n",
      "[LightGBM] [Info] Auto-choosing col-wise multi-threading, the overhead of testing was 0.000504 seconds.\n",
      "You can set `force_col_wise=true` to remove the overhead.\n",
      "[LightGBM] [Info] Total Bins 369\n",
      "[LightGBM] [Info] Number of data points in the train set: 880, number of used features: 24\n",
      "[LightGBM] [Warning] min_data_in_leaf is set=5, min_child_samples=20 will be ignored. Current value: min_data_in_leaf=5\n",
      "[LightGBM] [Warning] bagging_fraction is set=0.6, subsample=1.0 will be ignored. Current value: bagging_fraction=0.6\n",
      "[LightGBM] [Warning] bagging_freq is set=0, subsample_freq=0 will be ignored. Current value: bagging_freq=0\n",
      "[LightGBM] [Info] [binary:BoostFromScore]: pavg=0.168182 -> initscore=-1.598568\n",
      "[LightGBM] [Info] Start training from score -1.598568\n",
      "[LightGBM] [Warning] No further splits with positive gain, best gain: -inf\n",
      "[LightGBM] [Warning] No further splits with positive gain, best gain: -inf\n",
      "[LightGBM] [Warning] No further splits with positive gain, best gain: -inf\n",
      "[LightGBM] [Warning] No further splits with positive gain, best gain: -inf\n",
      "[LightGBM] [Warning] No further splits with positive gain, best gain: -inf\n",
      "[LightGBM] [Warning] No further splits with positive gain, best gain: -inf\n",
      "[LightGBM] [Warning] No further splits with positive gain, best gain: -inf\n",
      "[LightGBM] [Warning] No further splits with positive gain, best gain: -inf\n",
      "[LightGBM] [Warning] No further splits with positive gain, best gain: -inf\n",
      "[LightGBM] [Warning] No further splits with positive gain, best gain: -inf\n",
      "[LightGBM] [Warning] No further splits with positive gain, best gain: -inf\n",
      "[LightGBM] [Warning] No further splits with positive gain, best gain: -inf\n",
      "[LightGBM] [Warning] No further splits with positive gain, best gain: -inf\n",
      "[LightGBM] [Warning] No further splits with positive gain, best gain: -inf\n",
      "[LightGBM] [Warning] No further splits with positive gain, best gain: -inf\n",
      "[LightGBM] [Warning] No further splits with positive gain, best gain: -inf\n",
      "[LightGBM] [Warning] No further splits with positive gain, best gain: -inf\n",
      "[LightGBM] [Warning] No further splits with positive gain, best gain: -inf\n",
      "[LightGBM] [Warning] No further splits with positive gain, best gain: -inf\n",
      "[LightGBM] [Warning] No further splits with positive gain, best gain: -inf\n",
      "[LightGBM] [Warning] min_data_in_leaf is set=5, min_child_samples=20 will be ignored. Current value: min_data_in_leaf=5\n",
      "[LightGBM] [Warning] bagging_fraction is set=0.6, subsample=1.0 will be ignored. Current value: bagging_fraction=0.6\n",
      "[LightGBM] [Warning] bagging_freq is set=0, subsample_freq=0 will be ignored. Current value: bagging_freq=0\n"
     ]
    },
    {
     "data": {
      "text/plain": "     index  Age  BusinessTravel  DistanceFromHome  EducationField  \\\n0      113   26               2                24               5   \n1      110   19               0                10               3   \n2      879   19               2                22               2   \n3      105   25               1                24               1   \n4      618   25               2                19               2   \n..     ...  ...             ...               ...             ...   \n875    185   47               2                 2               3   \n876     30   38               2                 3               1   \n877    220   44               2                 7               3   \n878    497   48               1                 4               3   \n879    252   34               2                 1               2   \n\n     EmployeeNumber  EnvironmentSatisfaction  JobInvolvement  JobRole  \\\n0               622                        3               1        2   \n1              1248                        1               2        6   \n2               167                        4               3        8   \n3              1273                        3               1        8   \n4               952                        3               2        8   \n..              ...                      ...             ...      ...   \n875            1443                        1               3        5   \n876             307                        1               3        7   \n877              36                        1               2        0   \n878            1644                        3               2        3   \n879            1047                        2               4        7   \n\n     JobSatisfaction  ...  TotalWorkingYears  TrainingTimesLastYear  \\\n0                  4  ...                  1                      3   \n1                  2  ...                  1                      2   \n2                  3  ...                  0                      2   \n3                  4  ...                  1                      4   \n4                  2  ...                  1                      2   \n..               ...  ...                ...                    ...   \n875                3  ...                 26                      2   \n876                3  ...                 17                      6   \n877                4  ...                 24                      4   \n878                4  ...                 23                      3   \n879                4  ...                 16                      2   \n\n     WorkLifeBalance  YearsAtCompany  YearsInCurrentRole  \\\n0                  1               1                   0   \n1                  4               1                   1   \n2                  2               0                   0   \n3                  3               1                   0   \n4                  3               1                   0   \n..               ...             ...                 ...   \n875                4              20                  17   \n876                2              16                  10   \n877                3              22                   6   \n878                3               2                   2   \n879                2              15                   1   \n\n     YearsSinceLastPromotion  YearsWithCurrManager  bad_ind      pred  \\\n0                          0                     0        1  0.675475   \n1                          0                     0        1  0.620838   \n2                          0                     0        1  0.618156   \n3                          1                     0        1  0.606199   \n4                          0                     0        1  0.589274   \n..                       ...                   ...      ...       ...   \n875                        5                     6        0  0.087172   \n876                        5                    13        0  0.087172   \n877                        5                    17        0  0.087172   \n878                        2                     2        0  0.084944   \n879                        0                     9        0  0.084411   \n\n         rank  \n0    0.000000  \n1    0.001136  \n2    0.002273  \n3    0.003409  \n4    0.004545  \n..        ...  \n875  0.994318  \n876  0.995455  \n877  0.996591  \n878  0.997727  \n879  0.998864  \n\n[880 rows x 28 columns]",
      "text/html": "<div>\n<style scoped>\n    .dataframe tbody tr th:only-of-type {\n        vertical-align: middle;\n    }\n\n    .dataframe tbody tr th {\n        vertical-align: top;\n    }\n\n    .dataframe thead th {\n        text-align: right;\n    }\n</style>\n<table border=\"1\" class=\"dataframe\">\n  <thead>\n    <tr style=\"text-align: right;\">\n      <th></th>\n      <th>index</th>\n      <th>Age</th>\n      <th>BusinessTravel</th>\n      <th>DistanceFromHome</th>\n      <th>EducationField</th>\n      <th>EmployeeNumber</th>\n      <th>EnvironmentSatisfaction</th>\n      <th>JobInvolvement</th>\n      <th>JobRole</th>\n      <th>JobSatisfaction</th>\n      <th>...</th>\n      <th>TotalWorkingYears</th>\n      <th>TrainingTimesLastYear</th>\n      <th>WorkLifeBalance</th>\n      <th>YearsAtCompany</th>\n      <th>YearsInCurrentRole</th>\n      <th>YearsSinceLastPromotion</th>\n      <th>YearsWithCurrManager</th>\n      <th>bad_ind</th>\n      <th>pred</th>\n      <th>rank</th>\n    </tr>\n  </thead>\n  <tbody>\n    <tr>\n      <th>0</th>\n      <td>113</td>\n      <td>26</td>\n      <td>2</td>\n      <td>24</td>\n      <td>5</td>\n      <td>622</td>\n      <td>3</td>\n      <td>1</td>\n      <td>2</td>\n      <td>4</td>\n      <td>...</td>\n      <td>1</td>\n      <td>3</td>\n      <td>1</td>\n      <td>1</td>\n      <td>0</td>\n      <td>0</td>\n      <td>0</td>\n      <td>1</td>\n      <td>0.675475</td>\n      <td>0.000000</td>\n    </tr>\n    <tr>\n      <th>1</th>\n      <td>110</td>\n      <td>19</td>\n      <td>0</td>\n      <td>10</td>\n      <td>3</td>\n      <td>1248</td>\n      <td>1</td>\n      <td>2</td>\n      <td>6</td>\n      <td>2</td>\n      <td>...</td>\n      <td>1</td>\n      <td>2</td>\n      <td>4</td>\n      <td>1</td>\n      <td>1</td>\n      <td>0</td>\n      <td>0</td>\n      <td>1</td>\n      <td>0.620838</td>\n      <td>0.001136</td>\n    </tr>\n    <tr>\n      <th>2</th>\n      <td>879</td>\n      <td>19</td>\n      <td>2</td>\n      <td>22</td>\n      <td>2</td>\n      <td>167</td>\n      <td>4</td>\n      <td>3</td>\n      <td>8</td>\n      <td>3</td>\n      <td>...</td>\n      <td>0</td>\n      <td>2</td>\n      <td>2</td>\n      <td>0</td>\n      <td>0</td>\n      <td>0</td>\n      <td>0</td>\n      <td>1</td>\n      <td>0.618156</td>\n      <td>0.002273</td>\n    </tr>\n    <tr>\n      <th>3</th>\n      <td>105</td>\n      <td>25</td>\n      <td>1</td>\n      <td>24</td>\n      <td>1</td>\n      <td>1273</td>\n      <td>3</td>\n      <td>1</td>\n      <td>8</td>\n      <td>4</td>\n      <td>...</td>\n      <td>1</td>\n      <td>4</td>\n      <td>3</td>\n      <td>1</td>\n      <td>0</td>\n      <td>1</td>\n      <td>0</td>\n      <td>1</td>\n      <td>0.606199</td>\n      <td>0.003409</td>\n    </tr>\n    <tr>\n      <th>4</th>\n      <td>618</td>\n      <td>25</td>\n      <td>2</td>\n      <td>19</td>\n      <td>2</td>\n      <td>952</td>\n      <td>3</td>\n      <td>2</td>\n      <td>8</td>\n      <td>2</td>\n      <td>...</td>\n      <td>1</td>\n      <td>2</td>\n      <td>3</td>\n      <td>1</td>\n      <td>0</td>\n      <td>0</td>\n      <td>0</td>\n      <td>1</td>\n      <td>0.589274</td>\n      <td>0.004545</td>\n    </tr>\n    <tr>\n      <th>...</th>\n      <td>...</td>\n      <td>...</td>\n      <td>...</td>\n      <td>...</td>\n      <td>...</td>\n      <td>...</td>\n      <td>...</td>\n      <td>...</td>\n      <td>...</td>\n      <td>...</td>\n      <td>...</td>\n      <td>...</td>\n      <td>...</td>\n      <td>...</td>\n      <td>...</td>\n      <td>...</td>\n      <td>...</td>\n      <td>...</td>\n      <td>...</td>\n      <td>...</td>\n      <td>...</td>\n    </tr>\n    <tr>\n      <th>875</th>\n      <td>185</td>\n      <td>47</td>\n      <td>2</td>\n      <td>2</td>\n      <td>3</td>\n      <td>1443</td>\n      <td>1</td>\n      <td>3</td>\n      <td>5</td>\n      <td>3</td>\n      <td>...</td>\n      <td>26</td>\n      <td>2</td>\n      <td>4</td>\n      <td>20</td>\n      <td>17</td>\n      <td>5</td>\n      <td>6</td>\n      <td>0</td>\n      <td>0.087172</td>\n      <td>0.994318</td>\n    </tr>\n    <tr>\n      <th>876</th>\n      <td>30</td>\n      <td>38</td>\n      <td>2</td>\n      <td>3</td>\n      <td>1</td>\n      <td>307</td>\n      <td>1</td>\n      <td>3</td>\n      <td>7</td>\n      <td>3</td>\n      <td>...</td>\n      <td>17</td>\n      <td>6</td>\n      <td>2</td>\n      <td>16</td>\n      <td>10</td>\n      <td>5</td>\n      <td>13</td>\n      <td>0</td>\n      <td>0.087172</td>\n      <td>0.995455</td>\n    </tr>\n    <tr>\n      <th>877</th>\n      <td>220</td>\n      <td>44</td>\n      <td>2</td>\n      <td>7</td>\n      <td>3</td>\n      <td>36</td>\n      <td>1</td>\n      <td>2</td>\n      <td>0</td>\n      <td>4</td>\n      <td>...</td>\n      <td>24</td>\n      <td>4</td>\n      <td>3</td>\n      <td>22</td>\n      <td>6</td>\n      <td>5</td>\n      <td>17</td>\n      <td>0</td>\n      <td>0.087172</td>\n      <td>0.996591</td>\n    </tr>\n    <tr>\n      <th>878</th>\n      <td>497</td>\n      <td>48</td>\n      <td>1</td>\n      <td>4</td>\n      <td>3</td>\n      <td>1644</td>\n      <td>3</td>\n      <td>2</td>\n      <td>3</td>\n      <td>4</td>\n      <td>...</td>\n      <td>23</td>\n      <td>3</td>\n      <td>3</td>\n      <td>2</td>\n      <td>2</td>\n      <td>2</td>\n      <td>2</td>\n      <td>0</td>\n      <td>0.084944</td>\n      <td>0.997727</td>\n    </tr>\n    <tr>\n      <th>879</th>\n      <td>252</td>\n      <td>34</td>\n      <td>2</td>\n      <td>1</td>\n      <td>2</td>\n      <td>1047</td>\n      <td>2</td>\n      <td>4</td>\n      <td>7</td>\n      <td>4</td>\n      <td>...</td>\n      <td>16</td>\n      <td>2</td>\n      <td>2</td>\n      <td>15</td>\n      <td>1</td>\n      <td>0</td>\n      <td>9</td>\n      <td>0</td>\n      <td>0.084411</td>\n      <td>0.998864</td>\n    </tr>\n  </tbody>\n</table>\n<p>880 rows × 28 columns</p>\n</div>"
     },
     "execution_count": 41,
     "metadata": {},
     "output_type": "execute_result"
    }
   ],
   "source": [
    "# 用lightgbm 预测每个样本的概率，倒序排序\n",
    "lgb_model,lgb_auc = lgb_test(x_train,y_train,test.drop('Attrition',axis=1),test['Attrition'])\n",
    "# 模型预测\n",
    "sample = x_train.copy()\n",
    "sample['bad_ind'] = y_train\n",
    "sample['pred'] = lgb_model.predict_proba(x_train)[:,1]\n",
    "sample = sample.sort_values('pred',ascending=False).reset_index()\n",
    "sample['rank'] = sample.index.values/len(sample)\n",
    "sample"
   ],
   "metadata": {
    "collapsed": false,
    "ExecuteTime": {
     "end_time": "2025-01-13T04:05:37.884083800Z",
     "start_time": "2025-01-13T04:05:37.730883900Z"
    }
   },
   "id": "40959e6fcbe3626d"
  },
  {
   "cell_type": "code",
   "execution_count": 48,
   "outputs": [
    {
     "data": {
      "text/plain": "     index  Age  BusinessTravel  DistanceFromHome  EducationField  \\\n0      113   26               2                24               5   \n1      110   19               0                10               3   \n2      879   19               2                22               2   \n3      105   25               1                24               1   \n4      618   25               2                19               2   \n..     ...  ...             ...               ...             ...   \n875    185   47               2                 2               3   \n876     30   38               2                 3               1   \n877    220   44               2                 7               3   \n878    497   48               1                 4               3   \n879    252   34               2                 1               2   \n\n     EmployeeNumber  EnvironmentSatisfaction  JobInvolvement  JobRole  \\\n0               622                        3               1        2   \n1              1248                        1               2        6   \n2               167                        4               3        8   \n3              1273                        3               1        8   \n4               952                        3               2        8   \n..              ...                      ...             ...      ...   \n875            1443                        1               3        5   \n876             307                        1               3        7   \n877              36                        1               2        0   \n878            1644                        3               2        3   \n879            1047                        2               4        7   \n\n     JobSatisfaction  ...  TrainingTimesLastYear  WorkLifeBalance  \\\n0                  4  ...                      3                1   \n1                  2  ...                      2                4   \n2                  3  ...                      2                2   \n3                  4  ...                      4                3   \n4                  2  ...                      2                3   \n..               ...  ...                    ...              ...   \n875                3  ...                      2                4   \n876                3  ...                      6                2   \n877                4  ...                      4                3   \n878                4  ...                      3                3   \n879                4  ...                      2                2   \n\n     YearsAtCompany  YearsInCurrentRole  YearsSinceLastPromotion  \\\n0                 1                   0                        0   \n1                 1                   1                        0   \n2                 0                   0                        0   \n3                 1                   0                        1   \n4                 1                   0                        0   \n..              ...                 ...                      ...   \n875              20                  17                        5   \n876              16                  10                        5   \n877              22                   6                        5   \n878               2                   2                        2   \n879              15                   1                        0   \n\n     YearsWithCurrManager  bad_ind      pred      rank  weight  \n0                       0        1  0.675475  0.000000     1.0  \n1                       0        1  0.620838  0.001136     1.0  \n2                       0        1  0.618156  0.002273     1.0  \n3                       0        1  0.606199  0.003409     1.0  \n4                       0        1  0.589274  0.004545     1.0  \n..                    ...      ...       ...       ...     ...  \n875                     6        0  0.087172  0.994318     0.1  \n876                    13        0  0.087172  0.995455     0.1  \n877                    17        0  0.087172  0.996591     0.1  \n878                     2        0  0.084944  0.997727     0.1  \n879                     9        0  0.084411  0.998864     0.1  \n\n[880 rows x 29 columns]",
      "text/html": "<div>\n<style scoped>\n    .dataframe tbody tr th:only-of-type {\n        vertical-align: middle;\n    }\n\n    .dataframe tbody tr th {\n        vertical-align: top;\n    }\n\n    .dataframe thead th {\n        text-align: right;\n    }\n</style>\n<table border=\"1\" class=\"dataframe\">\n  <thead>\n    <tr style=\"text-align: right;\">\n      <th></th>\n      <th>index</th>\n      <th>Age</th>\n      <th>BusinessTravel</th>\n      <th>DistanceFromHome</th>\n      <th>EducationField</th>\n      <th>EmployeeNumber</th>\n      <th>EnvironmentSatisfaction</th>\n      <th>JobInvolvement</th>\n      <th>JobRole</th>\n      <th>JobSatisfaction</th>\n      <th>...</th>\n      <th>TrainingTimesLastYear</th>\n      <th>WorkLifeBalance</th>\n      <th>YearsAtCompany</th>\n      <th>YearsInCurrentRole</th>\n      <th>YearsSinceLastPromotion</th>\n      <th>YearsWithCurrManager</th>\n      <th>bad_ind</th>\n      <th>pred</th>\n      <th>rank</th>\n      <th>weight</th>\n    </tr>\n  </thead>\n  <tbody>\n    <tr>\n      <th>0</th>\n      <td>113</td>\n      <td>26</td>\n      <td>2</td>\n      <td>24</td>\n      <td>5</td>\n      <td>622</td>\n      <td>3</td>\n      <td>1</td>\n      <td>2</td>\n      <td>4</td>\n      <td>...</td>\n      <td>3</td>\n      <td>1</td>\n      <td>1</td>\n      <td>0</td>\n      <td>0</td>\n      <td>0</td>\n      <td>1</td>\n      <td>0.675475</td>\n      <td>0.000000</td>\n      <td>1.0</td>\n    </tr>\n    <tr>\n      <th>1</th>\n      <td>110</td>\n      <td>19</td>\n      <td>0</td>\n      <td>10</td>\n      <td>3</td>\n      <td>1248</td>\n      <td>1</td>\n      <td>2</td>\n      <td>6</td>\n      <td>2</td>\n      <td>...</td>\n      <td>2</td>\n      <td>4</td>\n      <td>1</td>\n      <td>1</td>\n      <td>0</td>\n      <td>0</td>\n      <td>1</td>\n      <td>0.620838</td>\n      <td>0.001136</td>\n      <td>1.0</td>\n    </tr>\n    <tr>\n      <th>2</th>\n      <td>879</td>\n      <td>19</td>\n      <td>2</td>\n      <td>22</td>\n      <td>2</td>\n      <td>167</td>\n      <td>4</td>\n      <td>3</td>\n      <td>8</td>\n      <td>3</td>\n      <td>...</td>\n      <td>2</td>\n      <td>2</td>\n      <td>0</td>\n      <td>0</td>\n      <td>0</td>\n      <td>0</td>\n      <td>1</td>\n      <td>0.618156</td>\n      <td>0.002273</td>\n      <td>1.0</td>\n    </tr>\n    <tr>\n      <th>3</th>\n      <td>105</td>\n      <td>25</td>\n      <td>1</td>\n      <td>24</td>\n      <td>1</td>\n      <td>1273</td>\n      <td>3</td>\n      <td>1</td>\n      <td>8</td>\n      <td>4</td>\n      <td>...</td>\n      <td>4</td>\n      <td>3</td>\n      <td>1</td>\n      <td>0</td>\n      <td>1</td>\n      <td>0</td>\n      <td>1</td>\n      <td>0.606199</td>\n      <td>0.003409</td>\n      <td>1.0</td>\n    </tr>\n    <tr>\n      <th>4</th>\n      <td>618</td>\n      <td>25</td>\n      <td>2</td>\n      <td>19</td>\n      <td>2</td>\n      <td>952</td>\n      <td>3</td>\n      <td>2</td>\n      <td>8</td>\n      <td>2</td>\n      <td>...</td>\n      <td>2</td>\n      <td>3</td>\n      <td>1</td>\n      <td>0</td>\n      <td>0</td>\n      <td>0</td>\n      <td>1</td>\n      <td>0.589274</td>\n      <td>0.004545</td>\n      <td>1.0</td>\n    </tr>\n    <tr>\n      <th>...</th>\n      <td>...</td>\n      <td>...</td>\n      <td>...</td>\n      <td>...</td>\n      <td>...</td>\n      <td>...</td>\n      <td>...</td>\n      <td>...</td>\n      <td>...</td>\n      <td>...</td>\n      <td>...</td>\n      <td>...</td>\n      <td>...</td>\n      <td>...</td>\n      <td>...</td>\n      <td>...</td>\n      <td>...</td>\n      <td>...</td>\n      <td>...</td>\n      <td>...</td>\n      <td>...</td>\n    </tr>\n    <tr>\n      <th>875</th>\n      <td>185</td>\n      <td>47</td>\n      <td>2</td>\n      <td>2</td>\n      <td>3</td>\n      <td>1443</td>\n      <td>1</td>\n      <td>3</td>\n      <td>5</td>\n      <td>3</td>\n      <td>...</td>\n      <td>2</td>\n      <td>4</td>\n      <td>20</td>\n      <td>17</td>\n      <td>5</td>\n      <td>6</td>\n      <td>0</td>\n      <td>0.087172</td>\n      <td>0.994318</td>\n      <td>0.1</td>\n    </tr>\n    <tr>\n      <th>876</th>\n      <td>30</td>\n      <td>38</td>\n      <td>2</td>\n      <td>3</td>\n      <td>1</td>\n      <td>307</td>\n      <td>1</td>\n      <td>3</td>\n      <td>7</td>\n      <td>3</td>\n      <td>...</td>\n      <td>6</td>\n      <td>2</td>\n      <td>16</td>\n      <td>10</td>\n      <td>5</td>\n      <td>13</td>\n      <td>0</td>\n      <td>0.087172</td>\n      <td>0.995455</td>\n      <td>0.1</td>\n    </tr>\n    <tr>\n      <th>877</th>\n      <td>220</td>\n      <td>44</td>\n      <td>2</td>\n      <td>7</td>\n      <td>3</td>\n      <td>36</td>\n      <td>1</td>\n      <td>2</td>\n      <td>0</td>\n      <td>4</td>\n      <td>...</td>\n      <td>4</td>\n      <td>3</td>\n      <td>22</td>\n      <td>6</td>\n      <td>5</td>\n      <td>17</td>\n      <td>0</td>\n      <td>0.087172</td>\n      <td>0.996591</td>\n      <td>0.1</td>\n    </tr>\n    <tr>\n      <th>878</th>\n      <td>497</td>\n      <td>48</td>\n      <td>1</td>\n      <td>4</td>\n      <td>3</td>\n      <td>1644</td>\n      <td>3</td>\n      <td>2</td>\n      <td>3</td>\n      <td>4</td>\n      <td>...</td>\n      <td>3</td>\n      <td>3</td>\n      <td>2</td>\n      <td>2</td>\n      <td>2</td>\n      <td>2</td>\n      <td>0</td>\n      <td>0.084944</td>\n      <td>0.997727</td>\n      <td>0.1</td>\n    </tr>\n    <tr>\n      <th>879</th>\n      <td>252</td>\n      <td>34</td>\n      <td>2</td>\n      <td>1</td>\n      <td>2</td>\n      <td>1047</td>\n      <td>2</td>\n      <td>4</td>\n      <td>7</td>\n      <td>4</td>\n      <td>...</td>\n      <td>2</td>\n      <td>2</td>\n      <td>15</td>\n      <td>1</td>\n      <td>0</td>\n      <td>9</td>\n      <td>0</td>\n      <td>0.084411</td>\n      <td>0.998864</td>\n      <td>0.1</td>\n    </tr>\n  </tbody>\n</table>\n<p>880 rows × 29 columns</p>\n</div>"
     },
     "execution_count": 48,
     "metadata": {},
     "output_type": "execute_result"
    }
   ],
   "source": [
    "def weight(x,y):\n",
    "    if x == 0 and y == 0.1:\n",
    "        return 0.1\n",
    "    elif x == 0 and y > 0.7:\n",
    "        return 0.1\n",
    "    else:\n",
    "        return 1\n",
    "sample['weight'] = sample.apply(lambda row: weight(row['bad_ind'],row['rank']),axis=1)\n",
    "sample"
   ],
   "metadata": {
    "collapsed": false,
    "ExecuteTime": {
     "end_time": "2025-01-13T08:02:42.098980200Z",
     "start_time": "2025-01-13T08:02:42.037609900Z"
    }
   },
   "id": "968ccb4074f9f442"
  },
  {
   "cell_type": "code",
   "execution_count": 49,
   "outputs": [
    {
     "data": {
      "text/plain": "(880, 29)"
     },
     "execution_count": 49,
     "metadata": {},
     "output_type": "execute_result"
    }
   ],
   "source": [
    "smote_sample = sample[sample.weight == 1]\n",
    "smote_sample = sample\n",
    "smote_sample.shape"
   ],
   "metadata": {
    "collapsed": false,
    "ExecuteTime": {
     "end_time": "2025-01-13T08:04:37.681342900Z",
     "start_time": "2025-01-13T08:04:37.627672200Z"
    }
   },
   "id": "58b8a2297fbde416"
  },
  {
   "cell_type": "code",
   "execution_count": 50,
   "outputs": [
    {
     "data": {
      "text/plain": "0      1\n1      1\n2      1\n3      1\n4      1\n      ..\n875    0\n876    0\n877    0\n878    0\n879    0\nName: bad_ind, Length: 880, dtype: int64"
     },
     "execution_count": 50,
     "metadata": {},
     "output_type": "execute_result"
    }
   ],
   "source": [
    "train_x_smote = smote_sample.drop(columns = ['bad_ind','pred','rank','weight'])\n",
    "train_x_smote = smote_sample['bad_ind']\n",
    "train_x_smote"
   ],
   "metadata": {
    "collapsed": false,
    "ExecuteTime": {
     "end_time": "2025-01-13T08:57:13.902133400Z",
     "start_time": "2025-01-13T08:57:13.817951500Z"
    }
   },
   "id": "b0875d01f2971a70"
  },
  {
   "cell_type": "code",
   "execution_count": null,
   "outputs": [],
   "source": [],
   "metadata": {
    "collapsed": false
   },
   "id": "fcaa31905d6aefec"
  }
 ],
 "metadata": {
  "kernelspec": {
   "display_name": "Python 3",
   "language": "python",
   "name": "python3"
  },
  "language_info": {
   "codemirror_mode": {
    "name": "ipython",
    "version": 2
   },
   "file_extension": ".py",
   "mimetype": "text/x-python",
   "name": "python",
   "nbconvert_exporter": "python",
   "pygments_lexer": "ipython2",
   "version": "2.7.6"
  }
 },
 "nbformat": 4,
 "nbformat_minor": 5
}
